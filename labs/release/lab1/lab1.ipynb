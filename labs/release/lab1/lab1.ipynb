{
 "cells": [
  {
   "cell_type": "markdown",
   "metadata": {},
   "source": [
    "# DSCI 551: Descriptive Statistics and Probability for Data Science\n",
    "# Lab 1"
   ]
  },
  {
   "cell_type": "markdown",
   "metadata": {
    "deletable": false,
    "editable": false,
    "nbgrader": {
     "cell_type": "markdown",
     "checksum": "a2c8af7e6bf1b37e6d840153636fb62f",
     "grade": false,
     "grade_id": "cell-8873cce658b4e0c1",
     "locked": true,
     "schema_version": 3,
     "solution": false,
     "task": false
    }
   },
   "source": [
    "# Submission instructions\n",
    "\n",
    "rubric={mechanics:5}\n",
    "- To submit this assignment, submit this Jupyter notebook `.ipynb` file completed with your answers.\n",
    "- Be sure to follow the [general lab instructions](https://ubc-mds.github.io/resources_pages/general_lab_instructions/).\n",
    "- Use proper English, spelling, and grammar throughout your submission.\n"
   ]
  },
  {
   "cell_type": "markdown",
   "metadata": {
    "deletable": false,
    "editable": false,
    "nbgrader": {
     "cell_type": "markdown",
     "checksum": "509cf7889eb5fdb2779a00d55999ebc8",
     "grade": false,
     "grade_id": "cell-ccb047117d795e3b",
     "locked": true,
     "schema_version": 3,
     "solution": false,
     "task": false
    }
   },
   "source": [
    "# Getting started\n",
    "If you are using the `\"testthat\"` package for the first time and have never installed it before, run the code below in a new code cell:\n",
    "\n",
    "`install.packages(\"testthat\")`"
   ]
  },
  {
   "cell_type": "code",
   "execution_count": null,
   "metadata": {},
   "outputs": [],
   "source": [
    "# Load necessary packages\n",
    "library(testthat)\n",
    "library(digest)"
   ]
  },
  {
   "cell_type": "code",
   "execution_count": null,
   "metadata": {},
   "outputs": [],
   "source": [
    "# This cell defines a function that tests your solutions\n",
    "nbtest <- function(answer, true.hash, tolerance=0) {\n",
    "    test_that(\"Failure.\", {\n",
    "        if (class(answer) == \"numeric\"){\n",
    "            expect_equal(digest(signif(answer,6)), true.hash, tolerance)\n",
    "        }\n",
    "        else {\n",
    "            expect_equal(digest(answer), true.hash, tolerance)\n",
    "        } \n",
    "    })\n",
    "   print(\"Success!\")\n",
    "}"
   ]
  },
  {
   "cell_type": "markdown",
   "metadata": {
    "deletable": false,
    "editable": false,
    "nbgrader": {
     "cell_type": "markdown",
     "checksum": "a8cea90a5064c7d64c076ba90c2f242a",
     "grade": false,
     "grade_id": "cell-893859ce47904a59",
     "locked": true,
     "schema_version": 3,
     "solution": false,
     "task": false
    }
   },
   "source": [
    "## Exercise 1\n",
    "rubric={autograde:5}\n",
    "\n",
    "Consider 3 events $A_1, A_2, A_3$.\n",
    "Suppose that $P(A_1)=0.12,$  $P(A_2)=0.07,$ $P(A_3)=0.05,$\n",
    "$P(A_1 \\cup A_2 )=0.13,$ $P(A_1 \\cap A_3 )=0.04,$ $P(A_2 \\cap A_3 )=0.01,$ and\n",
    "$P(A_1 \\cap A_2 \\cap A_3)=0.01.$\n",
    "\n",
    "Compute the following probabilities: \n",
    "\n",
    "1. $P(\\neg A_1)$ \n",
    "2. $P(A_1 \\cap A_2)$\n",
    "3. $P(A_1 \\cap A_2 \\cap \\neg A_3)$\n",
    "4. $P(\\neg (A_1 \\cup A_2 \\cup A_3))$\n",
    "5. The probability that at least two of the three events happen.\n",
    "\n",
    "**Hint: it may be helpful to draw a Venn diagram of the events.**"
   ]
  },
  {
   "cell_type": "code",
   "execution_count": null,
   "metadata": {
    "deletable": false,
    "nbgrader": {
     "cell_type": "code",
     "checksum": "1c3241a5fd2f64f3989f6b3cca312744",
     "grade": false,
     "grade_id": "cell-7e8432fb059a5a60",
     "locked": false,
     "schema_version": 3,
     "solution": true
    }
   },
   "outputs": [],
   "source": [
    "# replace NULL with the answer to each question\n",
    "# your code here\n",
    "fail() # No Answer - remove if you provide an answer\n",
    "answer_1.1  <- NULL\n",
    "# your code here\n",
    "fail() # No Answer - remove if you provide an answer\n",
    "answer_1.2  <- NULL\n",
    "# your code here\n",
    "fail() # No Answer - remove if you provide an answer\n",
    "answer_1.3  <- NULL\n",
    "# your code here\n",
    "fail() # No Answer - remove if you provide an answer\n",
    "answer_1.4  <- NULL\n",
    "# your code here\n",
    "fail() # No Answer - remove if you provide an answer\n",
    "answer_1.5  <- NULL"
   ]
  },
  {
   "cell_type": "code",
   "execution_count": null,
   "metadata": {
    "deletable": false,
    "editable": false,
    "nbgrader": {
     "cell_type": "code",
     "checksum": "c327de8689aeffe7cc72bc028ef580ce",
     "grade": true,
     "grade_id": "cell-ac614d388741ce71",
     "locked": true,
     "points": 1,
     "schema_version": 3,
     "solution": false
    }
   },
   "outputs": [],
   "source": [
    "nbtest(answer_1.1,'78c860cf185d5c870193d8654a5010cc')"
   ]
  },
  {
   "cell_type": "code",
   "execution_count": null,
   "metadata": {
    "deletable": false,
    "editable": false,
    "nbgrader": {
     "cell_type": "code",
     "checksum": "926a03ec75470d4b865853f923937dff",
     "grade": true,
     "grade_id": "cell-b469c8347a3c67e7",
     "locked": true,
     "points": 1,
     "schema_version": 3,
     "solution": false
    }
   },
   "outputs": [],
   "source": [
    "nbtest(answer_1.2,'aac62a0390a4ebd30bc133c8e3b21ef4')"
   ]
  },
  {
   "cell_type": "code",
   "execution_count": null,
   "metadata": {
    "deletable": false,
    "editable": false,
    "nbgrader": {
     "cell_type": "code",
     "checksum": "eae5134afba37da96703283e1ba0c253",
     "grade": true,
     "grade_id": "cell-ab9082df4b4a1c4b",
     "locked": true,
     "points": 1,
     "schema_version": 3,
     "solution": false
    }
   },
   "outputs": [],
   "source": [
    "nbtest(answer_1.3,'e521ed5596735d8b4b29f83c57f471b5')"
   ]
  },
  {
   "cell_type": "code",
   "execution_count": null,
   "metadata": {
    "deletable": false,
    "editable": false,
    "nbgrader": {
     "cell_type": "code",
     "checksum": "80f3dffafd69dce3725f9d5a7bdd542a",
     "grade": true,
     "grade_id": "cell-2f71c43ce52c340e",
     "locked": true,
     "points": 1,
     "schema_version": 3,
     "solution": false
    }
   },
   "outputs": [],
   "source": [
    "nbtest(answer_1.4,'17510f1c35f73387c74b7373df4322dd')"
   ]
  },
  {
   "cell_type": "code",
   "execution_count": null,
   "metadata": {
    "deletable": false,
    "editable": false,
    "nbgrader": {
     "cell_type": "code",
     "checksum": "fa774427d8a5ffb8071cda245e82fc22",
     "grade": true,
     "grade_id": "cell-c8057de053cae940",
     "locked": true,
     "points": 1,
     "schema_version": 3,
     "solution": false
    }
   },
   "outputs": [],
   "source": [
    "nbtest(answer_1.5,'6a1559ccb503c66a3a9e68c012eb9baa')"
   ]
  },
  {
   "cell_type": "markdown",
   "metadata": {
    "deletable": false,
    "editable": false,
    "nbgrader": {
     "cell_type": "markdown",
     "checksum": "efef35f4e322e1e2d5bac9bb29a5bc12",
     "grade": false,
     "grade_id": "cell-872f562583a17a46",
     "locked": true,
     "schema_version": 3,
     "solution": false,
     "task": false
    }
   },
   "source": [
    "## Exercise 2\n",
    "\n",
    "Suppose a slot machine costs \\\\$5 to play (call one pull of the lever a \"game\"). You win nothing with probability 0.9, \\\\$10 with probability 0.09, and \\\\$50 with probability 0.01. Let $X$ be the net gain in one game. Then $X$ has the following distribution:\n",
    "\n",
    "| $X$ (outcome of a game) | -\\\\$5 | \\\\$5 | \\\\$45 |\n",
    "| ---                     | --    | --   | --    |\n",
    "| Probability             | 0.9   | 0.09 | 0.01  |\n",
    "\n",
    "### 2(a)\n",
    "rubric={autograde:4,correctness:2}\n",
    "\n",
    "Find the following quantities: \n",
    "1. $E(X)$\n",
    "2. $P(X=E(X))$, i.e. the probability that you achieve the average outcome in a single game?\n",
    "3. $P(X<0)$, i.e. the probability of losing money in a game?\n",
    "4. (optional) The median of $X$.\n",
    "5. (optional) The 0.995-quantile of $X$.\n",
    "6. The mode of $X$.\n",
    "\n",
    "Again, replace NULL with your answer to each question. \n"
   ]
  },
  {
   "cell_type": "code",
   "execution_count": null,
   "metadata": {
    "deletable": false,
    "nbgrader": {
     "cell_type": "code",
     "checksum": "6c8d48a10f84e55aa5e2047f745de8f2",
     "grade": false,
     "grade_id": "cell-6e944ba3cabae369",
     "locked": false,
     "schema_version": 3,
     "solution": true
    }
   },
   "outputs": [],
   "source": [
    "# replace NULL with the answer to each question\n",
    "# your code here\n",
    "fail() # No Answer - remove if you provide an answer\n",
    "answer_2a.1  <- NULL\n",
    "# your code here\n",
    "fail() # No Answer - remove if you provide an answer\n",
    "answer_2a.2  <- NULL\n",
    "# your code here\n",
    "fail() # No Answer - remove if you provide an answer\n",
    "answer_2a.3  <- NULL\n",
    "# your code here\n",
    "fail() # No Answer - remove if you provide an answer\n",
    "answer_2a.6  <- NULL"
   ]
  },
  {
   "cell_type": "code",
   "execution_count": null,
   "metadata": {
    "deletable": false,
    "editable": false,
    "nbgrader": {
     "cell_type": "code",
     "checksum": "384b93a7da008de4ea63caaa54b83fe5",
     "grade": true,
     "grade_id": "cell-120a1fd54dcea30a",
     "locked": true,
     "points": 1,
     "schema_version": 3,
     "solution": false
    }
   },
   "outputs": [],
   "source": [
    "nbtest(answer_2a.1,'d66748df863de710fb11504ba3e75d38')"
   ]
  },
  {
   "cell_type": "code",
   "execution_count": null,
   "metadata": {
    "deletable": false,
    "editable": false,
    "nbgrader": {
     "cell_type": "code",
     "checksum": "0137088e418601cae7461070ce85cf8d",
     "grade": true,
     "grade_id": "cell-624d594c39aa740c",
     "locked": true,
     "points": 1,
     "schema_version": 3,
     "solution": false
    }
   },
   "outputs": [],
   "source": [
    "nbtest(answer_2a.2,'908d1fd10b357ed0ceaaec823abf81bc')"
   ]
  },
  {
   "cell_type": "code",
   "execution_count": null,
   "metadata": {
    "deletable": false,
    "editable": false,
    "nbgrader": {
     "cell_type": "code",
     "checksum": "5e0684582cdbd62134f3a30b7abf1c9e",
     "grade": true,
     "grade_id": "cell-6feb31135e8d0d49",
     "locked": true,
     "points": 1,
     "schema_version": 3,
     "solution": false
    }
   },
   "outputs": [],
   "source": [
    "nbtest(answer_2a.3,'44a0f6df00182c825086d3d8225b2394')"
   ]
  },
  {
   "cell_type": "code",
   "execution_count": null,
   "metadata": {
    "deletable": false,
    "editable": false,
    "nbgrader": {
     "cell_type": "code",
     "checksum": "142a60c58f33fde81a2d5094bf53a240",
     "grade": true,
     "grade_id": "cell-c46c4932e0f1bcc9",
     "locked": true,
     "points": 1,
     "schema_version": 3,
     "solution": false
    }
   },
   "outputs": [],
   "source": [
    "nbtest(answer_2a.6,'24bc7e137af61b689875e4abfdbac9ad')"
   ]
  },
  {
   "cell_type": "markdown",
   "metadata": {
    "deletable": false,
    "nbgrader": {
     "cell_type": "markdown",
     "checksum": "9bbf056f0e880117e1e4b5508b4122f9",
     "grade": true,
     "grade_id": "cell-02a7ad40dd64e89e",
     "locked": false,
     "points": 0,
     "schema_version": 3,
     "solution": true,
     "task": false
    }
   },
   "source": [
    "Provide answer to question **2a.4** below.\n",
    "\n",
    "YOUR ANSWER HERE\n"
   ]
  },
  {
   "cell_type": "markdown",
   "metadata": {
    "deletable": false,
    "nbgrader": {
     "cell_type": "markdown",
     "checksum": "26bdc8b4ffcb3ef2cd27108452eb7f1f",
     "grade": true,
     "grade_id": "cell-c9e8cf3a2828e587",
     "locked": false,
     "points": 0,
     "schema_version": 3,
     "solution": true,
     "task": false
    }
   },
   "source": [
    "Provide answer to question **2a.5** below.\n",
    "\n",
    "YOUR ANSWER HERE"
   ]
  },
  {
   "cell_type": "markdown",
   "metadata": {
    "deletable": false,
    "editable": false,
    "nbgrader": {
     "cell_type": "markdown",
     "checksum": "0648e66ac09fc7d52b9c7b14e8b9d899",
     "grade": false,
     "grade_id": "cell-348b82cf5024a1fa",
     "locked": true,
     "schema_version": 3,
     "solution": false,
     "task": false
    }
   },
   "source": [
    "### 2(b)\n",
    "rubric={autograde:3}\n",
    "\n",
    "Now suppose you play the game 100 times. Assuming we have an infinite supply of money (so that we can always afford to play the game), the net outcome after 100 games can be written as a new random variable, $Z=\\sum_{i=1}^{100} X_i$ where $X_i$ are independent and identically distributed (iid) random variables with the same distribution as $X$. (We'll talk a lot more about \"iid\" variables in MDS; for now it's safe to ignore the \"independent\" part and just think of the $X_i$ as random variables with the same distribution as $X$.)\n",
    "\n",
    "Find the following quantities:\n",
    "\n",
    "1. The maximum value of $Z$.\n",
    "2. The minimum value of $Z$.\n",
    "3. $E(Z)$."
   ]
  },
  {
   "cell_type": "code",
   "execution_count": null,
   "metadata": {
    "deletable": false,
    "nbgrader": {
     "cell_type": "code",
     "checksum": "58428573c32e00aacaabfeed1de730a2",
     "grade": false,
     "grade_id": "cell-2351d709b86c898a",
     "locked": false,
     "schema_version": 3,
     "solution": true
    }
   },
   "outputs": [],
   "source": [
    "# Replace NULL with your answer to each question\n",
    "# your code here\n",
    "fail() # No Answer - remove if you provide an answer\n",
    "answer_2b.1  <- NULL\n",
    "# your code here\n",
    "fail() # No Answer - remove if you provide an answer\n",
    "answer_2b.2  <- NULL\n",
    "# your code here\n",
    "fail() # No Answer - remove if you provide an answer\n",
    "answer_2b.3  <- NULL"
   ]
  },
  {
   "cell_type": "code",
   "execution_count": null,
   "metadata": {
    "deletable": false,
    "editable": false,
    "nbgrader": {
     "cell_type": "code",
     "checksum": "7f12d0a4248dad8527eb61e9e78816f2",
     "grade": true,
     "grade_id": "cell-4a6fad611c20b24d",
     "locked": true,
     "points": 1,
     "schema_version": 3,
     "solution": false
    }
   },
   "outputs": [],
   "source": [
    "nbtest(answer_2b.1,'ade3a57d5b8bfcb2b8aac4e85a93c941')"
   ]
  },
  {
   "cell_type": "code",
   "execution_count": null,
   "metadata": {
    "deletable": false,
    "editable": false,
    "nbgrader": {
     "cell_type": "code",
     "checksum": "0cf2d8a1230c597bcf753f9fcab7d47c",
     "grade": true,
     "grade_id": "cell-53877c54899abd71",
     "locked": true,
     "points": 1,
     "schema_version": 3,
     "solution": false
    }
   },
   "outputs": [],
   "source": [
    "nbtest(answer_2b.2,'dffc43e7028ff2d3605dc21a31104a1c')"
   ]
  },
  {
   "cell_type": "code",
   "execution_count": null,
   "metadata": {
    "deletable": false,
    "editable": false,
    "nbgrader": {
     "cell_type": "code",
     "checksum": "76eefc20ca732320747c6c28061901c4",
     "grade": true,
     "grade_id": "cell-c1b1db7daebae08e",
     "locked": true,
     "points": 1,
     "schema_version": 3,
     "solution": false
    }
   },
   "outputs": [],
   "source": [
    "nbtest(answer_2b.3,'0a2b2c3b572db73b98dbd97701863742')"
   ]
  },
  {
   "cell_type": "markdown",
   "metadata": {
    "deletable": false,
    "editable": false,
    "nbgrader": {
     "cell_type": "markdown",
     "checksum": "57abf65e1df45dd5abf14f55f71c9302",
     "grade": false,
     "grade_id": "cell-3eb72661c28c58d9",
     "locked": true,
     "schema_version": 3,
     "solution": false,
     "task": false
    }
   },
   "source": [
    "### (Optional) 2(c)\n",
    "rubric={reasoning:1}\n",
    "\n",
    "Assume you started with exactly \\$50, rather than an infinite supply, and that you keep playing the game until you run out of money. What is the probability that you will play at least 13 games? Be sure to include your reasoning."
   ]
  },
  {
   "cell_type": "markdown",
   "metadata": {
    "deletable": false,
    "nbgrader": {
     "cell_type": "markdown",
     "checksum": "19f6f28a547fd77bf01d5237e75ec7c3",
     "grade": true,
     "grade_id": "cell-539fcc05d421aff5",
     "locked": false,
     "points": 0,
     "schema_version": 3,
     "solution": true
    }
   },
   "source": [
    "Provide answer to question **2c** below.\n",
    "\n",
    "YOUR ANSWER HERE\n"
   ]
  },
  {
   "cell_type": "markdown",
   "metadata": {
    "deletable": false,
    "editable": false,
    "nbgrader": {
     "cell_type": "markdown",
     "checksum": "9bb59947c38adacc6d4bc1ea6d3de293",
     "grade": false,
     "grade_id": "cell-69279c8853fa0f49",
     "locked": true,
     "schema_version": 3,
     "solution": false,
     "task": false
    }
   },
   "source": [
    "## Exercise 3\n",
    "rubric={autograde:10,reasoning:1}\n",
    "\n",
    "Let $X$ be a discrete r.v. defined on the positive integers ($1,2,3,\\ldots$), with the following pmf: $P(X=i)=C/i^2$, for some normalizing constant $C$. \n",
    "\n",
    "(For those who are interested, it turns out that $C=6/\\pi^2\\approx 0.61$. We could have at least reasoned that $C<1$, since otherwise we'd have $P(X=1)\\geq 1$, which doesn't make sense.)\n",
    "\n",
    "Find the following quantities:\n",
    "\n",
    "1. $P(X<5)$\n",
    "2. $(P(X<5))^2$\n",
    "3. $P(X > 2 \\cup X < 4)$\n",
    "4. $P(X < 2 \\cup X < 4)$\n",
    "5. $P(X > 2 \\cup X > 4)$\n",
    "6. $P(X < 2 \\cup X > 4)$\n",
    "7. $P(X > 2 \\cap X < 4)$\n",
    "8. $P(X < 2 \\cap X < 4)$\n",
    "9. $P(X > 2 \\cap X > 4)$\n",
    "10. $P(X < 2 \\cap X > 4)$\n",
    "11. (Optional) $E(X)$"
   ]
  },
  {
   "cell_type": "code",
   "execution_count": null,
   "metadata": {
    "deletable": false,
    "nbgrader": {
     "cell_type": "code",
     "checksum": "73416e66919ebb6beec667fa43829d74",
     "grade": false,
     "grade_id": "cell-de277138b91f91fb",
     "locked": false,
     "schema_version": 3,
     "solution": true
    }
   },
   "outputs": [],
   "source": [
    "C  <- 6/pi^2 # Where appropriate, write your answers in terms of C\n",
    "\n",
    "# your code here\n",
    "fail() # No Answer - remove if you provide an answer\n",
    "answer_3.01  <- NULL \n",
    "# your code here\n",
    "fail() # No Answer - remove if you provide an answer\n",
    "answer_3.02  <- NULL\n",
    "# your code here\n",
    "fail() # No Answer - remove if you provide an answer\n",
    "answer_3.03  <- NULL\n",
    "# your code here\n",
    "fail() # No Answer - remove if you provide an answer\n",
    "answer_3.04  <- NULL\n",
    "# your code here\n",
    "fail() # No Answer - remove if you provide an answer\n",
    "answer_3.05  <- NULL\n",
    "# your code here\n",
    "fail() # No Answer - remove if you provide an answer\n",
    "answer_3.06 <- NULL\n",
    "# your code here\n",
    "fail() # No Answer - remove if you provide an answer\n",
    "answer_3.07  <- NULL\n",
    "# your code here\n",
    "fail() # No Answer - remove if you provide an answer\n",
    "answer_3.08  <- NULL\n",
    "# your code here\n",
    "fail() # No Answer - remove if you provide an answer\n",
    "answer_3.09  <- NULL\n",
    "# your code here\n",
    "fail() # No Answer - remove if you provide an answer\n",
    "answer_3.10  <- NULL"
   ]
  },
  {
   "cell_type": "markdown",
   "metadata": {
    "deletable": false,
    "nbgrader": {
     "cell_type": "markdown",
     "checksum": "4de788716ef7c5c3b653352d5e1992f2",
     "grade": true,
     "grade_id": "cell-7a89c776a966fd12",
     "locked": false,
     "points": 0,
     "schema_version": 3,
     "solution": true
    }
   },
   "source": [
    "Provide answer for **3.11** below.\n",
    "\n",
    "YOUR ANSWER HERE"
   ]
  },
  {
   "cell_type": "code",
   "execution_count": null,
   "metadata": {
    "deletable": false,
    "editable": false,
    "nbgrader": {
     "cell_type": "code",
     "checksum": "64736751037433b99321dad328c979cc",
     "grade": true,
     "grade_id": "cell-f2ca7f83367fe04c",
     "locked": true,
     "points": 1,
     "schema_version": 3,
     "solution": false
    }
   },
   "outputs": [],
   "source": [
    "nbtest(answer_3.01,'8aa1b5b74004b6589fc8896571405655')"
   ]
  },
  {
   "cell_type": "code",
   "execution_count": null,
   "metadata": {
    "deletable": false,
    "editable": false,
    "nbgrader": {
     "cell_type": "code",
     "checksum": "2101250ede8e0dfb49b74d9d5328958d",
     "grade": true,
     "grade_id": "cell-b31d05beb6e65f42",
     "locked": true,
     "points": 1,
     "schema_version": 3,
     "solution": false
    }
   },
   "outputs": [],
   "source": [
    "nbtest(answer_3.02,'47c10da165b8ff612ba030908768f052')"
   ]
  },
  {
   "cell_type": "code",
   "execution_count": null,
   "metadata": {
    "deletable": false,
    "editable": false,
    "nbgrader": {
     "cell_type": "code",
     "checksum": "e9faaac15467a0e0d4c30e165a7b295a",
     "grade": true,
     "grade_id": "cell-5ea2d950049b5be4",
     "locked": true,
     "points": 1,
     "schema_version": 3,
     "solution": false
    }
   },
   "outputs": [],
   "source": [
    "nbtest(answer_3.03,'6717f2823d3202449301145073ab8719')"
   ]
  },
  {
   "cell_type": "code",
   "execution_count": null,
   "metadata": {
    "deletable": false,
    "editable": false,
    "nbgrader": {
     "cell_type": "code",
     "checksum": "138cfdba51cee581ac6907483efe9eee",
     "grade": true,
     "grade_id": "cell-2d97a30a4a0d2abb",
     "locked": true,
     "points": 1,
     "schema_version": 3,
     "solution": false
    }
   },
   "outputs": [],
   "source": [
    "nbtest(answer_3.04,'843840b0df16211939c8d09ed47c6989')"
   ]
  },
  {
   "cell_type": "code",
   "execution_count": null,
   "metadata": {
    "deletable": false,
    "editable": false,
    "nbgrader": {
     "cell_type": "code",
     "checksum": "4127c84367008d35f39c44b06c9bde69",
     "grade": true,
     "grade_id": "cell-e68fcde05727a28b",
     "locked": true,
     "points": 1,
     "schema_version": 3,
     "solution": false
    }
   },
   "outputs": [],
   "source": [
    "nbtest(answer_3.05,'ddeed571718a5766d87aab886fc4678c')"
   ]
  },
  {
   "cell_type": "code",
   "execution_count": null,
   "metadata": {
    "deletable": false,
    "editable": false,
    "nbgrader": {
     "cell_type": "code",
     "checksum": "682be05434d6c672cfa3d3f0754696a6",
     "grade": true,
     "grade_id": "cell-0cb408089035d369",
     "locked": true,
     "points": 1,
     "schema_version": 3,
     "solution": false
    }
   },
   "outputs": [],
   "source": [
    "nbtest(answer_3.06,'a4663e8123e6c23258275f18e69d3a1e')"
   ]
  },
  {
   "cell_type": "code",
   "execution_count": null,
   "metadata": {
    "deletable": false,
    "editable": false,
    "nbgrader": {
     "cell_type": "code",
     "checksum": "52c707fbc79bfc6a364fbd92702cfba5",
     "grade": true,
     "grade_id": "cell-b1531f8531f65730",
     "locked": true,
     "points": 1,
     "schema_version": 3,
     "solution": false
    }
   },
   "outputs": [],
   "source": [
    "nbtest(answer_3.07,'8f56bd58cc47401b5b3763781b6058cf')"
   ]
  },
  {
   "cell_type": "code",
   "execution_count": null,
   "metadata": {
    "deletable": false,
    "editable": false,
    "nbgrader": {
     "cell_type": "code",
     "checksum": "e8c7f66ea31b11c3cc71bec9f799f0ac",
     "grade": true,
     "grade_id": "cell-3d493e448b69120f",
     "locked": true,
     "points": 1,
     "schema_version": 3,
     "solution": false
    }
   },
   "outputs": [],
   "source": [
    "nbtest(answer_3.08,'51204b2de4b79e728fa61aef36bbd5f4')"
   ]
  },
  {
   "cell_type": "code",
   "execution_count": null,
   "metadata": {
    "deletable": false,
    "editable": false,
    "nbgrader": {
     "cell_type": "code",
     "checksum": "fe1682ef60dfdb75bd4cde284d5e04fa",
     "grade": true,
     "grade_id": "cell-a7f24cb87714972d",
     "locked": true,
     "points": 1,
     "schema_version": 3,
     "solution": false
    }
   },
   "outputs": [],
   "source": [
    "nbtest(answer_3.09,'123df5b4c9695b4eb2062d42df74c8e4')"
   ]
  },
  {
   "cell_type": "code",
   "execution_count": null,
   "metadata": {
    "deletable": false,
    "editable": false,
    "nbgrader": {
     "cell_type": "code",
     "checksum": "76e01b11352f80d3034ff5876b810169",
     "grade": true,
     "grade_id": "cell-a5a3f23618667d3e",
     "locked": true,
     "points": 1,
     "schema_version": 3,
     "solution": false
    }
   },
   "outputs": [],
   "source": [
    "nbtest(answer_3.10,'908d1fd10b357ed0ceaaec823abf81bc')"
   ]
  },
  {
   "cell_type": "markdown",
   "metadata": {
    "deletable": false,
    "editable": false,
    "nbgrader": {
     "cell_type": "markdown",
     "checksum": "706e158801a583b6b49d4a1f1008767a",
     "grade": false,
     "grade_id": "cell-fbfc024fde60a2db",
     "locked": true,
     "schema_version": 3,
     "solution": false,
     "task": false
    }
   },
   "source": [
    "## Exercise 4\n",
    "rubric={autograde:9,reasoning:1}\n",
    "\n",
    "The odds of a particular event reflect the likelihood that the event will take place. Odds can be calculated as: $\\frac{\\textrm{# of favorable events}}{\\textrm{# of unfavorable events}}$ or $\\frac{p}{1-p}$ where $p$ is the probability of the event occurring. Note that odds are not probabilities.\n",
    "\n",
    "Say that the Vancouver White Caps Football Club won 10 out of 34 games last season. You want to use this information to predict their performance in the first game of the upcoming season.\n",
    "\n",
    "1. What is the probability of the White Caps winning the game?\n",
    "2. What are the odds in favor of the White Caps winning the game?\n",
    "3. What are the odds against the White Caps winning the game?\n",
    "4. If a sport website states that the odds in favor of the White Caps winning the game is 3:4 or (3/4), what is the probability they win the game?\n",
    "5. In gambling, the odds are the ratio of a payoff (your profit) to stake (how much you bet). A sport betting website provides odds of 5:3 for the White Caps to win the game. If you place a \\$10 bet on the White Caps winning, what will be your profit if the White Caps win?\n",
    "6. If $P(win) \\leq 0.5$ what is the maximum odds?\n",
    "7. If $P(win) > 0.5$ what is the maximum odds?\n",
    "8. Q6 and Q7 hopefully showed you that odds are not symmetrical. This makes it difficult to compare the odds in favor of an event, to the odds against an event. We can take the natural logarithm of the odds to make them symmetrical. The log of the odds is called the *logit function* and allows us to map probabilities in the range [0, 1] to the full range of real numbers. This concept will form the basis of *logistic regression* which you will learn about later in the program. What is the log of the odds 10:24?\n",
    "9. What is the log of the odds 24:10?\n",
    "10. (optional) Rearrange the formula $log\\frac{p(X)}{1-p(X)}=\\beta_0+\\beta_1X$ to make $p$ the subject."
   ]
  },
  {
   "cell_type": "code",
   "execution_count": null,
   "metadata": {
    "deletable": false,
    "nbgrader": {
     "cell_type": "code",
     "checksum": "81dd5d429d6615c56c0898ef4df980aa",
     "grade": false,
     "grade_id": "cell-390176129b568382",
     "locked": false,
     "schema_version": 3,
     "solution": true,
     "task": false
    }
   },
   "outputs": [],
   "source": [
    "# your code here\n",
    "fail() # No Answer - remove if you provide an answer\n",
    "answer_4.01  <- NULL\n",
    "# your code here\n",
    "fail() # No Answer - remove if you provide an answer\n",
    "answer_4.02  <- NULL\n",
    "# your code here\n",
    "fail() # No Answer - remove if you provide an answer\n",
    "answer_4.03  <- NULL\n",
    "# your code here\n",
    "fail() # No Answer - remove if you provide an answer\n",
    "answer_4.04  <- NULL\n",
    "# your code here\n",
    "fail() # No Answer - remove if you provide an answer\n",
    "answer_4.05  <- NULL\n",
    "# your code here\n",
    "fail() # No Answer - remove if you provide an answer\n",
    "answer_4.06  <- NULL\n",
    "# your code here\n",
    "fail() # No Answer - remove if you provide an answer\n",
    "answer_4.07  <- NULL\n",
    "# your code here\n",
    "fail() # No Answer - remove if you provide an answer\n",
    "answer_4.08  <- NULL\n",
    "# your code here\n",
    "fail() # No Answer - remove if you provide an answer\n",
    "answer_4.09  <- NULL"
   ]
  },
  {
   "cell_type": "markdown",
   "metadata": {
    "deletable": false,
    "nbgrader": {
     "cell_type": "markdown",
     "checksum": "0786f22f3217c64789701bff72de207a",
     "grade": true,
     "grade_id": "cell-8dfa61bde708ca22",
     "locked": false,
     "points": 0,
     "schema_version": 3,
     "solution": true,
     "task": false
    }
   },
   "source": [
    "Provide answer for **4.10** below.\n",
    "\n",
    "YOUR ANSWER HERE"
   ]
  },
  {
   "cell_type": "code",
   "execution_count": null,
   "metadata": {
    "deletable": false,
    "editable": false,
    "nbgrader": {
     "cell_type": "code",
     "checksum": "f7bf8c7ee3de5d2f37f6ad8a61626808",
     "grade": true,
     "grade_id": "cell-0947b02de16f73ac",
     "locked": true,
     "points": 1,
     "schema_version": 3,
     "solution": false,
     "task": false
    }
   },
   "outputs": [],
   "source": [
    "nbtest(answer_4.01,'29c478f4f3c90fa15d67b25b757c2293')"
   ]
  },
  {
   "cell_type": "code",
   "execution_count": null,
   "metadata": {
    "deletable": false,
    "editable": false,
    "nbgrader": {
     "cell_type": "code",
     "checksum": "afed7fc57e561689508f65c38ee8ff04",
     "grade": true,
     "grade_id": "cell-3961e54fc19a6ec5",
     "locked": true,
     "points": 1,
     "schema_version": 3,
     "solution": false,
     "task": false
    }
   },
   "outputs": [],
   "source": [
    "nbtest(answer_4.02,'014c3467f3d9a300117752bbdd722aaf')"
   ]
  },
  {
   "cell_type": "code",
   "execution_count": null,
   "metadata": {
    "deletable": false,
    "editable": false,
    "nbgrader": {
     "cell_type": "code",
     "checksum": "157012d8925611be3359e54a0603ab80",
     "grade": true,
     "grade_id": "cell-45a76164d0beea1b",
     "locked": true,
     "points": 1,
     "schema_version": 3,
     "solution": false,
     "task": false
    }
   },
   "outputs": [],
   "source": [
    "nbtest(answer_4.03,'c4fecd2200bfc28e365a80b3cd4790d9')"
   ]
  },
  {
   "cell_type": "code",
   "execution_count": null,
   "metadata": {
    "deletable": false,
    "editable": false,
    "nbgrader": {
     "cell_type": "code",
     "checksum": "ac3b73dc8a55330f991285c7cca721a6",
     "grade": true,
     "grade_id": "cell-8972138d0503c059",
     "locked": true,
     "points": 1,
     "schema_version": 3,
     "solution": false,
     "task": false
    }
   },
   "outputs": [],
   "source": [
    "nbtest(answer_4.04,'2a6a07ffff96134ac522c128b7be3344')"
   ]
  },
  {
   "cell_type": "code",
   "execution_count": null,
   "metadata": {
    "deletable": false,
    "editable": false,
    "nbgrader": {
     "cell_type": "code",
     "checksum": "25879682dd4b05393db160e97c9a7056",
     "grade": true,
     "grade_id": "cell-3050984a05da32ba",
     "locked": true,
     "points": 1,
     "schema_version": 3,
     "solution": false,
     "task": false
    }
   },
   "outputs": [],
   "source": [
    "nbtest(answer_4.05,'af7a1a93a9575f0db1888bb91e4419fd')"
   ]
  },
  {
   "cell_type": "code",
   "execution_count": null,
   "metadata": {
    "deletable": false,
    "editable": false,
    "nbgrader": {
     "cell_type": "code",
     "checksum": "842908d6941e72d0f1bf2f61a39a814f",
     "grade": true,
     "grade_id": "cell-5d2a5cdc179dd318",
     "locked": true,
     "points": 1,
     "schema_version": 3,
     "solution": false,
     "task": false
    }
   },
   "outputs": [],
   "source": [
    "nbtest(answer_4.06,'6717f2823d3202449301145073ab8719')"
   ]
  },
  {
   "cell_type": "code",
   "execution_count": null,
   "metadata": {
    "deletable": false,
    "editable": false,
    "nbgrader": {
     "cell_type": "code",
     "checksum": "fc242433647dc9943b5f5a9e5b543821",
     "grade": true,
     "grade_id": "cell-f018c8fe266930a9",
     "locked": true,
     "points": 1,
     "schema_version": 3,
     "solution": false,
     "task": false
    }
   },
   "outputs": [],
   "source": [
    "nbtest(answer_4.07,'5d4ca65e8b2fb8f85cec1a0eb5dd463f')"
   ]
  },
  {
   "cell_type": "code",
   "execution_count": null,
   "metadata": {
    "deletable": false,
    "editable": false,
    "nbgrader": {
     "cell_type": "code",
     "checksum": "57cade0bdda6f895ce057f5f24be3613",
     "grade": true,
     "grade_id": "cell-f1f9eff27045e389",
     "locked": true,
     "points": 1,
     "schema_version": 3,
     "solution": false,
     "task": false
    }
   },
   "outputs": [],
   "source": [
    "nbtest(answer_4.08,'2c83a78ae2879b46512b3b7ead3268d5')"
   ]
  },
  {
   "cell_type": "code",
   "execution_count": null,
   "metadata": {
    "deletable": false,
    "editable": false,
    "nbgrader": {
     "cell_type": "code",
     "checksum": "f082b73e248604eed6e061128fb85891",
     "grade": true,
     "grade_id": "cell-6488cf935c01b311",
     "locked": true,
     "points": 1,
     "schema_version": 3,
     "solution": false,
     "task": false
    }
   },
   "outputs": [],
   "source": [
    "nbtest(answer_4.09,'3d8fda84f637dca9c59f1ea85b986286')"
   ]
  },
  {
   "cell_type": "markdown",
   "metadata": {},
   "source": [
    "## (Optional) Exercise 5\n",
    "rubric={reasoning:1}\n",
    "\n",
    "Consider a weighted 6-sided die with probabilities $p_1,\\ldots, p_6$. What values of the $\\{p_i\\}$ lead to the highest entropy distribution? Lowest entropy? Is the answer unique? Why/why not? Provide answer below and include your reasoning. "
   ]
  },
  {
   "cell_type": "markdown",
   "metadata": {
    "deletable": false,
    "nbgrader": {
     "cell_type": "markdown",
     "checksum": "3625966f494dfd897814c6879188ea8d",
     "grade": true,
     "grade_id": "cell-794043c709a778fe",
     "locked": false,
     "points": 0,
     "schema_version": 3,
     "solution": true
    }
   },
   "source": [
    "Provide answer for question **5** below.\n",
    "\n",
    "YOUR ANSWER HERE"
   ]
  },
  {
   "cell_type": "markdown",
   "metadata": {
    "deletable": false,
    "nbgrader": {
     "cell_type": "markdown",
     "checksum": "0297e8c2d50fb238669e694cfb458226",
     "grade": true,
     "grade_id": "cell-120cd08cc240c3dd",
     "locked": false,
     "points": 0,
     "schema_version": 3,
     "solution": true
    }
   },
   "source": [
    "**Leave this cell blank**\n",
    "\n",
    "YOUR ANSWER HERE"
   ]
  }
 ],
 "metadata": {
  "Rmd_header": {
   "output": "pdf_document",
   "title": "DSCI 551 Lab 1",
   "urlcolor": "blue"
  },
  "kernelspec": {
   "display_name": "R",
   "language": "R",
   "name": "ir"
  },
  "language_info": {
   "codemirror_mode": "r",
   "file_extension": ".r",
   "mimetype": "text/x-r-source",
   "name": "R",
   "pygments_lexer": "r",
   "version": "3.6.1"
  }
 },
 "nbformat": 4,
 "nbformat_minor": 4
}
