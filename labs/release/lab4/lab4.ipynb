{
 "cells": [
  {
   "cell_type": "markdown",
   "metadata": {},
   "source": [
    "# DSCI 551: Descriptive Statistics and Probability for Data Science\n",
    "# Lab 4"
   ]
  },
  {
   "cell_type": "markdown",
   "metadata": {
    "deletable": false,
    "editable": false,
    "nbgrader": {
     "cell_type": "markdown",
     "checksum": "824c7ed9dc3b87b5faf006df9111ef53",
     "grade": false,
     "grade_id": "cell-3d36f2faac750473",
     "locked": true,
     "schema_version": 3,
     "solution": false,
     "task": false
    }
   },
   "source": [
    "# Submission instructions\n",
    "\n",
    "rubric={mechanics:5}\n",
    "- To submit this assignment, submit this Jupyter notebook `.ipynb` file completed with your answers.\n",
    "- Be sure to follow the [general lab instructions](https://ubc-mds.github.io/resources_pages/general_lab_instructions/).\n",
    "- Use proper English, spelling, and grammar throughout your submission.\n"
   ]
  },
  {
   "cell_type": "markdown",
   "metadata": {
    "deletable": false,
    "editable": false,
    "nbgrader": {
     "cell_type": "markdown",
     "checksum": "8d566e164e30c384d9b25fe9aa043441",
     "grade": false,
     "grade_id": "cell-22042346554e5d13",
     "locked": true,
     "schema_version": 3,
     "solution": false
    },
    "toc-hr-collapsed": true
   },
   "source": [
    "## Exercise 1\n"
   ]
  },
  {
   "cell_type": "markdown",
   "metadata": {
    "deletable": false,
    "editable": false,
    "nbgrader": {
     "cell_type": "markdown",
     "checksum": "c181fc1303806d3f11e9b3cb2b5b3d5f",
     "grade": false,
     "grade_id": "cell-198da8ae974042f1",
     "locked": true,
     "schema_version": 3,
     "solution": false,
     "task": false
    }
   },
   "source": [
    "### 1(a)\n",
    "rubric={raw:5}\n",
    "\n",
    "Let $X\\sim\\mathcal{N}(0,1)$ and $Y=2+3X$.\n",
    "\n",
    "1. Are $X$ and $Y$ independent? \n",
    "2. What is the distribution of $Y$? \n",
    "3. What is $E[XY]$?\n",
    "4. What is $Cov(X,Y)$?\n",
    "5. What is the correlation coefficient $\\rho$ between $X$ and $Y$?"
   ]
  },
  {
   "cell_type": "markdown",
   "metadata": {
    "deletable": false,
    "nbgrader": {
     "cell_type": "markdown",
     "checksum": "54d585def154f4da914f61466c02d219",
     "grade": true,
     "grade_id": "cell-6260254167554c21",
     "locked": false,
     "points": 0,
     "schema_version": 3,
     "solution": true,
     "task": false
    }
   },
   "source": [
    "Provide your answers to Exercise **1a** below.\n",
    "\n",
    "YOUR ANSWER HERE"
   ]
  },
  {
   "cell_type": "markdown",
   "metadata": {
    "deletable": false,
    "editable": false,
    "nbgrader": {
     "cell_type": "markdown",
     "checksum": "426bdd789dc98413661517bcaadf26e6",
     "grade": false,
     "grade_id": "cell-5a64e8c941fb4d71",
     "locked": true,
     "schema_version": 3,
     "solution": false,
     "task": false
    }
   },
   "source": [
    "### (optional) 1(b)\n",
    "rubric={reasoning:2}\n",
    "\n",
    "1. Find $P(\\max(X,Y)< 0)$"
   ]
  },
  {
   "cell_type": "markdown",
   "metadata": {
    "deletable": false,
    "nbgrader": {
     "cell_type": "markdown",
     "checksum": "1ab7959e2bd6e0783f19c9c569ca374c",
     "grade": true,
     "grade_id": "cell-3c0a287742254ca6",
     "locked": false,
     "points": 0,
     "schema_version": 3,
     "solution": true
    }
   },
   "source": [
    "Provide your answer to Exercise **1b** below.\n",
    "\n",
    "YOUR ANSWER HERE"
   ]
  },
  {
   "cell_type": "markdown",
   "metadata": {
    "deletable": false,
    "editable": false,
    "nbgrader": {
     "cell_type": "markdown",
     "checksum": "234d8f3213c843921a8bf5f446b05426",
     "grade": false,
     "grade_id": "cell-74bff3041fd8d5b1",
     "locked": true,
     "schema_version": 3,
     "solution": false
    }
   },
   "source": [
    "## Exercise 2\n",
    "rubric={reasoning:2}\n",
    "\n",
    "For each of the following, explain why it is not a valid covariance matrix for a bivariate Gaussian distribution.\n",
    "\n",
    "1. $\\Sigma=\\begin{pmatrix} -2 & 0 \\\\ 0 & 2\\end{pmatrix}$\n",
    "2. $\\Sigma=\\begin{pmatrix} 4 & 0 \\\\ -1 & 5\\end{pmatrix}$"
   ]
  },
  {
   "cell_type": "markdown",
   "metadata": {
    "deletable": false,
    "nbgrader": {
     "cell_type": "markdown",
     "checksum": "957fe2981eb1337b6de38c5bb2c5b6d7",
     "grade": true,
     "grade_id": "cell-07ec7147b38b242c",
     "locked": false,
     "points": 0,
     "schema_version": 3,
     "solution": true
    }
   },
   "source": [
    "Provide your answers to question **2** below. \n",
    "\n",
    "YOUR ANSWER HERE"
   ]
  },
  {
   "cell_type": "markdown",
   "metadata": {
    "deletable": false,
    "editable": false,
    "nbgrader": {
     "cell_type": "markdown",
     "checksum": "08ff88bac76e8959047a10aa7fd03633",
     "grade": false,
     "grade_id": "cell-e491d513fc7110c0",
     "locked": true,
     "schema_version": 3,
     "solution": false,
     "task": false
    },
    "toc-hr-collapsed": false
   },
   "source": [
    "## Exercise 3\n",
    "rubric={raw:9}\n",
    "\n",
    "For each of the following bivariate (2-variable) joint distributions, answer the following questions by filling in the table at the bottom of the page. No need to explain your answers.\n",
    "\n",
    "Questions for each distribution: \n",
    "\n",
    "1. Is the correlation coefficient (ρ) positive, negative, or zero?\n",
    "2. Is E[X] greater, less than, or equal to E[Y]? \n",
    "3. Is the distribution a bivariate Gaussian, or not? \n",
    "\n",
    "![](pdf1.png)\n",
    "\n",
    "![](pdf2.png)\n",
    "\n",
    "![](pdf3.png)"
   ]
  },
  {
   "cell_type": "markdown",
   "metadata": {
    "deletable": false,
    "nbgrader": {
     "cell_type": "markdown",
     "checksum": "d73ff1430c3cb525c9d5098b8aaa9004",
     "grade": true,
     "grade_id": "cell-a47b10738b2a13bc",
     "locked": false,
     "points": 0,
     "schema_version": 3,
     "solution": true,
     "task": false
    }
   },
   "source": [
    "Provide solution for question **3** in the following table.\n",
    "\n",
    "|                   | ρ>0, ρ<0, or ρ=0? | E[X]>E[Y], E[X]<E[Y], or E[X]=E[Y]?  | Bivariate Gaussian? (yes/no) | \n",
    "|-------------------|-------------------|---------|----------|\n",
    "| Distribution (a)  |                   |           |        |\n",
    "| Distribution (b)  |                   |           |        |\n",
    "| Distribution (c)  |                   |           |        |\n",
    "\n",
    "YOUR ANSWER HERE"
   ]
  },
  {
   "cell_type": "markdown",
   "metadata": {
    "deletable": false,
    "editable": false,
    "nbgrader": {
     "cell_type": "markdown",
     "checksum": "7457f463b95b7b4940223f9f127e6061",
     "grade": false,
     "grade_id": "cell-b87fd4db6d8c85ed",
     "locked": true,
     "schema_version": 3,
     "solution": false
    }
   },
   "source": [
    "## Exercise 4\n",
    "rubric={reasoning:7}\n",
    "\n",
    "Let $X$ and $Y$ denote the DSCI 511 and DSCI 551 grades, respectively, for an MDS student. According to the historical records, the random vector $(X,Y)$ can be modeled using the bivariate (2D) normal distribution with parameters $\\mu_x = 85, \\mu_y = 80, \\sigma_x = 4, \\sigma_y = 5, \\rho=0.25$.\n",
    "\n",
    "Answer the following questions, using R (and the internet) as needed.\n",
    "\n",
    "1. What is the covariance matrix, $\\Sigma$?\n",
    "2. What's the marginal distribution of DSCI 551 grades?\n",
    "3. Which do you expect to be larger, the conditional probability $P(Y \\geq 80 \\mid X = 70)$ or the marginal probability $P(Y \\geq 80)$? Briefly justify your answer. (You're welcome to compute the actual probabilities, but you don't have to.)\n",
    "4. Which do you expect to be larger, the conditional probability $P(Y \\geq 80 \\mid X=Y)$ or the marginal probability $P(Y \\geq 80)$? Briefly justify your answer. (You're welcome to compute the actual probabilities, but you don't have to.)\n",
    "5. Define $Z= (X+Y)/2$, the student's average grade across the two courses. Find $P(Z\\geq 80)$. Hint: see [here](https://en.wikipedia.org/wiki/Sum_of_normally_distributed_random_variables#Correlated_random_variables).\n",
    "6. What is $P(X\\geq Y)$?\n",
    "7. For two general jointly Gaussian RVs $X$ and $Y$ (no longer necessarily distributed as above), is it possible to have $P(X\\geq Y) > 0.5$ and at the same time $E[X] < E[Y]$? Briefly justify your answer."
   ]
  },
  {
   "cell_type": "markdown",
   "metadata": {
    "deletable": false,
    "nbgrader": {
     "cell_type": "markdown",
     "checksum": "2aa70fdf59335bab6308192164b9b06a",
     "grade": true,
     "grade_id": "cell-cc2f3eeb070024fa",
     "locked": false,
     "points": 0,
     "schema_version": 3,
     "solution": true
    }
   },
   "source": [
    "Provide answers to question **4** below.\n",
    "\n",
    "YOUR ANSWER HERE"
   ]
  },
  {
   "cell_type": "markdown",
   "metadata": {
    "deletable": false,
    "editable": false,
    "nbgrader": {
     "cell_type": "markdown",
     "checksum": "c8b9aead0be3431c463674144808624a",
     "grade": false,
     "grade_id": "cell-8dd83a325465c247",
     "locked": true,
     "schema_version": 3,
     "solution": false,
     "task": false
    }
   },
   "source": [
    "## Exercise 5\n",
    "rubric={reasoning:5}\n",
    "\n",
    "The [Monty Hall problem](https://en.wikipedia.org/wiki/Monty_Hall_problem) is an infamous brain teaser and a good demonstration of Bayes' theorem. The problem goes like this:\n",
    "\n",
    "Suppose you're on a game show, and you have to chose one of three doors labelled **A**, **B**, and **C**. Behind one door is a car, behind the other two doors are goats. You pick a door, say **Door A**. After you've chosen your door (and before it is opened) the host, who knows what's behind all the doors, opens another door, say **Door B**, which has a goat. The host then asks you, _\"Do you want to change your choice to **Door C**?\"_. What should you do? Is it to your advantage to switch your choice of door from **Door A** to **Door C**?"
   ]
  },
  {
   "cell_type": "markdown",
   "metadata": {
    "deletable": false,
    "nbgrader": {
     "cell_type": "markdown",
     "checksum": "6e59e6c90d17892f84d55a11dfb8b275",
     "grade": true,
     "grade_id": "cell-83ea449c20fe1be0",
     "locked": false,
     "points": 0,
     "schema_version": 3,
     "solution": true,
     "task": false
    }
   },
   "source": [
    "Provide your answer to question **5** below.\n",
    "\n",
    "YOUR ANSWER HERE"
   ]
  },
  {
   "cell_type": "markdown",
   "metadata": {
    "deletable": false,
    "editable": false,
    "nbgrader": {
     "cell_type": "markdown",
     "checksum": "7fdcd648412fa77152ea28c5b2c0cccd",
     "grade": false,
     "grade_id": "cell-1d13c0385dce1ed1",
     "locked": true,
     "schema_version": 3,
     "solution": false
    },
    "toc-hr-collapsed": true
   },
   "source": [
    "## (Optional) Exercise 6: Copulas\n",
    "rubric={reasoning:2}\n",
    "\n",
    "This is a useful exercise to explore the concept of dependence. Even if you can't complete all of it, try to at least give some of this question a try, as it's partially a walk-through.\n",
    "\n",
    "### 6(a) PIT scores\n",
    "\n",
    "Let random variable $Y$ have strictly increasing cdf $F$. One can mathematically prove that $F(Y)$ has a Uniform(0,1) distribution. This is called the Probability Integral Transform (PIT). \n",
    "\n",
    "1. Generate 1000 observations from the Exponential distribution with mean 1 using the `rexp` function in R -- let's call this vector `y`. Plot these observations against the observation number by applying the `plot` function to `y`, to show what exponentially distributed data look like.\n",
    "2. Now plot `pexp(y)` (call this vector `u`) -- what distribution do these data follow, and why?\n",
    "3. Now transform `u` by `qnorm(u)`, and plot this new vector. What distribution do these data follow?\n",
    "\n",
    "In fact, using this approach we can transform a random variable to have any distribution we want. "
   ]
  },
  {
   "cell_type": "code",
   "execution_count": null,
   "metadata": {
    "deletable": false,
    "nbgrader": {
     "cell_type": "code",
     "checksum": "be8603859cfbc3b78d062d8f21d075eb",
     "grade": true,
     "grade_id": "cell-c08d85adf156ed5e",
     "locked": false,
     "points": 0,
     "schema_version": 3,
     "solution": true
    }
   },
   "outputs": [],
   "source": [
    "# Provide answers for question 6a below.\n",
    "    \n",
    "# your code here\n",
    "fail() # No Answer - remove if you provide an answer"
   ]
  },
  {
   "cell_type": "markdown",
   "metadata": {
    "deletable": false,
    "editable": false,
    "nbgrader": {
     "cell_type": "markdown",
     "checksum": "d2768ee1b8970149af82bfb5c4dabf96",
     "grade": false,
     "grade_id": "cell-c42a6f5682aaea84",
     "locked": true,
     "schema_version": 3,
     "solution": false
    }
   },
   "source": [
    "### 6(b) Normal scores plots\n",
    "\n",
    "Copulas describe the _full_ dependence between random variables. By doing a PIT-transform to each random variable, the joint distribution that follows is called a _copula_. We'll visualize two copulas using a _normal scores plot_ -- a scatter plot of data whose marginal distributions have been transformed to standard Gaussian. \n",
    "\n",
    "The following code generates two bi-variate samples of size 1000, each iid, called `dat1` and `dat2`. "
   ]
  },
  {
   "cell_type": "code",
   "execution_count": null,
   "metadata": {},
   "outputs": [],
   "source": [
    "set.seed(123)\n",
    "n <- 1000\n",
    "## Sample 1\n",
    "rho <- 0.8\n",
    "z1 <- rnorm(n)\n",
    "z2 <- rnorm(n, mean=rho*z1, sd=sqrt(1-rho^2))\n",
    "x <- qexp(pnorm(z1))\n",
    "y <- qexp(pnorm(z2))\n",
    "dat1 <- matrix(c(x,y), ncol=2)\n",
    "## Sample 2\n",
    "u <- runif(n)\n",
    "tau <- runif(n)\n",
    "alpha <- 0.3\n",
    "cdf <- function(x) 1-(1+x)^(-alpha)\n",
    "qf <- function(tau) (1-tau)^(-1/alpha) - 1\n",
    "QYgX <- function(tau, x) (1+x)*(1-tau)^(-1/(1+alpha)) - 1 - x\n",
    "xpar <- qf(u)\n",
    "ypar <- QYgX(tau, xpar)\n",
    "x <- qexp(cdf(xpar))\n",
    "y <- qexp(cdf(ypar))\n",
    "dat2 <- matrix(c(x,y), ncol=2)"
   ]
  },
  {
   "cell_type": "markdown",
   "metadata": {
    "deletable": false,
    "editable": false,
    "nbgrader": {
     "cell_type": "markdown",
     "checksum": "73c7b71b87463139af17f8d2baf2033e",
     "grade": false,
     "grade_id": "cell-6f0a5166bc0f51e4",
     "locked": true,
     "schema_version": 3,
     "solution": false,
     "task": false
    }
   },
   "source": [
    "The marginal distribution of each random variable is Exponential with mean 1.\n",
    "\n",
    "1. Make a scatter-plot of the data for each sample.\n",
    "2. Transform the data so that each random variable have standard Gaussian marginal distributions.\n",
    "3. Make a scatter plot of the transformed data for each sample -- these are called normal scores plots, and is a way to visualize the dependence between two random variables. Based on these plots, is the dependence structure different between the two samples? Sample 1 has a _Gaussian_ copula; Sample 2 has an _MTCJ_ copula. \n",
    "4. Both transformed samples have a (Pearson) correlation of about 0.8. Does this mean that the dependence structure between both variables is the same for both samples?"
   ]
  },
  {
   "cell_type": "code",
   "execution_count": null,
   "metadata": {
    "deletable": false,
    "nbgrader": {
     "cell_type": "code",
     "checksum": "9568e48823828ecb726bc82a8d56d665",
     "grade": true,
     "grade_id": "cell-3e8993108dccf6b7",
     "locked": false,
     "points": 0,
     "schema_version": 3,
     "solution": true
    }
   },
   "outputs": [],
   "source": [
    "# Provide answer for question 6b below\n",
    "\n",
    "# your code here\n",
    "fail() # No Answer - remove if you provide an answer"
   ]
  }
 ],
 "metadata": {
  "Rmd_header": {
   "linkcolor": "blue",
   "output": "pdf_document",
   "title": "DSCI 551 Lab 4"
  },
  "kernelspec": {
   "display_name": "R",
   "language": "R",
   "name": "ir"
  },
  "language_info": {
   "codemirror_mode": "r",
   "file_extension": ".r",
   "mimetype": "text/x-r-source",
   "name": "R",
   "pygments_lexer": "r",
   "version": "3.6.1"
  }
 },
 "nbformat": 4,
 "nbformat_minor": 4
}
