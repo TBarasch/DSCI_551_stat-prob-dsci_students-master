{
 "cells": [
  {
   "cell_type": "markdown",
   "metadata": {},
   "source": [
    "# DSCI 551: Descriptive Statistics and Probability for Data Science\n",
    "# Lab 2"
   ]
  },
  {
   "cell_type": "markdown",
   "metadata": {
    "nbgrader": {
     "grade": false,
     "grade_id": "cell-cd13bacb1e15de15",
     "locked": true,
     "schema_version": 3,
     "solution": false,
     "task": false
    }
   },
   "source": [
    "# Submission instructions\n",
    "\n",
    "rubric={mechanics:5}\n",
    "- To submit this assignment, submit this Jupyter notebook `.ipynb` file completed with your answers.\n",
    "- Be sure to follow the [general lab instructions](https://ubc-mds.github.io/resources_pages/general_lab_instructions/).\n",
    "- Use proper English, spelling, and grammar throughout your submission.\n"
   ]
  },
  {
   "cell_type": "code",
   "execution_count": null,
   "metadata": {},
   "outputs": [],
   "source": [
    "# Load necessary packages\n",
    "library(testthat)\n",
    "library(digest)\n",
    "library(tidyverse)"
   ]
  },
  {
   "cell_type": "code",
   "execution_count": null,
   "metadata": {
    "nbgrader": {
     "grade": false,
     "grade_id": "cell-fc86994cf564512b",
     "locked": true,
     "schema_version": 3,
     "solution": false
    }
   },
   "outputs": [],
   "source": [
    "# This cell defines a function that tests your solutions. Be sure to run it if you want to check your answers!\n",
    "nbtest <- function(answer, true.hash, tolerance=0) {\n",
    "    test_that(\"Failure.\", {\n",
    "        if (class(answer) == \"numeric\"){\n",
    "            expect_equal(digest(signif(answer,6)), true.hash, tolerance)\n",
    "        }\n",
    "        else {\n",
    "            expect_equal(digest(answer), true.hash, tolerance)\n",
    "        } \n",
    "    })\n",
    "   print(\"Success!\")\n",
    "}"
   ]
  },
  {
   "cell_type": "markdown",
   "metadata": {
    "nbgrader": {
     "grade": false,
     "grade_id": "cell-215e93901dc0c912",
     "locked": true,
     "schema_version": 3,
     "solution": false,
     "task": false
    }
   },
   "source": [
    "## Exercise 1\n",
    "\n",
    "### 1(a)\n",
    "rubric={autograde:5}\n",
    "\n",
    "For each of the following definitions of a random variable, select the appropriate discrete distribution family from one of the following: \"Bernoulli\", \"Binomial\", \"Poisson\", \"Categorical\" (where \"categorical\" is any distribution with a finite amount of outcomes).\n",
    "\n",
    "Note: we're actually asking for the _smallest_ family here. For example, the family of Bernoulli distributions is contained within the family of Binomial distributions (by taking $N=1$), but if a random variable here belongs to the Bernoulli family, we expect you to respond with \"Bernoulli\". \n",
    "\n",
    "\n",
    "1. The outcome of a coin flip\n",
    "2. The outcome of a 6-sided die roll\n",
    "3. The number of heads in $10$ coin flips\n",
    "4. The number of times we saw a 6 in $10$ die rolls\n",
    "5. The number of times a professor says \"um\" in a lecture."
   ]
  },
  {
   "cell_type": "code",
   "execution_count": null,
   "metadata": {
    "nbgrader": {
     "grade": false,
     "grade_id": "cell-d3fd3db26c3d5115",
     "locked": false,
     "schema_version": 3,
     "solution": true
    }
   },
   "outputs": [],
   "source": [
    "# replace NULL with the answer to each question\n",
    "### BEGIN SOLUTION\n",
    "answer_1a.1  <- \"Bernoulli\"\n",
    "### END SOLUTION\n",
    "answer_1a.1 <- NULL\n",
    "### BEGIN SOLUTION\n",
    "answer_1a.2 <- \"Categorical\"\n",
    "### END SOLUTION\n",
    "answer_1a.2 <- NULL\n",
    "### BEGIN SOLUTION\n",
    "answer_1a.3 <- \"Binomial\"\n",
    "### END SOLUTION\n",
    "answer_1a.3 <- NULL\n",
    "### BEGIN SOLUTION\n",
    "answer_1a.4 <- \"Binomial\"\n",
    "### END SOLUTION\n",
    "answer_1a.4 <- NULL\n",
    "### BEGIN SOLUTION\n",
    "answer_1a.5 <- \"Poisson\"\n",
    "### END SOLUTION\n",
    "answer_1a.5 <- NULL"
   ]
  },
  {
   "cell_type": "code",
   "execution_count": null,
   "metadata": {
    "nbgrader": {
     "grade": true,
     "grade_id": "cell-28bef36243d6cb64",
     "locked": true,
     "points": 1,
     "schema_version": 3,
     "solution": false
    }
   },
   "outputs": [],
   "source": [
    "nbtest(answer_1a.1,'9ad0d92384b698bc64167bdc58c987cb')"
   ]
  },
  {
   "cell_type": "code",
   "execution_count": null,
   "metadata": {
    "nbgrader": {
     "grade": true,
     "grade_id": "cell-b810972bcea908e2",
     "locked": true,
     "points": 1,
     "schema_version": 3,
     "solution": false
    }
   },
   "outputs": [],
   "source": [
    "nbtest(answer_1a.2,'be418dc448434b789db399e8e95434ac')"
   ]
  },
  {
   "cell_type": "code",
   "execution_count": null,
   "metadata": {
    "nbgrader": {
     "grade": true,
     "grade_id": "cell-5fbf4f78a268db1d",
     "locked": true,
     "points": 1,
     "schema_version": 3,
     "solution": false
    }
   },
   "outputs": [],
   "source": [
    "nbtest(answer_1a.3,'32573f776c45e2670f0b5cd39753d24b')"
   ]
  },
  {
   "cell_type": "code",
   "execution_count": null,
   "metadata": {
    "nbgrader": {
     "grade": true,
     "grade_id": "cell-ddd3bd15d5cf6b90",
     "locked": true,
     "points": 1,
     "schema_version": 3,
     "solution": false
    }
   },
   "outputs": [],
   "source": [
    "nbtest(answer_1a.4,'32573f776c45e2670f0b5cd39753d24b')"
   ]
  },
  {
   "cell_type": "code",
   "execution_count": null,
   "metadata": {
    "nbgrader": {
     "grade": true,
     "grade_id": "cell-eaa2bd723877ff4a",
     "locked": true,
     "points": 1,
     "schema_version": 3,
     "solution": false
    }
   },
   "outputs": [],
   "source": [
    "nbtest(answer_1a.5,'d3d95d8d997f0044317d41e1a75ce9ec')"
   ]
  },
  {
   "cell_type": "markdown",
   "metadata": {
    "nbgrader": {
     "grade": false,
     "grade_id": "cell-05db8f89998954f3",
     "locked": true,
     "schema_version": 3,
     "solution": false,
     "task": false
    }
   },
   "source": [
    "\n",
    "### 1(b)\n",
    "rubric={reasoning:2}\n",
    "\n",
    "When talking about the binomial distribution, we often use the letters $p$, $N$ and $x$, for example when we write the pmf: ${N \\choose x} p^x (1-p)^{N-x}$. Are these all parameters of the binomial distribution, or is one of them different from the other two? Explain."
   ]
  },
  {
   "cell_type": "markdown",
   "metadata": {
    "nbgrader": {
     "grade": true,
     "grade_id": "cell-5d78ea37566af90a",
     "locked": false,
     "points": 0,
     "schema_version": 3,
     "solution": true
    }
   },
   "source": [
    "Provide your answer to question **1b** below.\n",
    "\n",
    "### BEGIN SOLUTION\n",
    "No, $x$ is the argument of the probability mass function ${N\\choose x}p^x(1-p)^{N-x}$, where ${N\\choose x}=\\frac{N!}{x!(N-x)!}$\n",
    "\n",
    "$N$ and $p$ are the parameters that define the binomial distribution, $\\text{Binomial}(N,p)$. \n",
    "### END SOLUTION"
   ]
  },
  {
   "cell_type": "markdown",
   "metadata": {
    "nbgrader": {
     "grade": false,
     "grade_id": "cell-bdf6378c00d6570e",
     "locked": true,
     "schema_version": 3,
     "solution": false,
     "task": false
    }
   },
   "source": [
    "## Exercise 2\n",
    "rubric={autograde:4}\n",
    "\n",
    "Suppose a fair 6-sided die is rolled.\n",
    "\n",
    "1. What is the probability the outcome is 1 or 2?\n",
    "2. Given that the outcome is 1 or 2, what is the probability the outcome is actually 1?\n",
    "3. Given that the outcome is odd, what is the probability the outcome is 1?\n",
    "4. Given that the outcome is even, what is the probability the outcome is 1 or 3?"
   ]
  },
  {
   "cell_type": "code",
   "execution_count": null,
   "metadata": {
    "nbgrader": {
     "grade": false,
     "grade_id": "cell-c2fbeb955e06b5ce",
     "locked": false,
     "schema_version": 3,
     "solution": true
    }
   },
   "outputs": [],
   "source": [
    "# Replace NULL with your answer to the questions\n",
    "### BEGIN SOLUTION\n",
    "answer_2.1 <- 1/3\n",
    "### END SOLUTION\n",
    "answer_2.1 <- NULL\n",
    "### BEGIN SOLUTION\n",
    "answer_2.2 <- 1/2\n",
    "### END SOLUTION\n",
    "answer_2.2 <- NULL\n",
    "### BEGIN SOLUTION\n",
    "answer_2.3 <- 1/3\n",
    "### END SOLUTION\n",
    "answer_2.3 <- NULL\n",
    "### BEGIN SOLUTION\n",
    "answer_2.4 <- 0\n",
    "### END SOLUTION\n",
    "answer_2.4 <- NULL"
   ]
  },
  {
   "cell_type": "code",
   "execution_count": null,
   "metadata": {
    "nbgrader": {
     "grade": true,
     "grade_id": "cell-ad09b39496782631",
     "locked": true,
     "points": 1,
     "schema_version": 3,
     "solution": false
    }
   },
   "outputs": [],
   "source": [
    "nbtest(answer_2.1,'c9c4cbe0191acece15eb49088f15a032')"
   ]
  },
  {
   "cell_type": "code",
   "execution_count": null,
   "metadata": {
    "nbgrader": {
     "grade": true,
     "grade_id": "cell-d9f90597d1132775",
     "locked": true,
     "points": 1,
     "schema_version": 3,
     "solution": false
    }
   },
   "outputs": [],
   "source": [
    "nbtest(answer_2.2,'03b3b7e9967823ca8ae75c138a3aa39c')"
   ]
  },
  {
   "cell_type": "code",
   "execution_count": null,
   "metadata": {
    "nbgrader": {
     "grade": true,
     "grade_id": "cell-1005b5574a08e8dd",
     "locked": true,
     "points": 1,
     "schema_version": 3,
     "solution": false
    }
   },
   "outputs": [],
   "source": [
    "nbtest(answer_2.3,'c9c4cbe0191acece15eb49088f15a032')"
   ]
  },
  {
   "cell_type": "code",
   "execution_count": null,
   "metadata": {
    "nbgrader": {
     "grade": true,
     "grade_id": "cell-5c9433a2038545a5",
     "locked": true,
     "points": 1,
     "schema_version": 3,
     "solution": false
    }
   },
   "outputs": [],
   "source": [
    "nbtest(answer_2.4,'908d1fd10b357ed0ceaaec823abf81bc')"
   ]
  },
  {
   "cell_type": "markdown",
   "metadata": {
    "nbgrader": {
     "grade": false,
     "grade_id": "cell-efa0dd6419911f2d",
     "locked": true,
     "schema_version": 3,
     "solution": false,
     "task": false
    }
   },
   "source": [
    "## Exercise 3\n",
    "\n",
    "Let $X$ be a discrete r.v. taking on values $1,2,3,4$ with $P(X=i)=i/10$. In other words, the PMF is\n",
    "\n",
    "| $X$ | $P$*(*$X$*)*|\n",
    "|-----      |--------       |\n",
    "| 1         |  0.1          |\n",
    "| 2         |  0.2          |\n",
    "| 3         |  0.3          | \n",
    "| 4         |  0.4          | \n",
    "\n",
    "### 3(a)\n",
    "rubric={autograde:7}\n",
    "\n",
    "Find the following quantities:\n",
    "\n",
    "1. $P(X=3 \\mid X \\geq 3)$\n",
    "2. $P(X \\geq 3 \\mid X \\geq 2)$\n",
    "3. $P(X \\geq 2 \\mid X \\geq 3)$\n",
    "4. $E[X]$\n",
    "5. $E[X \\mid X\\geq 3]$\n",
    "6. $Var(X)$\n",
    "7. Entropy of $X$"
   ]
  },
  {
   "cell_type": "code",
   "execution_count": null,
   "metadata": {
    "nbgrader": {
     "grade": false,
     "grade_id": "cell-7c9980cf3e8ee317",
     "locked": false,
     "schema_version": 3,
     "solution": true
    }
   },
   "outputs": [],
   "source": [
    "# Replace NULL with your answer to the questions\n",
    "### BEGIN SOLUTION\n",
    "answer_3a.1 <- 3/7\n",
    "### END SOLUTION\n",
    "answer_3a.1 <- NULL\n",
    "### BEGIN SOLUTION\n",
    "answer_3a.2 <- 7/9\n",
    "### END SOLUTION\n",
    "answer_3a.2 <- NULL\n",
    "### BEGIN SOLUTION\n",
    "answer_3a.3 <- 1\n",
    "### END SOLUTION\n",
    "answer_3a.3 <- NULL\n",
    "### BEGIN SOLUTION\n",
    "answer_3a.4 <- 3\n",
    "### END SOLUTION\n",
    "answer_3a.4 <- NULL\n",
    "### BEGIN SOLUTION\n",
    "answer_3a.5 <- 3*(3/7) + 4*(4/7)\n",
    "### END SOLUTION\n",
    "answer_3a.5 <- NULL\n",
    "### BEGIN SOLUTION\n",
    "# E[X^2]-E[X]^2=10-3^2=1, since E[X^2]=1*0.1+4*0.2+9*0.3+16*0.4\n",
    "answer_3a.6 <- 1\n",
    "### END SOLUTION\n",
    "answer_3a.6 <- NULL\n",
    "### BEGIN SOLUTION\n",
    "# E[X^2]-E[X]^2=10-3^2=1, since E[X^2]=1*0.1+4*0.2+9*0.3+16*0.4\n",
    "answer_3a.7 <- -(0.1*log(0.1) + 0.2*log(0.2) + 0.3*log(0.3) + 0.4*log(0.4))\n",
    "### END SOLUTION\n",
    "answer_3a.7 <- NULL"
   ]
  },
  {
   "cell_type": "code",
   "execution_count": null,
   "metadata": {
    "nbgrader": {
     "grade": true,
     "grade_id": "cell-674a78c4bdc1c413",
     "locked": true,
     "points": 1,
     "schema_version": 3,
     "solution": false
    }
   },
   "outputs": [],
   "source": [
    "nbtest(answer_3a.1,'2a6a07ffff96134ac522c128b7be3344')"
   ]
  },
  {
   "cell_type": "code",
   "execution_count": null,
   "metadata": {
    "nbgrader": {
     "grade": true,
     "grade_id": "cell-1ab544154aef9eea",
     "locked": true,
     "points": 1,
     "schema_version": 3,
     "solution": false
    }
   },
   "outputs": [],
   "source": [
    "nbtest(answer_3a.2,'150e5d8b46efadc6be4732de779b79fc')"
   ]
  },
  {
   "cell_type": "code",
   "execution_count": null,
   "metadata": {
    "nbgrader": {
     "grade": true,
     "grade_id": "cell-e922bd0686e5d4ad",
     "locked": true,
     "points": 1,
     "schema_version": 3,
     "solution": false
    }
   },
   "outputs": [],
   "source": [
    "nbtest(answer_3a.3,'6717f2823d3202449301145073ab8719')"
   ]
  },
  {
   "cell_type": "code",
   "execution_count": null,
   "metadata": {
    "nbgrader": {
     "grade": true,
     "grade_id": "cell-116e1363433dffc3",
     "locked": true,
     "points": 1,
     "schema_version": 3,
     "solution": false
    }
   },
   "outputs": [],
   "source": [
    "nbtest(answer_3a.4,'e5b57f323c7b3719bbaaf9f96b260d39')"
   ]
  },
  {
   "cell_type": "code",
   "execution_count": null,
   "metadata": {
    "nbgrader": {
     "grade": true,
     "grade_id": "cell-6f42a4bdd6f7a8ca",
     "locked": true,
     "points": 1,
     "schema_version": 3,
     "solution": false
    }
   },
   "outputs": [],
   "source": [
    "nbtest(answer_3a.5,'b80d90476bae3064a54797bd11ffef5c')"
   ]
  },
  {
   "cell_type": "code",
   "execution_count": null,
   "metadata": {
    "nbgrader": {
     "grade": true,
     "grade_id": "cell-0d343481c4cdbd12",
     "locked": true,
     "points": 1,
     "schema_version": 3,
     "solution": false
    }
   },
   "outputs": [],
   "source": [
    "nbtest(answer_3a.6,'6717f2823d3202449301145073ab8719')"
   ]
  },
  {
   "cell_type": "code",
   "execution_count": null,
   "metadata": {
    "nbgrader": {
     "grade": true,
     "grade_id": "cell-08ecc5c9e13302ba",
     "locked": true,
     "points": 1,
     "schema_version": 3,
     "solution": false,
     "task": false
    }
   },
   "outputs": [],
   "source": [
    "nbtest(answer_3a.7,'265fe2a1e49390630ea8b7985f27e5d3')"
   ]
  },
  {
   "cell_type": "markdown",
   "metadata": {
    "nbgrader": {
     "grade": false,
     "grade_id": "cell-bbc7c219ac091682",
     "locked": true,
     "schema_version": 3,
     "solution": false,
     "task": false
    }
   },
   "source": [
    "### 3(b)\n",
    "rubric={autograde:6,reasoning:1}\n",
    "\n",
    "Let $Z=X_1+X_2$, where $X_1$ and $X_2$ are iid variables with the same distribution as $X$ from part (a) above.\n",
    "\n",
    "Find the following quantities:\n",
    "\n",
    "1. $E[Z]$\n",
    "2. $Var(Z)$\n",
    "3. $P(X_1=2  \\mid  Z \\geq 6)$\n",
    "4. $P(X_1 = 2  \\mid  X_2 = 2)$\n",
    "5. $P(X_1 = 2  \\mid  Z \\geq 6, X_2 = 2)$\n",
    "6. $Cov(X_1,X_2)$\n",
    "7. (Optional) $Cov(Z, X_1)$\n",
    "\n",
    "Note: If you did everthing right, parts 3-5 above should form an interesting message. The $X$'s are independent, so conditioning on $X_2=2$ does not change $P(X_1=2)$. And, yet, the answers to parts 3 and 5 are not the same, even though we only conditioned on this extra \"irrelevant\" fact that $X_2=2$. The lesson is that \"irrelevant information\" can become relevant _when combined with other information_ (as it turns out, the opposite is also true - relevant information can become irrelevant). "
   ]
  },
  {
   "cell_type": "code",
   "execution_count": null,
   "metadata": {
    "nbgrader": {
     "grade": false,
     "grade_id": "cell-736b08da2e8544c7",
     "locked": false,
     "schema_version": 3,
     "solution": true
    }
   },
   "outputs": [],
   "source": [
    "# Replace NULL with your answer \n",
    "### BEGIN SOLUTION\n",
    "answer_3b.1 <- 6\n",
    "### END SOLUTION\n",
    "answer_3b.1 <- NULL\n",
    "### BEGIN SOLUTION\n",
    "answer_3b.2 <- 2\n",
    "### END SOLUTION\n",
    "answer_3b.2 <- NULL\n",
    "### BEGIN SOLUTION\n",
    "answer_3b.3 <- 0.4*0.2/0.65 \n",
    "### END SOLUTION\n",
    "answer_3b.3 <- NULL\n",
    "### BEGIN SOLUTION\n",
    "answer_3b.4 <- 0.2\n",
    "### END SOLUTION\n",
    "answer_3b.4 <- NULL\n",
    "### BEGIN SOLUTION\n",
    "answer_3b.5 <- 0\n",
    "### END SOLUTION\n",
    "answer_3b.5 <- NULL\n",
    "### BEGIN SOLUTION\n",
    "answer_3b.6 <- 0\n",
    "### END SOLUTION\n",
    "answer_3b.6 <- NULL"
   ]
  },
  {
   "cell_type": "code",
   "execution_count": null,
   "metadata": {
    "nbgrader": {
     "grade": true,
     "grade_id": "cell-770005760b0cd184",
     "locked": true,
     "points": 1,
     "schema_version": 3,
     "solution": false
    }
   },
   "outputs": [],
   "source": [
    "nbtest(answer_3b.1,'0aee9b78301d7ec8998971363be87c03')"
   ]
  },
  {
   "cell_type": "code",
   "execution_count": null,
   "metadata": {
    "nbgrader": {
     "grade": true,
     "grade_id": "cell-392348dce22ab03d",
     "locked": true,
     "points": 1,
     "schema_version": 3,
     "solution": false
    }
   },
   "outputs": [],
   "source": [
    "nbtest(answer_3b.2,'db8e490a925a60e62212cefc7674ca02')"
   ]
  },
  {
   "cell_type": "code",
   "execution_count": null,
   "metadata": {
    "nbgrader": {
     "grade": true,
     "grade_id": "cell-8eeb308e20cb2877",
     "locked": true,
     "points": 1,
     "schema_version": 3,
     "solution": false
    }
   },
   "outputs": [],
   "source": [
    "nbtest(answer_3b.3,'c3144914f0002a01c66943f41522c28e')"
   ]
  },
  {
   "cell_type": "code",
   "execution_count": null,
   "metadata": {
    "nbgrader": {
     "grade": true,
     "grade_id": "cell-e16c96ddd65ab08f",
     "locked": true,
     "points": 1,
     "schema_version": 3,
     "solution": false
    }
   },
   "outputs": [],
   "source": [
    "nbtest(answer_3b.4,'6a8e65e0821e8011c0f04d886dce9323')"
   ]
  },
  {
   "cell_type": "code",
   "execution_count": null,
   "metadata": {
    "nbgrader": {
     "grade": true,
     "grade_id": "cell-7b691e8bd2004a97",
     "locked": true,
     "points": 1,
     "schema_version": 3,
     "solution": false
    }
   },
   "outputs": [],
   "source": [
    "nbtest(answer_3b.5,'908d1fd10b357ed0ceaaec823abf81bc')"
   ]
  },
  {
   "cell_type": "code",
   "execution_count": null,
   "metadata": {
    "nbgrader": {
     "grade": true,
     "grade_id": "cell-48bab2c0974c0ad0",
     "locked": true,
     "points": 1,
     "schema_version": 3,
     "solution": false
    }
   },
   "outputs": [],
   "source": [
    "nbtest(answer_3b.6,'908d1fd10b357ed0ceaaec823abf81bc')"
   ]
  },
  {
   "cell_type": "markdown",
   "metadata": {
    "nbgrader": {
     "grade": true,
     "grade_id": "cell-260bd760fcff78b9",
     "locked": false,
     "points": 0,
     "schema_version": 3,
     "solution": true
    }
   },
   "source": [
    "Provide answer to question **3b.7** below.\n",
    "\n",
    "### BEGIN SOLUTION\n",
    "$$\\begin{align}Cov(Z, X_1)&=E[ZX_1]-E[Z]E[X_1]\\\\&=E[(X_1+X_2)X_1]-E[Z]E[X_1]\\\\&=E[X_1^2]+E[X_1X_2]-E[X_1+X_2]E[X_1]\\\\&=E[X_1^2]+E[X_1]E[X_2]-(E[X_1]+E[X_2])E[X_1]\\end{align}$$\n",
    "\n",
    "From 3a.4 we have $E[X_1]=E[X_2]=3$. From 3a.6 we have $E[X_1^2]=10$. So we're left with\n",
    "\n",
    "$$Cov(Z, X_1)=10 +3\\times 3 - (3+3)3=10+9-18=1$$\n",
    "### END SOLUTION"
   ]
  },
  {
   "cell_type": "markdown",
   "metadata": {
    "nbgrader": {
     "grade": false,
     "grade_id": "cell-50262bb670af213f",
     "locked": true,
     "schema_version": 3,
     "solution": false,
     "task": false
    }
   },
   "source": [
    "### (optional) 3(c)\n",
    "rubric={reasoning:3}\n",
    "\n",
    "1. What is the conditional distribution of $Z$ given that $X_1=3$, i.e. $P(Z=z \\mid X_1=3)$?\n",
    "2. What is the conditional distribution of $X_1$ given that $X_1\\geq3$, i.e. $P(X_1=x_1 \\mid X_1\\geq 3)$?\n",
    "3. What is the conditional distribution of $Z$ given that $X_1\\geq3$? In other words, find $P(Z=z \\mid X_1\\geq3)$ for all possible $z$.\n",
    "\n",
    "Note: the last question is tricky, but good. *P*( you understand conditional probability | you solved the optional question ) is high! When you're done, as a sanity check, make sure your probabilities add up to 1."
   ]
  },
  {
   "cell_type": "markdown",
   "metadata": {
    "nbgrader": {
     "grade": true,
     "grade_id": "cell-890c61ae7aca05c0",
     "locked": false,
     "points": 0,
     "schema_version": 3,
     "solution": true
    }
   },
   "source": [
    "Provide answer to question **3c.1-3** below.\n",
    "\n",
    "### BEGIN SOLUTION\n",
    "Solution:\n",
    "\n",
    "(1) See below\n",
    "\n",
    "| $Z \\quad $ | $P(Z\\,|\\,X_1=3) \\quad $ |\n",
    "|-----|--------|\n",
    "| $4$ |  $0.1$ |\n",
    "| $5$ |  $0.2$ | \n",
    "| $6$ |  $0.3$ | \n",
    "| $7$ |  $0.4$ | \n",
    "\n",
    "(2) Given that $X_1\\geq 3$, we have that $P(X_1=3\\,|\\,X_1\\geq 3)=3/7$ and $P(X_1=4\\,|\\,X_1\\geq 3)=4/7$\n",
    "\n",
    "| $X \\quad $ | $P(X\\,|\\,X_1\\geq 3) \\quad $ |\n",
    "|-----|--------|\n",
    "| $3$ |  $3/7$ |\n",
    "| $4$ |  $4/7$ | \n",
    "\n",
    "(3)\n",
    "\n",
    "$$P(Z\\,|\\,X_1\\geq3)=P(Z\\,|\\,X_1=3)P(X_1=3\\,|\\,X\\geq 3)+P(Z\\,|\\,X_1=4)P(X_1=4\\,|\\,X \\geq 3)= P(Z\\,|\\,X_1=3)(3/7)+P(Z\\,|\\,X_1=4)(4/7)$$\n",
    "\n",
    "- $P(Z=4\\,|\\,X_1\\geq3)=P(X_2=1)(3/7)+0=3/70$\n",
    "- $P(Z=5\\,|\\,X_1\\geq3)=P(X_2=2)(3/7)+P(X_2=1)(4/7)=10/70$\n",
    "- $P(Z=6\\,|\\,X_1\\geq3)=P(X_2=3)(3/7)+P(X_2=2)(4/7)=17/70$\n",
    "- $P(Z=7\\,|\\,X_1\\geq3)=P(X_2=4)(3/7)+P(X_2=3)(4/7)=24/70$\n",
    "- $P(Z=8\\,|\\,X_1\\geq3)=0+P(X_2=4)(4/7)=16/70$\n",
    "\n",
    "This bring us to the table below.\n",
    "\n",
    "| $Z \\quad $ | $P(Z\\,|\\,X_1\\geq3) \\quad \\quad \\quad \\quad $ |\n",
    "|-----|--------|\n",
    "| 4 |  $3/70$ |\n",
    "| 5 | $10/70$ | \n",
    "| 6 | $17/70$ | \n",
    "| 7 | $24/70$ | \n",
    "| 8 | $16/70$ | \n",
    "\n",
    "### END SOLUTION"
   ]
  },
  {
   "cell_type": "markdown",
   "metadata": {
    "nbgrader": {
     "grade": false,
     "grade_id": "cell-3cc0c76f30ed2bba",
     "locked": true,
     "schema_version": 3,
     "solution": false,
     "task": false
    }
   },
   "source": [
    "## Exercise 4\n",
    "rubric={autograde:7,reasoning:6}\n",
    "\n",
    "The following table gives the joint probability distribution of the number of houses ($X$) and the number of apartments ($Y$) sold per day by a real estate firm in Vancouver.\n",
    "\n",
    "![](jointPMF.png)\n",
    "\n",
    "Find the following quantities (it is acceptable to use R to calculate things):\n",
    "\n",
    "1. $P(X=0)$, the marginal probability of selling no houses in a day.\n",
    "2. $P(X=0,Y=0)$, the probability of selling nothing in a day. (Again, the comma is the same as $\\cap$.)\n",
    "3. $P(X=0 \\cup Y=0)$, the probability of selling no houses *or* no apartments in a day.\n",
    "4. $P(X=0  \\mid  Y=0)$, the probability of selling no houses given that no apartments were sold.\n",
    "5. $P(X=Y)$, the probability that the number of houses sold is the same as the number of apartments sold.\n",
    "6. $P(X\\geq Y)$, the probability that the number of houses sold is at least the number of apartments sold.\n",
    "7. $P(X+Y \\geq 5)$, the probability of at least 5 total sales in a day.\n",
    "8. Explain why the first row doesn't sum to 1. \n",
    "9. Are $X$ and $Y$ independent? Briefly explain your answer.\n",
    "10. Find the marginal distribution of $Y$."
   ]
  },
  {
   "cell_type": "code",
   "execution_count": null,
   "metadata": {
    "nbgrader": {
     "grade": false,
     "grade_id": "cell-578abf116607d675",
     "locked": false,
     "schema_version": 3,
     "solution": true
    }
   },
   "outputs": [],
   "source": [
    "# Replace NULL with your answer \n",
    "### BEGIN SOLUTION\n",
    "answer_4.1 <- 0.4\n",
    "### END SOLUTION\n",
    "answer_4.1 <- NULL\n",
    "### BEGIN SOLUTION\n",
    "answer_4.2 <- 0.1\n",
    "### END SOLUTION\n",
    "answer_4.2 <- NULL\n",
    "### BEGIN SOLUTION\n",
    "answer_4.3 <- 0.6\n",
    "### END SOLUTION\n",
    "answer_4.3 <- NULL\n",
    "### BEGIN SOLUTION\n",
    "answer_4.4 <- 1/3\n",
    "### END SOLUTION\n",
    "answer_4.4 <- NULL\n",
    "### BEGIN SOLUTION\n",
    "answer_4.5 <- 0.25\n",
    "### END SOLUTION\n",
    "answer_4.5 <- NULL\n",
    "### BEGIN SOLUTION\n",
    "answer_4.6 <- 0.54\n",
    "### END SOLUTION\n",
    "answer_4.6 <- NULL\n",
    "### BEGIN SOLUTION\n",
    "answer_4.7 <- 0.06\n",
    "### END SOLUTION\n",
    "answer_4.7 <- NULL"
   ]
  },
  {
   "cell_type": "code",
   "execution_count": null,
   "metadata": {
    "nbgrader": {
     "grade": true,
     "grade_id": "cell-309184b360dfc636",
     "locked": true,
     "points": 1,
     "schema_version": 3,
     "solution": false
    }
   },
   "outputs": [],
   "source": [
    "nbtest(answer_4.1,'3c3b9d75cc0e8cfcc29f40abd17afe8a')"
   ]
  },
  {
   "cell_type": "code",
   "execution_count": null,
   "metadata": {
    "nbgrader": {
     "grade": true,
     "grade_id": "cell-bb056689ad4170fd",
     "locked": true,
     "points": 1,
     "schema_version": 3,
     "solution": false
    }
   },
   "outputs": [],
   "source": [
    "nbtest(answer_4.2,'f23662d0838c244acb308b71749ac22e')"
   ]
  },
  {
   "cell_type": "code",
   "execution_count": null,
   "metadata": {
    "nbgrader": {
     "grade": true,
     "grade_id": "cell-f164dac85637880e",
     "locked": true,
     "points": 1,
     "schema_version": 3,
     "solution": false
    }
   },
   "outputs": [],
   "source": [
    "nbtest(answer_4.3,'af04a6f39588915a4dcac626c46434de')"
   ]
  },
  {
   "cell_type": "code",
   "execution_count": null,
   "metadata": {
    "nbgrader": {
     "grade": true,
     "grade_id": "cell-b35784446c32228e",
     "locked": true,
     "points": 1,
     "schema_version": 3,
     "solution": false
    }
   },
   "outputs": [],
   "source": [
    "nbtest(answer_4.4,'c9c4cbe0191acece15eb49088f15a032')"
   ]
  },
  {
   "cell_type": "code",
   "execution_count": null,
   "metadata": {
    "nbgrader": {
     "grade": true,
     "grade_id": "cell-6622be3869ae60d7",
     "locked": true,
     "points": 1,
     "schema_version": 3,
     "solution": false
    }
   },
   "outputs": [],
   "source": [
    "nbtest(answer_4.5,'37cd4e5174c65a7196eae5fed7c0a61e')"
   ]
  },
  {
   "cell_type": "code",
   "execution_count": null,
   "metadata": {
    "nbgrader": {
     "grade": true,
     "grade_id": "cell-4f9297a8c618090b",
     "locked": true,
     "points": 1,
     "schema_version": 3,
     "solution": false
    }
   },
   "outputs": [],
   "source": [
    "nbtest(answer_4.6,'9f7307e7bf5007922e3b0bdef6c3142e')"
   ]
  },
  {
   "cell_type": "code",
   "execution_count": null,
   "metadata": {
    "nbgrader": {
     "grade": true,
     "grade_id": "cell-555eb75b42d5c6a2",
     "locked": true,
     "points": 1,
     "schema_version": 3,
     "solution": false
    }
   },
   "outputs": [],
   "source": [
    "nbtest(answer_4.7,'aac62a0390a4ebd30bc133c8e3b21ef4')"
   ]
  },
  {
   "cell_type": "markdown",
   "metadata": {
    "nbgrader": {
     "grade": true,
     "grade_id": "cell-4aa024a00b2af85d",
     "locked": false,
     "points": 0,
     "schema_version": 3,
     "solution": true
    }
   },
   "source": [
    "Answer questions **4.8-4.10** below. Be sure to include your reasoning. \n",
    "\n",
    "### BEGIN SOLUTION\n",
    "- 8) The whole table sums to 1, as it is a probability distribution. So the first row can't sum to 1.\n",
    "- 9) No, the rows (and columns) are different.\n",
    "- 10) You obtain this by summing each column. \n",
    "\n",
    "| $y \\quad $ | $P(Y=y) \\quad \\quad $ |\n",
    "|-----|--------|\n",
    "| $0$ |  $0.3$ |\n",
    "| $1$ | $0.33$ | \n",
    "| $2$ | $0.2$ | \n",
    "| $3$ | $0.11$ | \n",
    "| $4$ | $0.06$ | \n",
    "\n",
    "\n",
    "### END SOLUTION"
   ]
  },
  {
   "cell_type": "markdown",
   "metadata": {
    "nbgrader": {
     "grade": false,
     "grade_id": "cell-c7ae726196c5adf4",
     "locked": true,
     "schema_version": 3,
     "solution": false,
     "task": false
    }
   },
   "source": [
    "## Exercise 5\n",
    "rubric={autograde:3; reasoning:1}\n",
    "\n",
    "A basketball player makes 70% of their free throws and gets exactly 2 free throws per game. We can use simulation to estimate the probability of the player missing both free throws in a game, as an alternative to finding this probability using exact calculations. The R function `run_game()` below simulates the outcome of a game:"
   ]
  },
  {
   "cell_type": "code",
   "execution_count": null,
   "metadata": {},
   "outputs": [],
   "source": [
    "#' Simulate throw success\n",
    "#' \n",
    "#' Simulates the outcome of a bunch of throws in a basketball game.\n",
    "#' Each throw has the same probability of success.\n",
    "#' \n",
    "#' @param throws Number of throws attempted in the game.\n",
    "#' @param p_success Success probability of a throw\n",
    "#' \n",
    "#' @return \n",
    "#' A tibble with columns named \"throw\" and \"outcome\", containing\n",
    "#' the throw number and the corresponding outcomes.\n",
    "run_game <- function(throws = 2, p_success = 0.7) {\n",
    "    probs <- c(1 - p_success, p_success)\n",
    "    sample(c(\"miss\", \"success\"),\n",
    "           size = throws,\n",
    "           replace = TRUE,\n",
    "           prob = probs) %>% \n",
    "        enframe(name = \"throw\", value = \"outcome\") %>% \n",
    "        mutate(throw = str_c(\"Throw\", throw, sep = \"_\"))\n",
    "}\n",
    "\n",
    "test_that(\"run_game output is as expected\", {\n",
    "    expect_true(is_tibble(run_game()))\n",
    "    expect_identical(nrow(run_game(throws = 5)), 5L)\n",
    "})\n",
    "\n",
    "run_game()"
   ]
  },
  {
   "cell_type": "markdown",
   "metadata": {},
   "source": [
    "The code below simulates five games, and binds the outcomes into one tibble. Copy and paste this code into a new cell and play with it to see how it works. \n",
    "\n",
    "```\n",
    "set.seed(1)  # Fix the random seed so results are reproducible (don't change this!)\n",
    "n <- 5  # Number of simulations to run\n",
    "map(1:n, ~ run_game()) %>% \n",
    "\tenframe(name = \"Game\", value = \"result\") %>% \n",
    "\tunnest(result) %>% \n",
    "\tspread(key   = \"throw\",\n",
    "           value = \"outcome\")\n",
    "```\n",
    "\n",
    "Now, answer the following questions, being sure to set the seed to 1 every time you run the simulation (so that we can compare your answer to our answer).\n",
    "\n",
    "1. What is the theoretical probability the player misses both free throws in a game (assuming the two throws are independent)?\n",
    "2. Based on 5 simulations, what is the probability the player misses both free throws in a game?\n",
    "3. Based on 20 simulations, what is the probability the player misses both free throws in a game?\n",
    "4. If you wanted to calculate the true probability of missing both free throws *using simulation*, how would you (hypothetically) run your simulation?"
   ]
  },
  {
   "cell_type": "code",
   "execution_count": null,
   "metadata": {
    "nbgrader": {
     "grade": false,
     "grade_id": "cell-a1df63a5e1b73d35",
     "locked": false,
     "schema_version": 3,
     "solution": true,
     "task": false
    }
   },
   "outputs": [],
   "source": [
    "### BEGIN SOLUTION\n",
    "answer_5.1 <- 0.3*0.3\n",
    "### END SOLUTION\n",
    "answer_5.1 <- NULL\n",
    "### BEGIN SOLUTION\n",
    "answer_5.2 <- 0\n",
    "### END SOLUTION\n",
    "answer_5.2 <- NULL\n",
    "### BEGIN SOLUTION\n",
    "answer_5.3 <- 1/20\n",
    "### END SOLUTION\n",
    "answer_5.3 <- NULL"
   ]
  },
  {
   "cell_type": "code",
   "execution_count": null,
   "metadata": {
    "nbgrader": {
     "grade": true,
     "grade_id": "cell-ebbc806fc23ceb36",
     "locked": true,
     "points": 1,
     "schema_version": 3,
     "solution": false,
     "task": false
    }
   },
   "outputs": [],
   "source": [
    "nbtest(answer_5.1,'6a1559ccb503c66a3a9e68c012eb9baa')"
   ]
  },
  {
   "cell_type": "code",
   "execution_count": null,
   "metadata": {
    "nbgrader": {
     "grade": true,
     "grade_id": "cell-5419b2e2da3fcb9e",
     "locked": true,
     "points": 1,
     "schema_version": 3,
     "solution": false,
     "task": false
    }
   },
   "outputs": [],
   "source": [
    "nbtest(answer_5.2,'908d1fd10b357ed0ceaaec823abf81bc')"
   ]
  },
  {
   "cell_type": "code",
   "execution_count": null,
   "metadata": {
    "nbgrader": {
     "grade": true,
     "grade_id": "cell-4209a20039a70d5a",
     "locked": true,
     "points": 1,
     "schema_version": 3,
     "solution": false,
     "task": false
    }
   },
   "outputs": [],
   "source": [
    "nbtest(answer_5.3,'e521ed5596735d8b4b29f83c57f471b5')"
   ]
  },
  {
   "cell_type": "markdown",
   "metadata": {
    "nbgrader": {
     "grade": true,
     "grade_id": "cell-8642f88bb6d9f2a9",
     "locked": false,
     "points": 0,
     "schema_version": 3,
     "solution": true,
     "task": false
    }
   },
   "source": [
    "Provide answer to question **5.4** below.\n",
    "\n",
    "### BEGIN SOLUTION\n",
    "Run the simulation many times until the probability estimate converges.\n",
    "### END SOLUTION"
   ]
  },
  {
   "cell_type": "markdown",
   "metadata": {
    "nbgrader": {
     "grade": false,
     "grade_id": "cell-31be91c80fbda3c6",
     "locked": true,
     "schema_version": 3,
     "solution": false,
     "task": false
    }
   },
   "source": [
    "## Exercise 6\n",
    "rubric={autograde:3; reasoning:2}\n",
    "\n",
    "Simulations can be extremely useful for estimating distributions. Imagine that you are planning on throwing a party to celebrate being part of the MDS program. You invite 40 guests to your party, but you'd like to get an idea of how many of those people will actually attend. This kind of problem is well suited to a simulation analysis! You can assign to each person a probability that they will attend your party based on what you know about them and can run an arbitrary number of simulations to see how many people might actually attend your (simulated) party.\n",
    "\n",
    "The code in the first cell below creates a tibble of data for you to use in this problem - you'll see tibbles more in future courses, you can think of them as dataframes (matrices with row and column labels). Run this code to view the data."
   ]
  },
  {
   "cell_type": "code",
   "execution_count": null,
   "metadata": {},
   "outputs": [],
   "source": [
    "guestlist <- suppressMessages(read_csv(\"data/guestlist.csv\")) %>% \n",
    "    mutate(\n",
    "        p_attend = case_when(\n",
    "            attend == 'Highly likely'   ~ 0.9,\n",
    "            attend == 'Likely'          ~ 0.8,\n",
    "            attend == 'Maybe'           ~ 0.6,\n",
    "            attend == 'Unlikely'        ~ 0.4,\n",
    "            attend == 'Highly unlikely' ~ 0.2\n",
    "        )\n",
    "    )\n",
    "sample_n(guestlist, 6)"
   ]
  },
  {
   "cell_type": "markdown",
   "metadata": {},
   "source": [
    "The next code chunk below defines a function to run the simulation for one party."
   ]
  },
  {
   "cell_type": "code",
   "execution_count": null,
   "metadata": {},
   "outputs": [],
   "source": [
    "#' Simulate attendance at a party\n",
    "#' \n",
    "#' Given a guest list with attendance probabilities, simulates\n",
    "#' attendance at the event.\n",
    "#' \n",
    "#' @param .data Data frame of guests and their attendance probabilities.\n",
    "#' @param pcol,guestcol Name of the column containing attendance probabilities \n",
    "#' and guest names, respectively. \n",
    "#' @return A vector of guests that attended the simulated party.\n",
    "run_party <- function(.data, pcol = \"p_attend\", guestcol = \"guest\") {\n",
    "    indiv_probs <- .data[[pcol]]\n",
    "    people      <- .data[[guestcol]]\n",
    "    in_attendance <- map_lgl(indiv_probs, rbernoulli, n=1)\n",
    "    people[in_attendance]\n",
    "}\n",
    "\n",
    "test_that(\"run_party output is as expected\", {\n",
    "    expect_true(is_vector(run_party(guestlist)))\n",
    "    expect_true(is_character(run_party(guestlist)))\n",
    "    expect_lte(length(run_party(guestlist)), nrow(guestlist))\n",
    "})\n",
    "\n",
    "run_party(guestlist)"
   ]
  },
  {
   "cell_type": "markdown",
   "metadata": {},
   "source": [
    "The next chunk of code uses the function to simulate 100 runs of a party, calculates the probability of each outcome, and plots the results. The sample mean is also calculated, and represented as a vertical red line."
   ]
  },
  {
   "cell_type": "code",
   "execution_count": null,
   "metadata": {},
   "outputs": [],
   "source": [
    "set.seed(1) # Set the random number generator seed (do not change this!)\n",
    "n <- 100\n",
    "options(repr.plot.width = 4, repr.plot.height = 3)\n",
    "\n",
    "attendance <- map(1:n, ~ run_party(guestlist)) %>% \n",
    "    map_int(length) %>% \n",
    "    enframe(name = \"simulation\", value = \"total_guests\")\n",
    "head(attendance, 5)\n",
    "\n",
    "attendance %>% \n",
    "    ggplot(aes(total_guests, y = ..prop..)) +\n",
    "    geom_bar() +\n",
    "    geom_vline(xintercept = mean(attendance$total_guests), \n",
    "               col = 'red', size = 1) +\n",
    "    labs(x = \"Number of guests in attendance\",\n",
    "         y = \"Simulated\\nProbability\") +\n",
    "    theme_bw() +\n",
    "    theme(text = element_text(size = 14))"
   ]
  },
  {
   "cell_type": "markdown",
   "metadata": {},
   "source": [
    "Use the simulation to answer the following questions. Be sure not to change the random seed from 1, so that your answers match up with ours.\n",
    "\n",
    "1. Read through the `run_party()` function and *very* briefly describe what it is doing.\n",
    "2. Use the `run_party()` code to simulate a single party. What is the number of guests that attend when you run this simulation?\n",
    "3. What is the average number of guests that attend when you run 50 simulations (round answer up)?\n",
    "4. What is the average number of guests that attend when you run 100 simulations (round answer up)?"
   ]
  },
  {
   "cell_type": "markdown",
   "metadata": {
    "nbgrader": {
     "grade": true,
     "grade_id": "cell-2812c5a7bc359499",
     "locked": false,
     "points": 0,
     "schema_version": 3,
     "solution": true,
     "task": false
    }
   },
   "source": [
    "Provide answer to question **6.1** below.\n",
    "\n",
    "### BEGIN SOLUTION\n",
    "Reads the guestlist.  Each guest is modelled as a Bernoulli random variable and assigned either attending (1) or not attending (0). Returns a vector of attending guestnames.\n",
    "### END SOLUTION"
   ]
  },
  {
   "cell_type": "code",
   "execution_count": null,
   "metadata": {
    "nbgrader": {
     "grade": false,
     "grade_id": "cell-07421a22b4e1e349",
     "locked": false,
     "schema_version": 3,
     "solution": true,
     "task": false
    }
   },
   "outputs": [],
   "source": [
    "### BEGIN SOLUTION\n",
    "answer_6.2 <- 25\n",
    "### END SOLUTION\n",
    "answer_6.2 <- NULL\n",
    "### BEGIN SOLUTION\n",
    "answer_6.3 <- 27\n",
    "### END SOLUTION\n",
    "answer_6.3 <- NULL\n",
    "### BEGIN SOLUTION\n",
    "answer_6.4 <- 26\n",
    "### END SOLUTION\n",
    "answer_6.4 <- NULL"
   ]
  },
  {
   "cell_type": "code",
   "execution_count": null,
   "metadata": {
    "nbgrader": {
     "grade": true,
     "grade_id": "cell-f27d070ad1591cbe",
     "locked": true,
     "points": 1,
     "schema_version": 3,
     "solution": false,
     "task": false
    }
   },
   "outputs": [],
   "source": [
    "nbtest(answer_6.2,'f748189bf7c2489a152bbb720a317cdf')"
   ]
  },
  {
   "cell_type": "code",
   "execution_count": null,
   "metadata": {
    "nbgrader": {
     "grade": true,
     "grade_id": "cell-4995e43ddcc576a4",
     "locked": true,
     "points": 1,
     "schema_version": 3,
     "solution": false,
     "task": false
    }
   },
   "outputs": [],
   "source": [
    "nbtest(answer_6.3,'d67e45a2969126b99ee66ab6f3497c2c')"
   ]
  },
  {
   "cell_type": "code",
   "execution_count": null,
   "metadata": {
    "nbgrader": {
     "grade": true,
     "grade_id": "cell-f2993b273abe714b",
     "locked": true,
     "points": 1,
     "schema_version": 3,
     "solution": false,
     "task": false
    }
   },
   "outputs": [],
   "source": [
    "nbtest(answer_6.4,'be0366bf3ab7c3a8343db6c2a13cfc4d')"
   ]
  },
  {
   "cell_type": "markdown",
   "metadata": {
    "nbgrader": {
     "grade": false,
     "grade_id": "cell-846f86d3a1d9864b",
     "locked": true,
     "schema_version": 3,
     "solution": false
    }
   },
   "source": [
    "### (optional) 6(b)\n",
    "rubric={reasoning:3}\n",
    "\n",
    "Now you want to know how many cupcakes you should bake for your party. This of course depends on the number of guests attending the party and how many cupcakes they each eat. The average number of cupcakes each guest eats at a party is contained within the `cupcakes` column of the `guestlist` tibble. \n",
    "\n",
    "The code in the next cell modifies the `run_party()` function to simulate the number of cupcakes needed for your party.\n",
    "\n",
    "1. What kind of distribution is best suited to modelling the number of cupcakes a person might eat at a party? (hint: you have the mean number of cupcakes each person eats, and the distribution should be bounded by 0 and infinity...)\n",
    "2. Fill the `INSERT_CODE_HERE` to complete the function `run_party_cupcakes` below by using an R function for the distribution you identified in **6b.1** (e.g., `rnorm`,`rexp`,`rpois`, etc.). Then use the following cell to determine the number of cupcakes needed in 1 simulation.\n",
    "3. What is the estimated number of cupcakes from 1000 simulations (round up)?"
   ]
  },
  {
   "cell_type": "code",
   "execution_count": null,
   "metadata": {},
   "outputs": [],
   "source": [
    "#' Simulate number of cupcakes eachguest eats at a party\n",
    "#' \n",
    "#' Given a guest list with attendance probabilities, and average\n",
    "#' number of cupcakes each guest eats, simulates the total number of\n",
    "#' cupcakes eaten.\n",
    "#' \n",
    "#' @param .data Data frame of guests, their attendance probabilities, average\n",
    "#' number of cupcakes they eat at a party.      \n",
    "#' @param pcol,guestcol Name of the column containing attendance probabilities, \n",
    "#' guest names, average number of cupcakes eaten respectively. \n",
    "#' @return A vector of cupcakes each attending guest eats in the simulated party.\n",
    "run_party_cupcakes <- function(.data, pcol = \"p_attend\", guestcol = \"guest\", cakecol = \"cupcakes\") {\n",
    "    indiv_probs <- .data[[pcol]]\n",
    "    people      <- .data[[guestcol]]\n",
    "    in_attendance <- map_lgl(indiv_probs, rbernoulli, n=1)\n",
    "    num_cupcakes <- map(guestlist[[cakecol]][in_attendance], INSERT_CODE_HERE, n=1)\n",
    "    unlist(num_cupcakes, use.names=FALSE)\n",
    "}\n",
    "\n",
    "run_party_cupcakes(guestlist)"
   ]
  },
  {
   "cell_type": "code",
   "execution_count": null,
   "metadata": {},
   "outputs": [],
   "source": [
    "set.seed(1) # Set the random number generator seed (do not change this!)\n",
    "n <- 10\n",
    "options(repr.plot.width = 4, repr.plot.height = 3)\n",
    "\n",
    "attendance <- map(1:n, ~ run_party_cupcakes(guestlist)) %>% \n",
    "    map_int(sum) %>% \n",
    "    enframe(name = \"simulation\", value = \"total_cupcakes\")\n",
    "head(attendance, 5)\n",
    "\n",
    "attendance %>% \n",
    "    ggplot(aes(total_cupcakes)) +\n",
    "    geom_bar() +\n",
    "    geom_vline(xintercept = mean(attendance$total_cupcakes), \n",
    "               col = 'red', size = 1) +\n",
    "    labs(x = \"Number of cupcakes to bake\",\n",
    "         y = \"Simulated\\nProbability\") +\n",
    "    theme_bw() +\n",
    "    theme(text = element_text(size = 14))"
   ]
  },
  {
   "cell_type": "markdown",
   "metadata": {
    "nbgrader": {
     "grade": true,
     "grade_id": "cell-135d0685b0708d7f",
     "locked": false,
     "points": 0,
     "schema_version": 3,
     "solution": true,
     "task": false
    }
   },
   "source": [
    "Answer questions **6b.1-6b.3** below. \n",
    "\n",
    "### BEGIN SOLUTION\n",
    "\n",
    "- 6b.1) \"Poisson\"\n",
    "- 6b.2) The code that needs to be added is `rpois`, answer is 40 cupcakes\n",
    "- 6b.3) 42 cupcakes\n",
    "\n",
    "### END SOLUTION"
   ]
  },
  {
   "cell_type": "markdown",
   "metadata": {
    "nbgrader": {
     "grade": false,
     "grade_id": "cell-73348d703e1afe8e",
     "locked": true,
     "schema_version": 3,
     "solution": false,
     "task": false
    }
   },
   "source": [
    "## (Optional) Exercise 7\n",
    "rubric={reasoning:1}\n",
    "\n",
    "\n",
    "Show that the variance of the Binomial distribution with $n$ trials and success probability $p$ is $np(1-p)$, using the following steps:\n",
    "\n",
    "1. Rewrite the binomial outcome as the sum of independent, identically distributed (iid) Bernoulli random variables.\n",
    "2. Use the fact that the variance of the sum of iid variables is the sum of the individual variances.\n",
    "3. Derive the variance of one of these Bernoulli variables."
   ]
  },
  {
   "cell_type": "markdown",
   "metadata": {
    "nbgrader": {
     "grade": true,
     "grade_id": "cell-8353f5634ddd260f",
     "locked": false,
     "points": 0,
     "schema_version": 3,
     "solution": true
    }
   },
   "source": [
    "Provide your solution to question **7** below.\n",
    "\n",
    "### BEGIN SOLUTION\n",
    "Let $Z$ be the binomial variable. Then $Z=\\sum_{i=1}^nX_i$ where $X_i$ are iid Bernoullis with the same parameter $p$. Then \n",
    "\n",
    "$$Var(Z)=Var\\left(\\sum_{i=1}^nX_i\\right)=\\sum_{i=1}^nVar(X_i)=nVar(X)$$\n",
    "\n",
    "Next, $Var(X)=E[X^2]-E[X]^2=p-p^2$. So, finally, we have\n",
    "\n",
    "$$Var(Z)=n(p-p^2)=np(1-p)$$\n",
    "### END SOLUTION"
   ]
  },
  {
   "cell_type": "markdown",
   "metadata": {
    "nbgrader": {
     "grade": false,
     "grade_id": "cell-56d640bb01b23251",
     "locked": true,
     "schema_version": 3,
     "solution": false,
     "task": false
    }
   },
   "source": [
    "## (Optional) Exercise 8\n",
    "rubric={reasoning:2}\n",
    "\n",
    "Saying \"$X$ and $Y$ are independent\" and \"$X$ and $Y$ are uncorrelated\" are not the same thing. (By \"uncorrelated\" we mean having linear correlation of zero or, equivalently, having zero covariance.) To show that they are not the same thing, we'll consider the 4 possible scenarios of those two statements being true/false. \n",
    "\n",
    "1. $X$ and $Y$ are independent and have zero covariance/correlation (true/true)\n",
    "2. $X$ and $Y$ are independent and have nonzero covariance/correlation (true/false)\n",
    "3. $X$ and $Y$ are not independent and have zero covariance/correlation (false/true)\n",
    "4. $X$ and $Y$ are not independent and have nonzero covariance/correlation (false/false)\n",
    "\n",
    "Classify each of the above scenarios as either possible or impossible. If you classify a scenario as possible, give an example. If you classify a scenario as impossible, briefly explain why not. (If it turned out that scenarios 1 and 4 are possible while 2 and 3 are impossible, that would mean the two statements are equivalent - but, as you'll see, they aren't!)"
   ]
  },
  {
   "cell_type": "markdown",
   "metadata": {
    "nbgrader": {
     "grade": true,
     "grade_id": "cell-b6a27a07208e5430",
     "locked": false,
     "points": 0,
     "schema_version": 3,
     "solution": true
    }
   },
   "source": [
    "Provide your answers to questions **8.1-8.4** below.\n",
    "\n",
    "### BEGIN SOLUTION\n",
    "1. Possible. Example: two iid Bernoullis with $p=0.5$.\n",
    "2. Impossible. Covariance is defined as  $E[XY]-E[X]E[Y]$. But independence implies $E[XY]=E[X]E[Y]$. Proof of this: $E[XY]=\\sum_{x,y} xy p(x,y)$, and by independence this is $\\sum_{x,y} xy p(x)p(y)=\\sum_x x p(x) \\sum_y y p(x)=E[X]E[Y]$.\n",
    "3. Possible. Let $X$ be $\\pm 1$ with probability 0.5 each. Let $P(Y=0 \\mid X=1)=1$, i.e. if $X$ is $+1$ then $Y$ is deterministically zero. Furthermore, if $X$ is $-1$ then let $Y$ take values $\\pm 1$ with probability 0.5 each. They are not independent: the conditional distribution of $Y$ depends on $X$ (in fact, knowing $X=1$ fully determines $Y$). But their covariance is zero: $E[XY]-E[X]E[Y]=0.5(1)(0)+0.25(-1)(-1)+0.25(-1)(+1)-(0)(0)=0$.\n",
    "4. Possible. Example: $X=Y$ for most random variables, like a Bernoulli.\n",
    "\n",
    "### END SOLUTION"
   ]
  },
  {
   "cell_type": "markdown",
   "metadata": {
    "nbgrader": {
     "grade": true,
     "grade_id": "cell-8870c982878f861e",
     "locked": false,
     "points": 0,
     "schema_version": 3,
     "solution": true
    }
   },
   "source": [
    "**Please leave this cell blank.**\n",
    "\n",
    "### BEGIN SOLUTION\n",
    "\n",
    "Exercise 1:  \n",
    "\n",
    "1. Bernoulli\n",
    "2. Categorical\n",
    "3. Binomial\n",
    "4. Binomial\n",
    "5. Poisson\n",
    "\n",
    "Exercise 1b:  \n",
    "\n",
    "No, $x$ is the argument of the probability mass function ${N\\choose x}p^x(1-p)^{N-x}$, where ${N\\choose x}=\\frac{N!}{x!(N-x)!}$\n",
    "\n",
    "$N$ and $p$ are the parameters that define the binomial distribution, $\\text{Binomial}(N,p)$. \n",
    "\n",
    "\n",
    "Exercise 2:  \n",
    "\n",
    "1. $1/3$\n",
    "2. $1/2$\n",
    "3. $1/3$\n",
    "4. $0$\n",
    "\n",
    "Exercise 3a:  \n",
    "\n",
    "1. $3/7$\n",
    "2. $7/9$\n",
    "3. $1$\n",
    "4. $0.1+0.4+0.9+1.6=3$\n",
    "5. $3(3/7)+4(4/7)=25/7\\approx 3.6$\n",
    "6. $E[X^2]=0.1(1)+0.2(4)+0.3(9)+0.4(16)=10$. So, $Var(X)=E[X^2]-E[X]^2=10-9=1$.\n",
    "7. $-(0.1log(0.1) + 0.2log(0.2) + 0.3log(0.3) + 0.4log(0.4))\\approx 1.28$\n",
    "\n",
    "Exercise 3b:\n",
    "\n",
    "1. $2E[X]=6$\n",
    "2. $2Var(X)=2$\n",
    "3. This can be approached with Bayes' theorem: $P(Z \\geq 6 | X_1=2)P(X_1=2)/P(Z \\geq 6)=(0.4)(0.2)/(0.65)\\approx0.12$\n",
    "4. $0.2$\n",
    "5. $0$\n",
    "6. $0$ b/c independent\n",
    "7. \n",
    "\n",
    "$$\\begin{align}Cov(Z, X_1)&=E[ZX_1]-E[Z]E[X_1]\\\\&=E[(X_1+X_2)X_1]-E[Z]E[X_1]\\\\&=E[X_1^2]+E[X_1X_2]-E[X_1+X_2]E[X_1]\\\\&=E[X_1^2]+E[X_1]E[X_2]-(E[X_1]+E[X_2])E[X_1]\\\\&=10 +3\\times 3 - (3+3)3\\\\&=10+9-18\\\\&=1\\end{align}$$\n",
    "\n",
    "Exercise 3c:  \n",
    "\n",
    "See above.\n",
    "\n",
    "Exercise 4:\n",
    "\n",
    "1. $0.4$\n",
    "2. $0.1$\n",
    "3. $0.6$\n",
    "4. $1/3$\n",
    "5. $0.25$\n",
    "6. $0.54$\n",
    "7. $0.06$\n",
    "8. The whole table sums to 1, as it is a probability distribution. So the first row can't sum to 1.\n",
    "9. No, the rows (and columns) are different.\n",
    "10. You obtain this by summing each column. \n",
    "\n",
    "| $y \\quad $ | $P(Y=y) \\quad \\quad $ |\n",
    "|-----|--------|\n",
    "| $0$ |  $0.3$ |\n",
    "| $1$ | $0.33$ | \n",
    "| $2$ | $0.2$ | \n",
    "| $3$ | $0.11$ | \n",
    "| $4$ | $0.06$ | \n",
    "\n",
    "\n",
    "Exercise 5:\n",
    "\n",
    "1. 0.3*0.3\n",
    "2. 0 \n",
    "3. 1/20\n",
    "\n",
    "Exercise 6:\n",
    "\n",
    "1. Reads the guestlist.  Each guest is modelled as a Bernoulli random variable and assigned either attending (1) or not attending (0). Returns a vector of attending guestnames.\n",
    "2. 25\n",
    "3. 27\n",
    "4. 26\n",
    "\n",
    "Exercise 7:  \n",
    "\n",
    "See above.\n",
    "\n",
    "Exercise 8:  \n",
    "\n",
    "See above.\n",
    "\n",
    "### END SOLUTION"
   ]
  }
 ],
 "metadata": {
  "Rmd_header": {
   "output": "pdf_document",
   "title": "DSCI 551 Lab 2",
   "urlcolor": "blue"
  },
  "celltoolbar": "Create Assignment",
  "kernelspec": {
   "display_name": "R",
   "language": "R",
   "name": "ir"
  },
  "language_info": {
   "codemirror_mode": "r",
   "file_extension": ".r",
   "mimetype": "text/x-r-source",
   "name": "R",
   "pygments_lexer": "r",
   "version": "3.6.1"
  }
 },
 "nbformat": 4,
 "nbformat_minor": 4
}
