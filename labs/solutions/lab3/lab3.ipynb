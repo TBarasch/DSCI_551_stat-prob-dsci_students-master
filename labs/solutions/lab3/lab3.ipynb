{
 "cells": [
  {
   "cell_type": "markdown",
   "metadata": {
    "nbgrader": {
     "grade": false,
     "grade_id": "cell-e5613e581a353347",
     "locked": true,
     "schema_version": 3,
     "solution": false,
     "task": false
    }
   },
   "source": [
    "# DSCI 551: Descriptive Statistics and Probability for Data Science\n",
    "# Lab 3"
   ]
  },
  {
   "cell_type": "markdown",
   "metadata": {
    "nbgrader": {
     "grade": false,
     "grade_id": "cell-758f62a45a68155c",
     "locked": true,
     "schema_version": 3,
     "solution": false,
     "task": false
    }
   },
   "source": [
    "# Submission instructions\n",
    "\n",
    "rubric={mechanics:5}\n",
    "- To submit this assignment, submit this Jupyter notebook `.ipynb` file completed with your answers.\n",
    "- Be sure to follow the [general lab instructions](https://ubc-mds.github.io/resources_pages/general_lab_instructions/).\n",
    "- Use proper English, spelling, and grammar throughout your submission.\n"
   ]
  },
  {
   "cell_type": "code",
   "execution_count": null,
   "metadata": {},
   "outputs": [],
   "source": [
    "# Load necessary packages\n",
    "library(testthat)\n",
    "library(digest)"
   ]
  },
  {
   "cell_type": "code",
   "execution_count": null,
   "metadata": {},
   "outputs": [],
   "source": [
    "# This cell defines a function that tests your solutions\n",
    "nbtest <- function(answer, true.hash, tolerance=0) {\n",
    "    test_that(\"Failure.\", {\n",
    "        if (class(answer) == \"numeric\"){\n",
    "            expect_equal(digest(signif(answer,6)), true.hash, tolerance)\n",
    "        }\n",
    "        else {\n",
    "            expect_equal(digest(answer), true.hash, tolerance)\n",
    "        } \n",
    "    })\n",
    "   print(\"Success!\")\n",
    "}"
   ]
  },
  {
   "cell_type": "markdown",
   "metadata": {
    "nbgrader": {
     "grade": false,
     "grade_id": "cell-43272167931e5a15",
     "locked": true,
     "schema_version": 3,
     "solution": false
    }
   },
   "source": [
    "## Exercise 1\n",
    "rubric={autograde:3,reasoning:2}\n",
    "\n",
    "Suppose the time it takes Kelly and Kelsey to finish a marathon is uniformly distributed between 5 hours and 5.5 hours. Let's denote their times $X$ and $Y$ respectively, and assume $X$ and $Y$ are independent.\n",
    "\n",
    "1. What is the joint pdf of $X$ and $Y$? Write an equation, or fully describe it.\n",
    "2. What is the probability that both of their times are between 5 hours and 5.1 hours?\n",
    "3. What is the probability that at least one of them will finish in less than 5 hours and 15 minutes?\n",
    "4. What is the probability that the faster of the two will finish in less than 5 hours and 15 minutes?"
   ]
  },
  {
   "cell_type": "markdown",
   "metadata": {
    "nbgrader": {
     "grade": true,
     "grade_id": "cell-d5b1f42cd229424e",
     "locked": false,
     "points": 0,
     "schema_version": 3,
     "solution": true
    }
   },
   "source": [
    "Provide solution for question **1.1** below.\n",
    "\n",
    "### BEGIN SOLUTION\n",
    "$P(X)=\\frac{1}{5.5-5}=2$\n",
    "\n",
    "$P(Y)=\\frac{1}{5.5-5}=2$\n",
    "\n",
    "$P(X,Y)=P(X|Y)P(Y)=P(X)*P(Y)=2*2=4$\n",
    "### END SOLUTION"
   ]
  },
  {
   "cell_type": "code",
   "execution_count": null,
   "metadata": {
    "nbgrader": {
     "grade": false,
     "grade_id": "cell-fb5a270bb1284243",
     "locked": false,
     "schema_version": 3,
     "solution": true
    }
   },
   "outputs": [],
   "source": [
    "# Replace NULL with your answer.\n",
    "\n",
    "### BEGIN SOLUTION\n",
    "# P(X<5.1,Y<5.1)= P(X<5.1)*P(Y<5.1)=(0.1*2)*(0.1*2)\n",
    "answer_1.2 <- 0.04\n",
    "### END SOLUTION\n",
    "answer_1.2 <- NULL\n",
    "### BEGIN SOLUTION\n",
    "# By inclusion-exclusion, P(X or Y)=P(X)+P(Y)-P(X,Y) \n",
    "answer_1.3 <- 0.5 + 0.5 - 0.25\n",
    "### END SOLUTION\n",
    "answer_1.3 <- NULL\n",
    "### BEGIN SOLUTION\n",
    "# Same as above\n",
    "answer_1.4 <- 0.75\n",
    "### END SOLUTION\n",
    "answer_1.4 <- NULL"
   ]
  },
  {
   "cell_type": "code",
   "execution_count": null,
   "metadata": {
    "nbgrader": {
     "grade": true,
     "grade_id": "cell-95c56fdb60571641",
     "locked": true,
     "points": 1,
     "schema_version": 3,
     "solution": false
    }
   },
   "outputs": [],
   "source": [
    "nbtest(answer_1.2, '26f886db3148d0fbf83f8f0bf492cf51')"
   ]
  },
  {
   "cell_type": "code",
   "execution_count": null,
   "metadata": {
    "nbgrader": {
     "grade": true,
     "grade_id": "cell-0581260e361360a5",
     "locked": true,
     "points": 1,
     "schema_version": 3,
     "solution": false
    }
   },
   "outputs": [],
   "source": [
    "nbtest(answer_1.3, '00f3fa27c01aee5e7633e06a130c827e')"
   ]
  },
  {
   "cell_type": "code",
   "execution_count": null,
   "metadata": {
    "nbgrader": {
     "grade": true,
     "grade_id": "cell-cade87d8b3f2d6bd",
     "locked": true,
     "points": 1,
     "schema_version": 3,
     "solution": false
    }
   },
   "outputs": [],
   "source": [
    "nbtest(answer_1.4, '00f3fa27c01aee5e7633e06a130c827e')"
   ]
  },
  {
   "cell_type": "markdown",
   "metadata": {
    "nbgrader": {
     "grade": false,
     "grade_id": "cell-32d5c0eb80d81f73",
     "locked": true,
     "schema_version": 3,
     "solution": false,
     "task": false
    },
    "toc-hr-collapsed": true
   },
   "source": [
    "## Exercise 2"
   ]
  },
  {
   "cell_type": "markdown",
   "metadata": {
    "nbgrader": {
     "grade": false,
     "grade_id": "cell-e13553ce3cbadecc",
     "locked": true,
     "schema_version": 3,
     "solution": false
    }
   },
   "source": [
    "### 2(a)\n",
    "rubric={autograde:12}\n",
    "\n",
    "In this exercise we'll try to compare discrete and continuous probability distributions using the uniform distribution as an example.\n",
    "\n",
    "Let $X$ follow the **discrete** uniform distribution from 0 to 4, and $Y$ follow the **continuous** uniform distribution from 0 to 4. Assume $X$ and $Y$ are independent.\n",
    "\n",
    "Find the following quantities:\n",
    "\n",
    "1. $P(X=1)$\n",
    "2. $P(Y=1)$\n",
    "1. $P(0.2\\leq X \\leq 0.3)$\n",
    "2. $P(0.2\\leq Y \\leq 0.3)$\n",
    "3. $E[X]$\n",
    "4. $E[Y]$\n",
    "5. $P(Y\\geq X)$\n",
    "6. $P(X^2 \\leq 2)$\n",
    "7. $P(Y^2 \\leq 2)$\n",
    "8. $Var(X)$\n",
    "9. $Var(Y)$\n",
    "10. $Cov(X,Y)$\n"
   ]
  },
  {
   "cell_type": "code",
   "execution_count": null,
   "metadata": {
    "nbgrader": {
     "grade": false,
     "grade_id": "cell-33fbfcd634d36a1a",
     "locked": false,
     "schema_version": 3,
     "solution": true
    }
   },
   "outputs": [],
   "source": [
    "# Replace NULL with your answer\n",
    "\n",
    "### BEGIN SOLUTION\n",
    "# 1/5\n",
    "answer_2.01  <- 0.2\n",
    "### END SOLUTION\n",
    "answer_2.01 <- NULL\n",
    "### BEGIN SOLUTION\n",
    "# P=0 for single value in continuous distribution\n",
    "answer_2.02  <- 0\n",
    "### END SOLUTION\n",
    "answer_2.02 <- NULL\n",
    "### BEGIN SOLUTION\n",
    "# X cannot assume these values\n",
    "answer_2.03  <- 0\n",
    "### END SOLUTION\n",
    "answer_2.03 <- NULL\n",
    "### BEGIN SOLUTION\n",
    "# calculate the area under the distribution, 0.1*(1/4)\n",
    "answer_2.04  <- 0.025\n",
    "### END SOLUTION\n",
    "answer_2.04 <- NULL\n",
    "### BEGIN SOLUTION\n",
    "# E[X]=sum(x*P(x))\n",
    "answer_2.05  <- 2\n",
    "### END SOLUTION\n",
    "answer_2.05 <- NULL\n",
    "### BEGIN SOLUTION\n",
    "# Formula is 0.5(a+b)=0.5*4\n",
    "answer_2.06  <- 2\n",
    "### END SOLUTION\n",
    "answer_2.06 <- NULL\n",
    "### BEGIN SOLUTION\n",
    "# P(X=0,Y>=0)+P(X=1,Y>=1)+P(X=2,Y>=2)+P(X=3,Y>=3)+P(X=4,Y>=4) = (0.2*1)+(0.2*0.75)+(0.2*0.5)+(0.2*0.25)+(0.2*0)\n",
    "answer_2.07  <- 0.5\n",
    "### END SOLUTION\n",
    "answer_2.07 <- NULL\n",
    "### BEGIN SOLUTION\n",
    "# Only possible values of X are, X=0, X=1, therefore P=0.2+0.2\n",
    "answer_2.08  <- 0.4\n",
    "### END SOLUTION\n",
    "answer_2.08 <- NULL\n",
    "### BEGIN SOLUTION\n",
    "# P(Y<sqrt(2))=sqrt(2)/4\n",
    "answer_2.09  <- sqrt(2)/4\n",
    "### END SOLUTION\n",
    "answer_2.09 <- NULL\n",
    "### BEGIN SOLUTION\n",
    "# E[X^2] - E[X]^2 = 6 - 2^2\n",
    "answer_2.10  <- 2\n",
    "### END SOLUTION\n",
    "answer_2.10 <- NULL\n",
    "### BEGIN SOLUTION\n",
    "# variance = ((b-a)^2)/12\n",
    "answer_2.11  <- 4/3\n",
    "### END SOLUTION\n",
    "answer_2.11 <- NULL\n",
    "### BEGIN SOLUTION\n",
    "# Independent variables\n",
    "answer_2.12  <- 0\n",
    "### END SOLUTION\n",
    "answer_2.12 <- NULL"
   ]
  },
  {
   "cell_type": "code",
   "execution_count": null,
   "metadata": {
    "nbgrader": {
     "grade": true,
     "grade_id": "cell-ab7a0718fad28dd6",
     "locked": true,
     "points": 1,
     "schema_version": 3,
     "solution": false
    }
   },
   "outputs": [],
   "source": [
    "nbtest(answer_2.01,'6a8e65e0821e8011c0f04d886dce9323')"
   ]
  },
  {
   "cell_type": "code",
   "execution_count": null,
   "metadata": {
    "nbgrader": {
     "grade": true,
     "grade_id": "cell-fd636e76eeaf5951",
     "locked": true,
     "points": 1,
     "schema_version": 3,
     "solution": false
    }
   },
   "outputs": [],
   "source": [
    "nbtest(answer_2.02,'908d1fd10b357ed0ceaaec823abf81bc')"
   ]
  },
  {
   "cell_type": "code",
   "execution_count": null,
   "metadata": {
    "nbgrader": {
     "grade": true,
     "grade_id": "cell-421fde1109e7b2bf",
     "locked": true,
     "points": 1,
     "schema_version": 3,
     "solution": false
    }
   },
   "outputs": [],
   "source": [
    "nbtest(answer_2.03,'908d1fd10b357ed0ceaaec823abf81bc')"
   ]
  },
  {
   "cell_type": "code",
   "execution_count": null,
   "metadata": {
    "nbgrader": {
     "grade": true,
     "grade_id": "cell-2954089f19186575",
     "locked": true,
     "points": 1,
     "schema_version": 3,
     "solution": false
    }
   },
   "outputs": [],
   "source": [
    "nbtest(answer_2.04,'72544651fd4af02e85544a197c5a199d')"
   ]
  },
  {
   "cell_type": "code",
   "execution_count": null,
   "metadata": {
    "nbgrader": {
     "grade": true,
     "grade_id": "cell-05ff267a594a4ecc",
     "locked": true,
     "points": 1,
     "schema_version": 3,
     "solution": false
    }
   },
   "outputs": [],
   "source": [
    "nbtest(answer_2.05,'db8e490a925a60e62212cefc7674ca02')"
   ]
  },
  {
   "cell_type": "code",
   "execution_count": null,
   "metadata": {
    "nbgrader": {
     "grade": true,
     "grade_id": "cell-0b39435b84bb7641",
     "locked": true,
     "points": 1,
     "schema_version": 3,
     "solution": false
    }
   },
   "outputs": [],
   "source": [
    "nbtest(answer_2.06,'db8e490a925a60e62212cefc7674ca02')"
   ]
  },
  {
   "cell_type": "code",
   "execution_count": null,
   "metadata": {
    "nbgrader": {
     "grade": true,
     "grade_id": "cell-fe59a25c9dd711fc",
     "locked": true,
     "points": 1,
     "schema_version": 3,
     "solution": false
    }
   },
   "outputs": [],
   "source": [
    "nbtest(answer_2.07,'03b3b7e9967823ca8ae75c138a3aa39c')"
   ]
  },
  {
   "cell_type": "code",
   "execution_count": null,
   "metadata": {
    "nbgrader": {
     "grade": true,
     "grade_id": "cell-61170fe41c7762d8",
     "locked": true,
     "points": 1,
     "schema_version": 3,
     "solution": false
    }
   },
   "outputs": [],
   "source": [
    "nbtest(answer_2.08,'3c3b9d75cc0e8cfcc29f40abd17afe8a')"
   ]
  },
  {
   "cell_type": "code",
   "execution_count": null,
   "metadata": {
    "nbgrader": {
     "grade": true,
     "grade_id": "cell-7914fd0a45702352",
     "locked": true,
     "points": 1,
     "schema_version": 3,
     "solution": false
    }
   },
   "outputs": [],
   "source": [
    "nbtest(answer_2.09,'cbcc1c4cea545c3e20256f49d803671e')"
   ]
  },
  {
   "cell_type": "code",
   "execution_count": null,
   "metadata": {
    "nbgrader": {
     "grade": true,
     "grade_id": "cell-ccf7a67a061b0259",
     "locked": true,
     "points": 1,
     "schema_version": 3,
     "solution": false
    }
   },
   "outputs": [],
   "source": [
    "nbtest(answer_2.10,'db8e490a925a60e62212cefc7674ca02')"
   ]
  },
  {
   "cell_type": "code",
   "execution_count": null,
   "metadata": {
    "nbgrader": {
     "grade": true,
     "grade_id": "cell-0af2040bf55c2628",
     "locked": true,
     "points": 1,
     "schema_version": 3,
     "solution": false
    }
   },
   "outputs": [],
   "source": [
    "nbtest(answer_2.11,'dc78ae837f4046f4d69d64e3b0c57c29')"
   ]
  },
  {
   "cell_type": "code",
   "execution_count": null,
   "metadata": {
    "nbgrader": {
     "grade": true,
     "grade_id": "cell-61944b76d6c1471f",
     "locked": true,
     "points": 1,
     "schema_version": 3,
     "solution": false
    }
   },
   "outputs": [],
   "source": [
    "nbtest(answer_2.12,'908d1fd10b357ed0ceaaec823abf81bc')"
   ]
  },
  {
   "cell_type": "markdown",
   "metadata": {
    "nbgrader": {
     "grade": false,
     "grade_id": "cell-8ee44e5f566405e6",
     "locked": true,
     "schema_version": 3,
     "solution": false
    }
   },
   "source": [
    "### 2(b)\n",
    "rubric={reasoning:4}\n",
    "\n",
    "\n",
    "Let $Z=Y-X$. \n",
    "\n",
    "1. Using simulation, approximate $E[Z]$, i.e., find the empirical mean (try going back to the previous lab and lecture material for help on coding up a simple simulation - and don't forget to set the random seed so that you can reproduce your results!).\n",
    "2. Is $Z$ a continuous or discrete r.v. (your answer should be either \"continuous\" or \"discrete\")? \n",
    "3. What is $P(Z>3.5)$?\n",
    "4. (optional) Draw the pdf of Z (you can try plotting it using R, or drawing it on a piece of paper and embedding the photo in your Jupyter notebook)."
   ]
  },
  {
   "cell_type": "markdown",
   "metadata": {
    "nbgrader": {
     "grade": true,
     "grade_id": "cell-71bd8c39469db8a7",
     "locked": false,
     "points": 0,
     "schema_version": 3,
     "solution": true
    }
   },
   "source": [
    "Your answer for question **2b.1-2b.4**\n",
    "\n",
    "### BEGIN SOLUTION\n",
    "1. Use the following code to find $E[Z]\\approx0$:\n",
    "```\n",
    "set.seed(1)\n",
    "n <- 100000\n",
    "Z <- sample(0:4, n, replace = TRUE) - runif(n, 0, 4)\n",
    "mean(Z)\n",
    "```\n",
    "2. continuous\n",
    "3. $P(X=0,Y\\geq3.5)$ = $0.2 * 0.125=0.025$\n",
    "4. This may be solved by simulation or theoretically. If by simulation, enough simulations should be run for the plot to resemble the theoretical staircase derived below:\n",
    "\n",
    "\n",
    "It's the average of the 5 distributions of $Y,Y-1,Y-2,Y-3,Y-4$. So it should look like a staircase around zero. To be formal: $$p_Z(z)=p_Y(z)P(X=0)+p_Y(z-1)P(X=1)+p_Y(z-2)P(X=2)+p_Y(z-3)P(X=3)+p_Y(z-4)P(X=4)=0.2(p_Y(z)+p_Y(z-1)+p_Y(z-2)+p_Y(z-3)+p_Y(z-4))$$\n",
    "\n",
    "```\n",
    "x <- seq(-4,4,length=1000)  \n",
    "y1 <- x > 0  \n",
    "y2 <- x > -1 & x < 3   \n",
    "y3 <- x > -2 & x < 2  \n",
    "y4 <- x > -3 & x < 1  \n",
    "y5 <- x < 0  \n",
    "plot(x,0.2*(y1+y2+y3+y4+y5)/4) # divide by 4 bc uniform distribution pdf = 1/(b-a)\n",
    "```\n",
    "### END SOLUTION"
   ]
  },
  {
   "cell_type": "markdown",
   "metadata": {
    "nbgrader": {
     "grade": false,
     "grade_id": "cell-5d3ce59ab5fc112e",
     "locked": true,
     "schema_version": 3,
     "solution": false,
     "task": false
    },
    "toc-hr-collapsed": true
   },
   "source": [
    "## Exercise 3"
   ]
  },
  {
   "cell_type": "markdown",
   "metadata": {
    "nbgrader": {
     "grade": false,
     "grade_id": "cell-83c9e05b9b5bb87c",
     "locked": true,
     "schema_version": 3,
     "solution": false
    }
   },
   "source": [
    "### 3(a)\n",
    "rubric={reasoning:3}\n",
    "\n",
    "\n",
    "For each of the following curves, answer whether or not the curve could be the cumulative distribution function (CDF) of some continuous random variable. If you say no, **briefly** explain your reasoning.\n",
    "\n",
    "![](CDF1.png)\n",
    "![](CDF2.png)\n",
    "![](CDF3.png)"
   ]
  },
  {
   "cell_type": "markdown",
   "metadata": {
    "nbgrader": {
     "grade": true,
     "grade_id": "cell-f106f837561ade12",
     "locked": false,
     "points": 0,
     "schema_version": 3,
     "solution": true
    }
   },
   "source": [
    "Write your answer to question **3a.1-3a.3** below.\n",
    "\n",
    "### BEGIN SOLUTION\n",
    "1. No, not monotonic.\n",
    "2. No, goes above 1.\n",
    "3. Yes.\n",
    "\n",
    "### END SOLUTION"
   ]
  },
  {
   "cell_type": "markdown",
   "metadata": {
    "nbgrader": {
     "grade": false,
     "grade_id": "cell-ec10d6aaa3a21325",
     "locked": true,
     "schema_version": 3,
     "solution": false
    }
   },
   "source": [
    "### 3(b)\n",
    "rubric={reasoning:1}\n",
    "\n",
    "\n",
    "For the third CDF above (the one with the grid), what is the median? Give an approximate answer by eyeballing the plot."
   ]
  },
  {
   "cell_type": "markdown",
   "metadata": {
    "nbgrader": {
     "grade": true,
     "grade_id": "cell-4f4607ddad832ba1",
     "locked": false,
     "points": 0,
     "schema_version": 3,
     "solution": true
    }
   },
   "source": [
    "Write your answer for question **3b** below.\n",
    "\n",
    "### BEGIN SOLUTION\n",
    "Around $0.2$, i.e., the point at which P(X < x) = 0.5\n",
    "### END SOLUTION"
   ]
  },
  {
   "cell_type": "markdown",
   "metadata": {
    "nbgrader": {
     "grade": false,
     "grade_id": "cell-eb698986a42cfae1",
     "locked": true,
     "schema_version": 3,
     "solution": false,
     "task": false
    },
    "toc-hr-collapsed": true
   },
   "source": [
    "## Exercise 4"
   ]
  },
  {
   "cell_type": "markdown",
   "metadata": {
    "nbgrader": {
     "grade": false,
     "grade_id": "cell-e2edb38eed651423",
     "locked": true,
     "schema_version": 3,
     "solution": false
    },
    "toc-hr-collapsed": false
   },
   "source": [
    "### 4(a)\n",
    "rubric={autograde:4,reasoning:1}\n",
    "\n",
    "\n",
    "A UBC professor always finishes her lectures within 2 minutes after the scheduled end time of the lecture. Let $X$ be the time that elapses between the scheduled time and the actual end time of the lecture and suppose the pdf of $X$ is\n",
    "$$\n",
    "f(x) = \\left\\{ \\begin{array}{ll}\n",
    "   x, &0<x \\le 1 \\\\\n",
    "  2- x, &1<x \\le 2\n",
    "       \\end{array} \\right.\n",
    "$$\n",
    "\n",
    "1. What is the probability that the lecture ends within 1 minute of the scheduled time?\n",
    "2. What is the probability that the lecture ends exactly 1 minute after the scheduled time?\n",
    "3. What is the probability that the lecture ends between 60 and 90 seconds after the scheduled end time?\n",
    "4. What the 0.4 quantile of the distribution, i.e., $P(X\\leq a)=0.4$.\n",
    "5. What is the 80% prediction interval, i.e., $P(a \\leq X \\leq b)=0.8$"
   ]
  },
  {
   "cell_type": "code",
   "execution_count": null,
   "metadata": {
    "nbgrader": {
     "grade": false,
     "grade_id": "cell-6bd2fbece62eaf75",
     "locked": false,
     "schema_version": 3,
     "solution": true
    }
   },
   "outputs": [],
   "source": [
    "# Replace NULL with your answer\n",
    "\n",
    "### BEGIN SOLUTION\n",
    "# The pdf is a triangle, area to the left of x=1 is 0.5*width*height=0.5*1*1\n",
    "answer_4.1 <- 0.5\n",
    "### END SOLUTION\n",
    "answer_4.1 <- NULL\n",
    "### BEGIN SOLUTION\n",
    "# Point probability is 0 for continuous distribution\n",
    "answer_4.2 <- 0\n",
    "### END SOLUTION\n",
    "answer_4.2 <- NULL\n",
    "### BEGIN SOLUTION\n",
    "# P(X<90)-P(X<1) = 7/8 - 1/2\n",
    "answer_4.3 <- 3/8\n",
    "### END SOLUTION\n",
    "answer_4.3 <- NULL\n",
    "### BEGIN SOLUTION\n",
    "# Equate area to 0.4, so 0.5*width*height=0.4, width*height=0.8, x^2=0.8, x=sqrt(8)\n",
    "answer_4.4 <- sqrt(0.8)\n",
    "### END SOLUTION\n",
    "answer_4.4 <- NULL"
   ]
  },
  {
   "cell_type": "code",
   "execution_count": null,
   "metadata": {
    "nbgrader": {
     "grade": true,
     "grade_id": "cell-ec26d4b1a3ddd881",
     "locked": true,
     "points": 1,
     "schema_version": 3,
     "solution": false
    }
   },
   "outputs": [],
   "source": [
    "nbtest(answer_4.1,'03b3b7e9967823ca8ae75c138a3aa39c')"
   ]
  },
  {
   "cell_type": "code",
   "execution_count": null,
   "metadata": {
    "nbgrader": {
     "grade": true,
     "grade_id": "cell-722097c0c359080a",
     "locked": true,
     "points": 1,
     "schema_version": 3,
     "solution": false
    }
   },
   "outputs": [],
   "source": [
    "nbtest(answer_4.2,'908d1fd10b357ed0ceaaec823abf81bc')"
   ]
  },
  {
   "cell_type": "code",
   "execution_count": null,
   "metadata": {
    "nbgrader": {
     "grade": true,
     "grade_id": "cell-38f4943efb225f56",
     "locked": true,
     "points": 1,
     "schema_version": 3,
     "solution": false
    }
   },
   "outputs": [],
   "source": [
    "nbtest(answer_4.3,'08d81b4d231a011dc547069387c944d9')"
   ]
  },
  {
   "cell_type": "code",
   "execution_count": null,
   "metadata": {
    "nbgrader": {
     "grade": true,
     "grade_id": "cell-2a41eb55af57d9bd",
     "locked": true,
     "points": 1,
     "schema_version": 3,
     "solution": false
    }
   },
   "outputs": [],
   "source": [
    "nbtest(answer_4.4,'7396d14e74748aad9d1a17cb3a111a35')"
   ]
  },
  {
   "cell_type": "markdown",
   "metadata": {
    "nbgrader": {
     "grade": true,
     "grade_id": "cell-f48c34f95e75c820",
     "locked": false,
     "points": 0,
     "schema_version": 3,
     "solution": true,
     "task": false
    }
   },
   "source": [
    "Write your answer for question **4a.5** below.\n",
    "\n",
    "### BEGIN SOLUTION\n",
    "The 80% prediction interval has 10% probability on either side, so find these two quantiles to solve the problem.\n",
    "\n",
    "$P(X\\leq{a})=0.1$\n",
    "\n",
    "$0.5*width*height=0.1$\n",
    "\n",
    "$a^2=0.2$\n",
    "\n",
    "$a=\\sqrt{0.2}$\n",
    "\n",
    "Interval $b$ can be found by $b=1-a$ because the distribution is symmetrical.\n",
    "\n",
    "The 80% prediction interval is: $[\\sqrt{0.2},\\quad 2-\\sqrt{0.2}]\\approx[0.45, 1.55]$\n",
    "### END SOLUTION"
   ]
  },
  {
   "cell_type": "markdown",
   "metadata": {
    "nbgrader": {
     "grade": false,
     "grade_id": "cell-846f86d3a1d9864b",
     "locked": true,
     "schema_version": 3,
     "solution": false
    }
   },
   "source": [
    "### 4(b)\n",
    "rubric={reasoning:4}\n",
    "\n",
    "1. Draw or describe the density of the conditional distribution of lecture end-time, given that the lecture ends at most 1 minute after the scheduled end time.\n",
    "2. Is this distribution a realistic model of the end time of a lecture? Explain."
   ]
  },
  {
   "cell_type": "markdown",
   "metadata": {
    "nbgrader": {
     "grade": true,
     "grade_id": "cell-b6c42293a600b1e0",
     "locked": false,
     "points": 0,
     "schema_version": 3,
     "solution": true
    }
   },
   "source": [
    "Put your answers to question **4b.1-4b.2** below.\n",
    "\n",
    "### BEGIN SOLUTION\n",
    "1. $p(x \\mid x<1)=\\frac{P(x,x<1)}{P(x<1)}=\\frac{x}{0.5}=2x,\\;0<x\\leq1$\n",
    "2. Probably not! The lecture could end early, for example.\n",
    "\n",
    "### END SOLUTION"
   ]
  },
  {
   "cell_type": "markdown",
   "metadata": {
    "nbgrader": {
     "grade": false,
     "grade_id": "cell-afeb7fffe3063a36",
     "locked": true,
     "schema_version": 3,
     "solution": false
    }
   },
   "source": [
    "### 4(c) (optional)\n",
    "rubric={reasoning:1}\n",
    "\n",
    "\n",
    "Instead, let's say the number of minutes the lectures runs overtime, $X$, follows $X\\sim \\text{Expon}(1)$, i.e. an exponential distribution with mean $1$. Like before, this assumes the lecture can't end early, since the exponential distribution is defined only for $x\\geq 0$; but, this time the lecture can be arbitrarily long, rather than our previous assumption that it could only possibly be 2 minutes overtime. \n",
    "\n",
    "You're sitting in class and it's already 5 minutes past the scheduled end time. Given this, how much longer do you have to wait, in expectation, until the class ends? Briefly comment on your result."
   ]
  },
  {
   "cell_type": "markdown",
   "metadata": {
    "nbgrader": {
     "grade": true,
     "grade_id": "cell-0c1b15768c116f92",
     "locked": false,
     "points": 0,
     "schema_version": 3,
     "solution": true
    }
   },
   "source": [
    "Provide answer to question **4c** below.\n",
    "\n",
    "### BEGIN SOLUTION\n",
    "The exponential distribution has the so-called memoryless property, namely that the expected wait time remains unchanged no matter how long you wait. So, the answer is $1$ minute. To prove this, let's find the conditional distribution $p(x\\mid x \\geq 5)$. This is, for $x\\geq 5$, \n",
    "\n",
    "$$p(x\\mid x \\geq 5)=\\frac{\\exp(-x)}{\\int_5^\\infty  \\exp(-x) dx}=\\frac{\\exp(-x)}{\\exp(-5)}=\\exp(-x)\\exp(5)=\\exp(-(x-5))$$\n",
    "\n",
    "and it's zero when $x <5$. Thus, this is the original distribution just shifted over by 5. In other words, if we redefine the 5-minute mark as time zero, it's just the original distribution! So, in fact, we have the more general property that, for the exponential distribution,\n",
    "\n",
    "$$p_X(x\\mid x \\geq \\tau) = p_X(x-\\tau)\\, .$$\n",
    "\n",
    "The expected value is just the original expected value then, of $1$. So, no matter how long you've been waiting, you still expect to wait one more minute (or, more generally, whatever the mean of the exponential distribution is). Cool!\n",
    "### END SOLUTION"
   ]
  },
  {
   "cell_type": "markdown",
   "metadata": {
    "nbgrader": {
     "grade": false,
     "grade_id": "cell-f4675f58970ecfc4",
     "locked": true,
     "schema_version": 3,
     "solution": false,
     "task": false
    },
    "toc-hr-collapsed": true
   },
   "source": [
    "## Exercise 5"
   ]
  },
  {
   "cell_type": "markdown",
   "metadata": {
    "nbgrader": {
     "grade": false,
     "grade_id": "cell-d5ba70666aba07e8",
     "locked": true,
     "schema_version": 3,
     "solution": false
    }
   },
   "source": [
    "### 5(a)\n",
    "rubric={autograde:3}\n",
    "\n",
    "\n",
    "Suppose the scores on a college entrance exam, denoted as $X$, are normally distributed with a mean of 550 and a standard deviation of 100.\n",
    "Use R functions such as `pnorm`, `qnorm`and `dnorm` to answer the following questions:\n",
    "\n",
    "1. What is the probability that a student receives a score higher than 700?\n",
    "2. What is the probability that a student receives a score between 525 and 700?\n",
    "3. UBC will only consider students for admission if their score is at the 90th percentile (or higher) of the distribution. What is this minimum entrance score?"
   ]
  },
  {
   "cell_type": "code",
   "execution_count": null,
   "metadata": {
    "nbgrader": {
     "grade": false,
     "grade_id": "cell-0b854cdd5a451b3a",
     "locked": false,
     "schema_version": 3,
     "solution": true
    }
   },
   "outputs": [],
   "source": [
    "# Replace NULL with your answer.\n",
    "\n",
    "### BEGIN SOLUTION\n",
    "answer_5.1 <- 1 - (pnorm(700,mean=550,sd=100))\n",
    "### END SOLUTION\n",
    "answer_5.1 <- NULL\n",
    "### BEGIN SOLUTION\n",
    "answer_5.2 <- (pnorm(700,mean=550,sd=100)) - (pnorm(525,mean=550,sd=100))\n",
    "### END SOLUTION\n",
    "answer_5.2 <- NULL\n",
    "### BEGIN SOLUTION\n",
    "answer_5.3 <- qnorm(0.90,mean=550,sd=100)\n",
    "### END SOLUTION\n",
    "answer_5.3 <- NULL"
   ]
  },
  {
   "cell_type": "code",
   "execution_count": null,
   "metadata": {
    "nbgrader": {
     "grade": true,
     "grade_id": "cell-6933ab8109b113a0",
     "locked": true,
     "points": 1,
     "schema_version": 3,
     "solution": false
    }
   },
   "outputs": [],
   "source": [
    "nbtest(answer_5.1,'8d4bace47698b523cb9df7e60896d2b8')"
   ]
  },
  {
   "cell_type": "code",
   "execution_count": null,
   "metadata": {
    "nbgrader": {
     "grade": true,
     "grade_id": "cell-cec7fa7d31e8eb05",
     "locked": true,
     "points": 1,
     "schema_version": 3,
     "solution": false
    }
   },
   "outputs": [],
   "source": [
    "nbtest(answer_5.2,'992af7d8e3c09a869f06034996106c19')"
   ]
  },
  {
   "cell_type": "code",
   "execution_count": null,
   "metadata": {
    "nbgrader": {
     "grade": true,
     "grade_id": "cell-5508170a8856e992",
     "locked": true,
     "points": 1,
     "schema_version": 3,
     "solution": false
    }
   },
   "outputs": [],
   "source": [
    "nbtest(answer_5.3,'dde97989cd9f0ae8764512849a70d26b')"
   ]
  },
  {
   "cell_type": "markdown",
   "metadata": {
    "nbgrader": {
     "grade": false,
     "grade_id": "cell-31bde6762dc74105",
     "locked": true,
     "schema_version": 3,
     "solution": false
    }
   },
   "source": [
    "##  (Optional) Exercise 6: Numerical integration\n",
    "rubric={reasoning:3}\n",
    "\n",
    "Let $X$ be a random variable with pdf $p(x)=kx^8(1-x), 0 \\le x \\le 1$, for some $k$. Using the R functions `integrate` and/or `uniroot` for numerical computation, find the following quantities:\n",
    "\n",
    "1. $k$.\n",
    "2. The cdf at $x=0.5$, i.e., $F(0.5)$.\n",
    "3. The $75^{th}$ percentile of $f$.\n",
    "4. $E[X]$.\n",
    "5. $Var(X)$.\n",
    "6. The probability that $X$ is within 1 standard deviation of its mean."
   ]
  },
  {
   "cell_type": "code",
   "execution_count": null,
   "metadata": {
    "nbgrader": {
     "grade": false,
     "grade_id": "cell-be74d2e55a1c33b2",
     "locked": false,
     "schema_version": 3,
     "solution": true
    }
   },
   "outputs": [],
   "source": [
    "## Replace NULL with your answer\n",
    "\n",
    "### BEGIN SOLUTION\n",
    "k <- 1/integrate(function(x)x^8*(1-x),0,1)$value\n",
    "answer_6.1 <- k\n",
    "### END SOLUTION\n",
    "answer_6.1 <- NULL\n",
    "### BEGIN SOLUTION\n",
    "f <- function(x) k*x^8*(1-x)\n",
    "answer_6.2 <- integrate(f, 0,0.5)$value\n",
    "### END SOLUTION\n",
    "answer_6.2 <- NULL\n",
    "### BEGIN SOLUTION\n",
    "F <- function(x) integrate(f,0,x)$value\n",
    "answer_6.3  <- uniroot(function(x)F(x)-0.75,c(0,1))$root\n",
    "### END SOLUTION\n",
    "answer_6.3  <- NULL\n",
    "### BEGIN SOLUTION\n",
    "answer_6.4 <- integrate(function(x)x*f(x),0,1)$value\n",
    "### END SOLUTION\n",
    "answer_6.4 <- NULL\n",
    "### BEGIN SOLUTION\n",
    "answer_6.5 <- integrate(function(x)x^2*f(x),0,1)$value - (answer_6.4)^2\n",
    "### END SOLUTION\n",
    "answer_6.5  <- NULL\n",
    "### BEGIN SOLUTION\n",
    "answer_6.6  <- integrate(function(x)f(x),answer_6.4 -sqrt(answer_6.5), answer_6.4+sqrt(answer_6.5))$value\n",
    "### END SOLUTION\n",
    "answer_6.6 <- NULL"
   ]
  },
  {
   "cell_type": "code",
   "execution_count": null,
   "metadata": {
    "nbgrader": {
     "grade": true,
     "grade_id": "cell-e7bc28422506a88d",
     "locked": true,
     "points": 0,
     "schema_version": 3,
     "solution": false
    }
   },
   "outputs": [],
   "source": [
    "nbtest(answer_6.1, 'ccff14b67a1584858596ab658dbc1e4d')"
   ]
  },
  {
   "cell_type": "code",
   "execution_count": null,
   "metadata": {
    "nbgrader": {
     "grade": true,
     "grade_id": "cell-8e396a981a5b3e41",
     "locked": true,
     "points": 0,
     "schema_version": 3,
     "solution": false
    }
   },
   "outputs": [],
   "source": [
    "nbtest(answer_6.2, 'd75d2d6982cf2c2ecd19885642b120a7')"
   ]
  },
  {
   "cell_type": "code",
   "execution_count": null,
   "metadata": {
    "nbgrader": {
     "grade": true,
     "grade_id": "cell-fa1eff192907208d",
     "locked": true,
     "points": 0,
     "schema_version": 3,
     "solution": false
    }
   },
   "outputs": [],
   "source": [
    "nbtest(answer_6.3, 'ebbcdf90e6611b20277b710a95ea02ba')"
   ]
  },
  {
   "cell_type": "code",
   "execution_count": null,
   "metadata": {
    "nbgrader": {
     "grade": true,
     "grade_id": "cell-c40439a06600b5c6",
     "locked": true,
     "points": 0,
     "schema_version": 3,
     "solution": false
    }
   },
   "outputs": [],
   "source": [
    "nbtest(answer_6.4, '5679d5ce32c1b32a181368cdebb49d87')"
   ]
  },
  {
   "cell_type": "code",
   "execution_count": null,
   "metadata": {
    "nbgrader": {
     "grade": true,
     "grade_id": "cell-fadaca97208f7c34",
     "locked": true,
     "points": 0,
     "schema_version": 3,
     "solution": false
    }
   },
   "outputs": [],
   "source": [
    "nbtest(answer_6.5, '1c6054366b225cb388b4018101891806')"
   ]
  },
  {
   "cell_type": "code",
   "execution_count": null,
   "metadata": {
    "nbgrader": {
     "grade": true,
     "grade_id": "cell-dd4c78e7301a977f",
     "locked": true,
     "points": 0,
     "schema_version": 3,
     "solution": false
    }
   },
   "outputs": [],
   "source": [
    "nbtest(answer_6.6, 'c523504318c62f679144c7cff995c372')"
   ]
  },
  {
   "cell_type": "markdown",
   "metadata": {
    "nbgrader": {
     "grade": false,
     "grade_id": "cell-b47a7a1db7c384ff",
     "locked": true,
     "schema_version": 3,
     "solution": false,
     "task": false
    }
   },
   "source": [
    "## (Optional) Exercise 7: transforming continuous variables\n",
    "rubric={reasoning:1}\n",
    "\n",
    "In the discrete world it's easy to go from the pmf of $X$ to the pmf of $X^2$: you just keep the probabilities the same and square the outcome values. In the continous world it's a bit tricker. For example, consider the exponential distribution with mean 1. The pdf is $p_X(x)=\\exp(-x)$. Let $Y=X^2$. What's the pdf of $Y$? Maybe we'd guess the pdf of $Y$ is $p_Y(y)=\\exp(-y^2)$, or maybe $p_Y(y)=\\exp(-\\sqrt{y})$ since $X=\\sqrt{Y}$. But neither of those is correct (they aren't even normalized - see for yourself). The problem is with the units. We have this pesky $dx$ that we never write down, and it needs to be properly translated into $dy$. While there is a way of doing this, my preferred way of delaing with these situations is through the CDF. Because the CDF doesn't have units, we can transform things very cleanly. The CDF of $X$ is $P(X\\leq x)=1-\\exp(-x)$. Since $Y=X^2$, the event $X\\leq x$ must be the same as the event $X^2 \\leq x^2$ (since $X$ can't be negative), or $Y \\leq x^2$. Use this to find the CDF of $Y$ and then, from there, the pdf of $Y$."
   ]
  },
  {
   "cell_type": "markdown",
   "metadata": {
    "nbgrader": {
     "grade": true,
     "grade_id": "cell-4732a5eccb0cb835",
     "locked": false,
     "points": 0,
     "schema_version": 3,
     "solution": true
    }
   },
   "source": [
    "Provide answer to question **7** below.\n",
    "\n",
    "### BEGIN SOLUTION\n",
    "\n",
    "$P(X\\leq x)=1-\\exp(-x)$\n",
    "\n",
    "$P(Y\\leq x^2)=1-\\exp(-x)$\n",
    "\n",
    "Let $y=x^2$, so that $x=\\sqrt{y}$. Then\n",
    "\n",
    "$P(Y\\leq y)=1-\\exp(-\\sqrt{y})$\n",
    "\n",
    "To get the PDF from here, we need to take the derivative:\n",
    "\n",
    "$p_Y(y)=\\frac{d}{dy} \\left( 1-\\exp(-\\sqrt{y}) \\right)$\n",
    "\n",
    "$p_Y(y)=\\frac{1}{2\\sqrt{y}} \\exp(-\\sqrt{y})$\n",
    "\n",
    "### END SOLUTION"
   ]
  }
 ],
 "metadata": {
  "Rmd_header": {
   "linkcolor": "blue",
   "output": "pdf_document",
   "title": "DSCI 551 Lab 3"
  },
  "celltoolbar": "Create Assignment",
  "kernelspec": {
   "display_name": "R",
   "language": "R",
   "name": "ir"
  },
  "language_info": {
   "codemirror_mode": "r",
   "file_extension": ".r",
   "mimetype": "text/x-r-source",
   "name": "R",
   "pygments_lexer": "r",
   "version": "3.6.1"
  }
 },
 "nbformat": 4,
 "nbformat_minor": 4
}
