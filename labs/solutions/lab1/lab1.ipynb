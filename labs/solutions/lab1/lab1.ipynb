{
 "cells": [
  {
   "cell_type": "markdown",
   "metadata": {},
   "source": [
    "# DSCI 551: Descriptive Statistics and Probability for Data Science\n",
    "# Lab 1"
   ]
  },
  {
   "cell_type": "markdown",
   "metadata": {
    "nbgrader": {
     "grade": false,
     "grade_id": "cell-8873cce658b4e0c1",
     "locked": true,
     "schema_version": 3,
     "solution": false,
     "task": false
    }
   },
   "source": [
    "# Submission instructions\n",
    "\n",
    "rubric={mechanics:5}\n",
    "- To submit this assignment, submit this Jupyter notebook `.ipynb` file completed with your answers.\n",
    "- Be sure to follow the [general lab instructions](https://ubc-mds.github.io/resources_pages/general_lab_instructions/).\n",
    "- Use proper English, spelling, and grammar throughout your submission.\n"
   ]
  },
  {
   "cell_type": "markdown",
   "metadata": {
    "nbgrader": {
     "grade": false,
     "grade_id": "cell-ccb047117d795e3b",
     "locked": true,
     "schema_version": 3,
     "solution": false,
     "task": false
    }
   },
   "source": [
    "# Getting started\n",
    "If you are using the `\"testthat\"` package for the first time and have never installed it before, run the code below in a new code cell:\n",
    "\n",
    "`install.packages(\"testthat\")`"
   ]
  },
  {
   "cell_type": "code",
   "execution_count": null,
   "metadata": {},
   "outputs": [],
   "source": [
    "# Load necessary packages\n",
    "library(testthat)\n",
    "library(digest)"
   ]
  },
  {
   "cell_type": "code",
   "execution_count": null,
   "metadata": {},
   "outputs": [],
   "source": [
    "# This cell defines a function that tests your solutions\n",
    "nbtest <- function(answer, true.hash, tolerance=0) {\n",
    "    test_that(\"Failure.\", {\n",
    "        if (class(answer) == \"numeric\"){\n",
    "            expect_equal(digest(signif(answer,6)), true.hash, tolerance)\n",
    "        }\n",
    "        else {\n",
    "            expect_equal(digest(answer), true.hash, tolerance)\n",
    "        } \n",
    "    })\n",
    "   print(\"Success!\")\n",
    "}"
   ]
  },
  {
   "cell_type": "markdown",
   "metadata": {
    "nbgrader": {
     "grade": false,
     "grade_id": "cell-893859ce47904a59",
     "locked": true,
     "schema_version": 3,
     "solution": false,
     "task": false
    }
   },
   "source": [
    "## Exercise 1\n",
    "rubric={autograde:5}\n",
    "\n",
    "Consider 3 events $A_1, A_2, A_3$.\n",
    "Suppose that $P(A_1)=0.12,$  $P(A_2)=0.07,$ $P(A_3)=0.05,$\n",
    "$P(A_1 \\cup A_2 )=0.13,$ $P(A_1 \\cap A_3 )=0.04,$ $P(A_2 \\cap A_3 )=0.01,$ and\n",
    "$P(A_1 \\cap A_2 \\cap A_3)=0.01.$\n",
    "\n",
    "Compute the following probabilities: \n",
    "\n",
    "1. $P(\\neg A_1)$ \n",
    "2. $P(A_1 \\cap A_2)$\n",
    "3. $P(A_1 \\cap A_2 \\cap \\neg A_3)$\n",
    "4. $P(\\neg (A_1 \\cup A_2 \\cup A_3))$\n",
    "5. The probability that at least two of the three events happen.\n",
    "\n",
    "**Hint: it may be helpful to draw a Venn diagram of the events.**"
   ]
  },
  {
   "cell_type": "code",
   "execution_count": null,
   "metadata": {
    "nbgrader": {
     "grade": false,
     "grade_id": "cell-7e8432fb059a5a60",
     "locked": false,
     "schema_version": 3,
     "solution": true
    }
   },
   "outputs": [],
   "source": [
    "# replace NULL with the answer to each question\n",
    "### BEGIN SOLUTION\n",
    "# 1-P(A_1)\n",
    "answer_1.1  <- 0.88\n",
    "### END SOLUTION\n",
    "answer_1.1  <- NULL\n",
    "### BEGIN SOLUTION\n",
    "# P(A_1)+P(A_2)-P(A_1 U A_2)\n",
    "answer_1.2  <- 0.06\n",
    "### END SOLUTION\n",
    "answer_1.2  <- NULL\n",
    "### BEGIN SOLUTION\n",
    "# P(A_1\\cap A_2)-P(A_1\\cap A_2 \\cap A_3)\n",
    "answer_1.3  <- 0.05\n",
    "### END SOLUTION\n",
    "answer_1.3  <- NULL\n",
    "### BEGIN SOLUTION\n",
    "# P(A_2)+P(A_3)+P(A_1)-P(A_2\\cap A_3)-P(A_1\\cap A_3)-P(A_1\\cap A_2 \\cap \\neg A_3)\n",
    "answer_1.4  <- 0.86\n",
    "### END SOLUTION\n",
    "answer_1.4  <- NULL\n",
    "### BEGIN SOLUTION\n",
    "answer_1.5  <- 0.09\n",
    "### END SOLUTION\n",
    "answer_1.5  <- NULL"
   ]
  },
  {
   "cell_type": "code",
   "execution_count": null,
   "metadata": {
    "nbgrader": {
     "grade": true,
     "grade_id": "cell-ac614d388741ce71",
     "locked": true,
     "points": 1,
     "schema_version": 3,
     "solution": false
    }
   },
   "outputs": [],
   "source": [
    "nbtest(answer_1.1,'78c860cf185d5c870193d8654a5010cc')"
   ]
  },
  {
   "cell_type": "code",
   "execution_count": null,
   "metadata": {
    "nbgrader": {
     "grade": true,
     "grade_id": "cell-b469c8347a3c67e7",
     "locked": true,
     "points": 1,
     "schema_version": 3,
     "solution": false
    }
   },
   "outputs": [],
   "source": [
    "nbtest(answer_1.2,'aac62a0390a4ebd30bc133c8e3b21ef4')"
   ]
  },
  {
   "cell_type": "code",
   "execution_count": null,
   "metadata": {
    "nbgrader": {
     "grade": true,
     "grade_id": "cell-ab9082df4b4a1c4b",
     "locked": true,
     "points": 1,
     "schema_version": 3,
     "solution": false
    }
   },
   "outputs": [],
   "source": [
    "nbtest(answer_1.3,'e521ed5596735d8b4b29f83c57f471b5')"
   ]
  },
  {
   "cell_type": "code",
   "execution_count": null,
   "metadata": {
    "nbgrader": {
     "grade": true,
     "grade_id": "cell-2f71c43ce52c340e",
     "locked": true,
     "points": 1,
     "schema_version": 3,
     "solution": false
    }
   },
   "outputs": [],
   "source": [
    "nbtest(answer_1.4,'17510f1c35f73387c74b7373df4322dd')"
   ]
  },
  {
   "cell_type": "code",
   "execution_count": null,
   "metadata": {
    "nbgrader": {
     "grade": true,
     "grade_id": "cell-c8057de053cae940",
     "locked": true,
     "points": 1,
     "schema_version": 3,
     "solution": false
    }
   },
   "outputs": [],
   "source": [
    "nbtest(answer_1.5,'6a1559ccb503c66a3a9e68c012eb9baa')"
   ]
  },
  {
   "cell_type": "markdown",
   "metadata": {
    "nbgrader": {
     "grade": false,
     "grade_id": "cell-872f562583a17a46",
     "locked": true,
     "schema_version": 3,
     "solution": false,
     "task": false
    }
   },
   "source": [
    "## Exercise 2\n",
    "\n",
    "Suppose a slot machine costs \\\\$5 to play (call one pull of the lever a \"game\"). You win nothing with probability 0.9, \\\\$10 with probability 0.09, and \\\\$50 with probability 0.01. Let $X$ be the net gain in one game. Then $X$ has the following distribution:\n",
    "\n",
    "| $X$ (outcome of a game) | -\\\\$5 | \\\\$5 | \\\\$45 |\n",
    "| ---                     | --    | --   | --    |\n",
    "| Probability             | 0.9   | 0.09 | 0.01  |\n",
    "\n",
    "### 2(a)\n",
    "rubric={autograde:4,correctness:2}\n",
    "\n",
    "Find the following quantities: \n",
    "1. $E(X)$\n",
    "2. $P(X=E(X))$, i.e. the probability that you achieve the average outcome in a single game?\n",
    "3. $P(X<0)$, i.e. the probability of losing money in a game?\n",
    "4. (optional) The median of $X$.\n",
    "5. (optional) The 0.995-quantile of $X$.\n",
    "6. The mode of $X$.\n",
    "\n",
    "Again, replace NULL with your answer to each question. \n"
   ]
  },
  {
   "cell_type": "code",
   "execution_count": null,
   "metadata": {
    "nbgrader": {
     "grade": false,
     "grade_id": "cell-6e944ba3cabae369",
     "locked": false,
     "schema_version": 3,
     "solution": true
    }
   },
   "outputs": [],
   "source": [
    "# replace NULL with the answer to each question\n",
    "### BEGIN SOLUTION\n",
    "answer_2a.1  <- -3.6\n",
    "### END SOLUTION\n",
    "answer_2a.1  <- NULL\n",
    "### BEGIN SOLUTION\n",
    "answer_2a.2  <- 0\n",
    "### END SOLUTION\n",
    "answer_2a.2  <- NULL\n",
    "### BEGIN SOLUTION\n",
    "answer_2a.3  <- 0.9\n",
    "### END SOLUTION\n",
    "answer_2a.3  <- NULL\n",
    "### BEGIN SOLUTION\n",
    "answer_2a.6  <- -5\n",
    "### END SOLUTION\n",
    "answer_2a.6  <- NULL"
   ]
  },
  {
   "cell_type": "code",
   "execution_count": null,
   "metadata": {
    "nbgrader": {
     "grade": true,
     "grade_id": "cell-120a1fd54dcea30a",
     "locked": true,
     "points": 1,
     "schema_version": 3,
     "solution": false
    }
   },
   "outputs": [],
   "source": [
    "nbtest(answer_2a.1,'d66748df863de710fb11504ba3e75d38')"
   ]
  },
  {
   "cell_type": "code",
   "execution_count": null,
   "metadata": {
    "nbgrader": {
     "grade": true,
     "grade_id": "cell-624d594c39aa740c",
     "locked": true,
     "points": 1,
     "schema_version": 3,
     "solution": false
    }
   },
   "outputs": [],
   "source": [
    "nbtest(answer_2a.2,'908d1fd10b357ed0ceaaec823abf81bc')"
   ]
  },
  {
   "cell_type": "code",
   "execution_count": null,
   "metadata": {
    "nbgrader": {
     "grade": true,
     "grade_id": "cell-6feb31135e8d0d49",
     "locked": true,
     "points": 1,
     "schema_version": 3,
     "solution": false
    }
   },
   "outputs": [],
   "source": [
    "nbtest(answer_2a.3,'44a0f6df00182c825086d3d8225b2394')"
   ]
  },
  {
   "cell_type": "code",
   "execution_count": null,
   "metadata": {
    "nbgrader": {
     "grade": true,
     "grade_id": "cell-c46c4932e0f1bcc9",
     "locked": true,
     "points": 1,
     "schema_version": 3,
     "solution": false
    }
   },
   "outputs": [],
   "source": [
    "nbtest(answer_2a.6,'24bc7e137af61b689875e4abfdbac9ad')"
   ]
  },
  {
   "cell_type": "markdown",
   "metadata": {
    "nbgrader": {
     "grade": true,
     "grade_id": "cell-02a7ad40dd64e89e",
     "locked": false,
     "points": 0,
     "schema_version": 3,
     "solution": true,
     "task": false
    }
   },
   "source": [
    "Provide answer to question **2a.4** below.\n",
    "\n",
    "### BEGIN SOLUTION\n",
    "answer_2a.4  <- -5\n",
    "### END SOLUTION\n"
   ]
  },
  {
   "cell_type": "markdown",
   "metadata": {
    "nbgrader": {
     "grade": true,
     "grade_id": "cell-c9e8cf3a2828e587",
     "locked": false,
     "points": 0,
     "schema_version": 3,
     "solution": true,
     "task": false
    }
   },
   "source": [
    "Provide answer to question **2a.5** below.\n",
    "\n",
    "### BEGIN SOLUTION\n",
    "answer_2a.5  <- 45\n",
    "### END SOLUTION"
   ]
  },
  {
   "cell_type": "markdown",
   "metadata": {
    "nbgrader": {
     "grade": false,
     "grade_id": "cell-348b82cf5024a1fa",
     "locked": true,
     "schema_version": 3,
     "solution": false,
     "task": false
    }
   },
   "source": [
    "### 2(b)\n",
    "rubric={autograde:3}\n",
    "\n",
    "Now suppose you play the game 100 times. Assuming we have an infinite supply of money (so that we can always afford to play the game), the net outcome after 100 games can be written as a new random variable, $Z=\\sum_{i=1}^{100} X_i$ where $X_i$ are independent and identically distributed (iid) random variables with the same distribution as $X$. (We'll talk a lot more about \"iid\" variables in MDS; for now it's safe to ignore the \"independent\" part and just think of the $X_i$ as random variables with the same distribution as $X$.)\n",
    "\n",
    "Find the following quantities:\n",
    "\n",
    "1. The maximum value of $Z$.\n",
    "2. The minimum value of $Z$.\n",
    "3. $E(Z)$."
   ]
  },
  {
   "cell_type": "code",
   "execution_count": null,
   "metadata": {
    "nbgrader": {
     "grade": false,
     "grade_id": "cell-2351d709b86c898a",
     "locked": false,
     "schema_version": 3,
     "solution": true
    }
   },
   "outputs": [],
   "source": [
    "# Replace NULL with your answer to each question\n",
    "### BEGIN SOLUTION\n",
    "# 100*$45\n",
    "answer_2b.1  <- 4500\n",
    "### END SOLUTION\n",
    "answer_2b.1  <- NULL\n",
    "### BEGIN SOLUTION\n",
    "# 100*-$5\n",
    "answer_2b.2  <- -500\n",
    "### END SOLUTION\n",
    "answer_2b.2  <- NULL\n",
    "### BEGIN SOLUTION\n",
    "#100 * E(X)\n",
    "answer_2b.3  <- -360\n",
    "### END SOLUTION\n",
    "answer_2b.3  <- NULL"
   ]
  },
  {
   "cell_type": "code",
   "execution_count": null,
   "metadata": {
    "nbgrader": {
     "grade": true,
     "grade_id": "cell-4a6fad611c20b24d",
     "locked": true,
     "points": 1,
     "schema_version": 3,
     "solution": false
    }
   },
   "outputs": [],
   "source": [
    "nbtest(answer_2b.1,'ade3a57d5b8bfcb2b8aac4e85a93c941')"
   ]
  },
  {
   "cell_type": "code",
   "execution_count": null,
   "metadata": {
    "nbgrader": {
     "grade": true,
     "grade_id": "cell-53877c54899abd71",
     "locked": true,
     "points": 1,
     "schema_version": 3,
     "solution": false
    }
   },
   "outputs": [],
   "source": [
    "nbtest(answer_2b.2,'dffc43e7028ff2d3605dc21a31104a1c')"
   ]
  },
  {
   "cell_type": "code",
   "execution_count": null,
   "metadata": {
    "nbgrader": {
     "grade": true,
     "grade_id": "cell-c1b1db7daebae08e",
     "locked": true,
     "points": 1,
     "schema_version": 3,
     "solution": false
    }
   },
   "outputs": [],
   "source": [
    "nbtest(answer_2b.3,'0a2b2c3b572db73b98dbd97701863742')"
   ]
  },
  {
   "cell_type": "markdown",
   "metadata": {
    "nbgrader": {
     "grade": false,
     "grade_id": "cell-3eb72661c28c58d9",
     "locked": true,
     "schema_version": 3,
     "solution": false,
     "task": false
    }
   },
   "source": [
    "### (Optional) 2(c)\n",
    "rubric={reasoning:1}\n",
    "\n",
    "Assume you started with exactly \\$50, rather than an infinite supply, and that you keep playing the game until you run out of money. What is the probability that you will play at least 13 games? Be sure to include your reasoning."
   ]
  },
  {
   "cell_type": "markdown",
   "metadata": {
    "nbgrader": {
     "grade": true,
     "grade_id": "cell-539fcc05d421aff5",
     "locked": false,
     "points": 0,
     "schema_version": 3,
     "solution": true
    }
   },
   "source": [
    "Provide answer to question **2c** below.\n",
    "\n",
    "### BEGIN SOLUTION\n",
    "Lets consider the probability to _not_ play at least 13 games, i.e. to go bankrupt after 12 or fewer games. If you win the jackpot once then this can't happen, since losing all the other games isn't enough to go bankrupt after winning the jackpot. So, we can ignore the jackpot entirely. Then, to calculate this, we need to add up the probabilities of the different cases, which are: bankrupt after 10 games, 11 games, or 12 games. The probability of going bankrupt after 10 games is $(0.9)^{10}$. The probability of going bankrupt after 11 games is zero, because if we win once then we need to lose 11 times to go bankrupt. The probability of going bankrupt after 12 games is $10(0.9)^{11}(0.09)$. This is tricky: the binomial coefficient would normally be 12, not 10, but you can't win at the last or second-last round since, in those cases, you would have already gone bankrupt. Thus, the final answer is $1-\\left((0.9)^{10}+10(0.9)^{11}(0.09)\\right)\\approx0.37$.\n",
    "### END SOLUTION\n"
   ]
  },
  {
   "cell_type": "markdown",
   "metadata": {
    "nbgrader": {
     "grade": false,
     "grade_id": "cell-69279c8853fa0f49",
     "locked": true,
     "schema_version": 3,
     "solution": false,
     "task": false
    }
   },
   "source": [
    "## Exercise 3\n",
    "rubric={autograde:10,reasoning:1}\n",
    "\n",
    "Let $X$ be a discrete r.v. defined on the positive integers ($1,2,3,\\ldots$), with the following pmf: $P(X=i)=C/i^2$, for some normalizing constant $C$. \n",
    "\n",
    "(For those who are interested, it turns out that $C=6/\\pi^2\\approx 0.61$. We could have at least reasoned that $C<1$, since otherwise we'd have $P(X=1)\\geq 1$, which doesn't make sense.)\n",
    "\n",
    "Find the following quantities:\n",
    "\n",
    "1. $P(X<5)$\n",
    "2. $(P(X<5))^2$\n",
    "3. $P(X > 2 \\cup X < 4)$\n",
    "4. $P(X < 2 \\cup X < 4)$\n",
    "5. $P(X > 2 \\cup X > 4)$\n",
    "6. $P(X < 2 \\cup X > 4)$\n",
    "7. $P(X > 2 \\cap X < 4)$\n",
    "8. $P(X < 2 \\cap X < 4)$\n",
    "9. $P(X > 2 \\cap X > 4)$\n",
    "10. $P(X < 2 \\cap X > 4)$\n",
    "11. (Optional) $E(X)$"
   ]
  },
  {
   "cell_type": "code",
   "execution_count": null,
   "metadata": {
    "nbgrader": {
     "grade": false,
     "grade_id": "cell-de277138b91f91fb",
     "locked": false,
     "schema_version": 3,
     "solution": true
    },
    "scrolled": true
   },
   "outputs": [],
   "source": [
    "C  <- 6/pi^2 # Where appropriate, write your answers in terms of C\n",
    "\n",
    "### BEGIN SOLUTION\n",
    "answer_3.01  <- C*((1/1) + (1/4) + (1/9) + (1/16))\n",
    "### END SOLUTION\n",
    "answer_3.01  <- NULL \n",
    "### BEGIN SOLUTION\n",
    "answer_3.02  <- answer_3.01**2\n",
    "### END SOLUTION\n",
    "answer_3.02  <- NULL\n",
    "### BEGIN SOLUTION\n",
    "answer_3.03  <- 1\n",
    "### END SOLUTION\n",
    "answer_3.03  <- NULL\n",
    "### BEGIN SOLUTION\n",
    "answer_3.04  <- C*((1/1)+(1/4)+(1/9))\n",
    "### END SOLUTION\n",
    "answer_3.04  <- NULL\n",
    "### BEGIN SOLUTION\n",
    "answer_3.05  <- 1 - C* ((1/1)+(1/4))\n",
    "### END SOLUTION\n",
    "answer_3.05  <- NULL\n",
    "### BEGIN SOLUTION\n",
    "# 1−(P(X=2)+P(X=3)+P(X=4))\n",
    "answer_3.06  <- 1 - C*((1/4)+(1/9)+(1/16))\n",
    "### END SOLUTION\n",
    "answer_3.06 <- NULL\n",
    "### BEGIN SOLUTION\n",
    "answer_3.07  <- C/9\n",
    "### END SOLUTION\n",
    "answer_3.07  <- NULL\n",
    "### BEGIN SOLUTION\n",
    "# P(X<2)=P(X=1)=CP(X<2)=P(X=1)=C\n",
    "answer_3.08  <- C\n",
    "### END SOLUTION\n",
    "answer_3.08  <- NULL\n",
    "### BEGIN SOLUTION\n",
    "# P(X>4)=1−(P(X=1)+P(X=2)+P(X=3)+P(X=4))\n",
    "answer_3.09  <- 1 - C*((1/1)+(1/4)+(1/9)+(1/16))\n",
    "### END SOLUTION\n",
    "answer_3.09  <- NULL\n",
    "### BEGIN SOLUTION\n",
    "answer_3.10  <- 0\n",
    "### END SOLUTION\n",
    "answer_3.10  <- NULL"
   ]
  },
  {
   "cell_type": "markdown",
   "metadata": {
    "nbgrader": {
     "grade": true,
     "grade_id": "cell-7a89c776a966fd12",
     "locked": false,
     "points": 0,
     "schema_version": 3,
     "solution": true
    }
   },
   "source": [
    "Provide answer for **3.11** below.\n",
    "\n",
    "### BEGIN SOLUTION\n",
    "$\\sum_{i=1}^\\infty C/i=\\infty$\n",
    "### END SOLUTION"
   ]
  },
  {
   "cell_type": "code",
   "execution_count": null,
   "metadata": {
    "nbgrader": {
     "grade": true,
     "grade_id": "cell-f2ca7f83367fe04c",
     "locked": true,
     "points": 1,
     "schema_version": 3,
     "solution": false
    }
   },
   "outputs": [],
   "source": [
    "nbtest(answer_3.01,'8aa1b5b74004b6589fc8896571405655')"
   ]
  },
  {
   "cell_type": "code",
   "execution_count": null,
   "metadata": {
    "nbgrader": {
     "grade": true,
     "grade_id": "cell-b31d05beb6e65f42",
     "locked": true,
     "points": 1,
     "schema_version": 3,
     "solution": false
    }
   },
   "outputs": [],
   "source": [
    "nbtest(answer_3.02,'47c10da165b8ff612ba030908768f052')"
   ]
  },
  {
   "cell_type": "code",
   "execution_count": null,
   "metadata": {
    "nbgrader": {
     "grade": true,
     "grade_id": "cell-5ea2d950049b5be4",
     "locked": true,
     "points": 1,
     "schema_version": 3,
     "solution": false
    }
   },
   "outputs": [],
   "source": [
    "nbtest(answer_3.03,'6717f2823d3202449301145073ab8719')"
   ]
  },
  {
   "cell_type": "code",
   "execution_count": null,
   "metadata": {
    "nbgrader": {
     "grade": true,
     "grade_id": "cell-2d97a30a4a0d2abb",
     "locked": true,
     "points": 1,
     "schema_version": 3,
     "solution": false
    }
   },
   "outputs": [],
   "source": [
    "nbtest(answer_3.04,'843840b0df16211939c8d09ed47c6989')"
   ]
  },
  {
   "cell_type": "code",
   "execution_count": null,
   "metadata": {
    "nbgrader": {
     "grade": true,
     "grade_id": "cell-e68fcde05727a28b",
     "locked": true,
     "points": 1,
     "schema_version": 3,
     "solution": false
    }
   },
   "outputs": [],
   "source": [
    "nbtest(answer_3.05,'ddeed571718a5766d87aab886fc4678c')"
   ]
  },
  {
   "cell_type": "code",
   "execution_count": null,
   "metadata": {
    "nbgrader": {
     "grade": true,
     "grade_id": "cell-0cb408089035d369",
     "locked": true,
     "points": 1,
     "schema_version": 3,
     "solution": false
    }
   },
   "outputs": [],
   "source": [
    "nbtest(answer_3.06,'a4663e8123e6c23258275f18e69d3a1e')"
   ]
  },
  {
   "cell_type": "code",
   "execution_count": null,
   "metadata": {
    "nbgrader": {
     "grade": true,
     "grade_id": "cell-b1531f8531f65730",
     "locked": true,
     "points": 1,
     "schema_version": 3,
     "solution": false
    }
   },
   "outputs": [],
   "source": [
    "nbtest(answer_3.07,'8f56bd58cc47401b5b3763781b6058cf')"
   ]
  },
  {
   "cell_type": "code",
   "execution_count": null,
   "metadata": {
    "nbgrader": {
     "grade": true,
     "grade_id": "cell-3d493e448b69120f",
     "locked": true,
     "points": 1,
     "schema_version": 3,
     "solution": false
    }
   },
   "outputs": [],
   "source": [
    "nbtest(answer_3.08,'51204b2de4b79e728fa61aef36bbd5f4')"
   ]
  },
  {
   "cell_type": "code",
   "execution_count": null,
   "metadata": {
    "nbgrader": {
     "grade": true,
     "grade_id": "cell-a7f24cb87714972d",
     "locked": true,
     "points": 1,
     "schema_version": 3,
     "solution": false
    }
   },
   "outputs": [],
   "source": [
    "nbtest(answer_3.09,'123df5b4c9695b4eb2062d42df74c8e4')"
   ]
  },
  {
   "cell_type": "code",
   "execution_count": null,
   "metadata": {
    "nbgrader": {
     "grade": true,
     "grade_id": "cell-a5a3f23618667d3e",
     "locked": true,
     "points": 1,
     "schema_version": 3,
     "solution": false
    }
   },
   "outputs": [],
   "source": [
    "nbtest(answer_3.10,'908d1fd10b357ed0ceaaec823abf81bc')"
   ]
  },
  {
   "cell_type": "markdown",
   "metadata": {
    "nbgrader": {
     "grade": false,
     "grade_id": "cell-fbfc024fde60a2db",
     "locked": true,
     "schema_version": 3,
     "solution": false,
     "task": false
    }
   },
   "source": [
    "## Exercise 4\n",
    "rubric={autograde:9,reasoning:1}\n",
    "\n",
    "The odds of a particular event reflect the likelihood that the event will take place. Odds can be calculated as: $\\frac{\\textrm{# of favorable events}}{\\textrm{# of unfavorable events}}$ or $\\frac{p}{1-p}$ where $p$ is the probability of the event occurring. Note that odds are not probabilities.\n",
    "\n",
    "Say that the Vancouver White Caps Football Club won 10 out of 34 games last season. You want to use this information to predict their performance in the first game of the upcoming season.\n",
    "\n",
    "1. What is the probability of the White Caps winning the game?\n",
    "2. What are the odds in favor of the White Caps winning the game?\n",
    "3. What are the odds against the White Caps winning the game?\n",
    "4. If a sport website states that the odds in favor of the White Caps winning the game is 3:4 or (3/4), what is the probability they win the game?\n",
    "5. In gambling, the odds are the ratio of a payoff (your profit) to stake (how much you bet). A sport betting website provides odds of 5:3 for the White Caps to win the game. If you place a \\$10 bet on the White Caps winning, what will be your profit if the White Caps win?\n",
    "6. If $P(win) \\leq 0.5$ what is the maximum odds?\n",
    "7. If $P(win) > 0.5$ what is the maximum odds?\n",
    "8. Q6 and Q7 hopefully showed you that odds are not symmetrical. This makes it difficult to compare the odds in favor of an event, to the odds against an event. We can take the natural logarithm of the odds to make them symmetrical. The log of the odds is called the *logit function* and allows us to map probabilities in the range [0, 1] to the full range of real numbers. This concept will form the basis of *logistic regression* which you will learn about later in the program. What is the log of the odds 10:24?\n",
    "9. What is the log of the odds 24:10?\n",
    "10. (optional) Rearrange the formula $log\\frac{p(X)}{1-p(X)}=\\beta_0+\\beta_1X$ to make $p$ the subject."
   ]
  },
  {
   "cell_type": "code",
   "execution_count": null,
   "metadata": {
    "nbgrader": {
     "grade": false,
     "grade_id": "cell-390176129b568382",
     "locked": false,
     "schema_version": 3,
     "solution": true,
     "task": false
    }
   },
   "outputs": [],
   "source": [
    "### BEGIN SOLUTION\n",
    "answer_4.01  <- 10/34\n",
    "### END SOLUTION\n",
    "answer_4.01  <- NULL\n",
    "### BEGIN SOLUTION\n",
    "answer_4.02  <- 10/24\n",
    "### END SOLUTION\n",
    "answer_4.02  <- NULL\n",
    "### BEGIN SOLUTION\n",
    "answer_4.03  <- 24/10\n",
    "### END SOLUTION\n",
    "answer_4.03  <- NULL\n",
    "### BEGIN SOLUTION\n",
    "answer_4.04  <- 3/7\n",
    "### END SOLUTION\n",
    "answer_4.04  <- NULL\n",
    "### BEGIN SOLUTION\n",
    "answer_4.05  <- 10*(5/3)\n",
    "### END SOLUTION\n",
    "answer_4.05  <- NULL\n",
    "### BEGIN SOLUTION\n",
    "answer_4.06  <- 1/1\n",
    "### END SOLUTION\n",
    "answer_4.06  <- NULL\n",
    "### BEGIN SOLUTION\n",
    "answer_4.07  <- Inf\n",
    "### END SOLUTION\n",
    "answer_4.07  <- NULL\n",
    "### BEGIN SOLUTION\n",
    "answer_4.08  <- log(10/24)\n",
    "### END SOLUTION\n",
    "answer_4.08  <- NULL\n",
    "### BEGIN SOLUTION\n",
    "answer_4.09  <- log(24/10)\n",
    "### END SOLUTION\n",
    "answer_4.09  <- NULL"
   ]
  },
  {
   "cell_type": "markdown",
   "metadata": {
    "nbgrader": {
     "grade": true,
     "grade_id": "cell-8dfa61bde708ca22",
     "locked": false,
     "points": 0,
     "schema_version": 3,
     "solution": true,
     "task": false
    }
   },
   "source": [
    "Provide answer for **4.10** below.\n",
    "\n",
    "### BEGIN SOLUTION\n",
    "$p(X)=\\frac{1}{1+e^{-(\\beta_0+\\beta_1X)}}$\n",
    "### END SOLUTION"
   ]
  },
  {
   "cell_type": "code",
   "execution_count": null,
   "metadata": {
    "nbgrader": {
     "grade": true,
     "grade_id": "cell-0947b02de16f73ac",
     "locked": true,
     "points": 1,
     "schema_version": 3,
     "solution": false,
     "task": false
    }
   },
   "outputs": [],
   "source": [
    "nbtest(answer_4.01,'29c478f4f3c90fa15d67b25b757c2293')"
   ]
  },
  {
   "cell_type": "code",
   "execution_count": null,
   "metadata": {
    "nbgrader": {
     "grade": true,
     "grade_id": "cell-3961e54fc19a6ec5",
     "locked": true,
     "points": 1,
     "schema_version": 3,
     "solution": false,
     "task": false
    }
   },
   "outputs": [],
   "source": [
    "nbtest(answer_4.02,'014c3467f3d9a300117752bbdd722aaf')"
   ]
  },
  {
   "cell_type": "code",
   "execution_count": null,
   "metadata": {
    "nbgrader": {
     "grade": true,
     "grade_id": "cell-45a76164d0beea1b",
     "locked": true,
     "points": 1,
     "schema_version": 3,
     "solution": false,
     "task": false
    }
   },
   "outputs": [],
   "source": [
    "nbtest(answer_4.03,'c4fecd2200bfc28e365a80b3cd4790d9')"
   ]
  },
  {
   "cell_type": "code",
   "execution_count": null,
   "metadata": {
    "nbgrader": {
     "grade": true,
     "grade_id": "cell-8972138d0503c059",
     "locked": true,
     "points": 1,
     "schema_version": 3,
     "solution": false,
     "task": false
    }
   },
   "outputs": [],
   "source": [
    "nbtest(answer_4.04,'2a6a07ffff96134ac522c128b7be3344')"
   ]
  },
  {
   "cell_type": "code",
   "execution_count": null,
   "metadata": {
    "nbgrader": {
     "grade": true,
     "grade_id": "cell-3050984a05da32ba",
     "locked": true,
     "points": 1,
     "schema_version": 3,
     "solution": false,
     "task": false
    }
   },
   "outputs": [],
   "source": [
    "nbtest(answer_4.05,'af7a1a93a9575f0db1888bb91e4419fd')"
   ]
  },
  {
   "cell_type": "code",
   "execution_count": null,
   "metadata": {
    "nbgrader": {
     "grade": true,
     "grade_id": "cell-5d2a5cdc179dd318",
     "locked": true,
     "points": 1,
     "schema_version": 3,
     "solution": false,
     "task": false
    }
   },
   "outputs": [],
   "source": [
    "nbtest(answer_4.06,'6717f2823d3202449301145073ab8719')"
   ]
  },
  {
   "cell_type": "code",
   "execution_count": null,
   "metadata": {
    "nbgrader": {
     "grade": true,
     "grade_id": "cell-f018c8fe266930a9",
     "locked": true,
     "points": 1,
     "schema_version": 3,
     "solution": false,
     "task": false
    }
   },
   "outputs": [],
   "source": [
    "nbtest(answer_4.07,'5d4ca65e8b2fb8f85cec1a0eb5dd463f')"
   ]
  },
  {
   "cell_type": "code",
   "execution_count": null,
   "metadata": {
    "nbgrader": {
     "grade": true,
     "grade_id": "cell-f1f9eff27045e389",
     "locked": true,
     "points": 1,
     "schema_version": 3,
     "solution": false,
     "task": false
    }
   },
   "outputs": [],
   "source": [
    "nbtest(answer_4.08,'2c83a78ae2879b46512b3b7ead3268d5')"
   ]
  },
  {
   "cell_type": "code",
   "execution_count": null,
   "metadata": {
    "nbgrader": {
     "grade": true,
     "grade_id": "cell-6488cf935c01b311",
     "locked": true,
     "points": 1,
     "schema_version": 3,
     "solution": false,
     "task": false
    }
   },
   "outputs": [],
   "source": [
    "nbtest(answer_4.09,'3d8fda84f637dca9c59f1ea85b986286')"
   ]
  },
  {
   "cell_type": "markdown",
   "metadata": {},
   "source": [
    "## (Optional) Exercise 5\n",
    "rubric={reasoning:1}\n",
    "\n",
    "Consider a weighted 6-sided die with probabilities $p_1,\\ldots, p_6$. What values of the $\\{p_i\\}$ lead to the highest entropy distribution? Lowest entropy? Is the answer unique? Why/why not? Provide answer below and include your reasoning. "
   ]
  },
  {
   "cell_type": "markdown",
   "metadata": {
    "nbgrader": {
     "grade": true,
     "grade_id": "cell-794043c709a778fe",
     "locked": false,
     "points": 0,
     "schema_version": 3,
     "solution": true
    }
   },
   "source": [
    "Provide answer for question **5** below.\n",
    "\n",
    "### BEGIN SOLUTION\n",
    "Highest entropy: uniform (yes, unique)\n",
    "Lowest entropy: all mass on a single digit (doesn't matter which one so no, not unique).\n",
    "### END SOLUTION"
   ]
  },
  {
   "cell_type": "markdown",
   "metadata": {
    "nbgrader": {
     "grade": true,
     "grade_id": "cell-120cd08cc240c3dd",
     "locked": false,
     "points": 0,
     "schema_version": 3,
     "solution": true
    }
   },
   "source": [
    "**Leave this cell blank**\n",
    "\n",
    "### BEGIN SOLUTION\n",
    "Exercise 1:    \n",
    "\n",
    "1. $1-P(A_1)=0.88$\n",
    "2. $P(A_1)+P(A_2)-P(A_1\\cup A_2)=0.12+0.07-0.13=0.06$\n",
    "3. $P(A_1\\cap A_2)-P(A_1\\cap A_2 \\cap A_3)=0.06-0.01=0.05$\n",
    "4. $0.86$\n",
    "5. $0.09$\n",
    "\n",
    "Exercise 2a:  \n",
    "1. $0.9(-\\$5)+0.09(\\$5)+0.01(\\$45)=-\\$3.6$\n",
    "2. $0$\n",
    "3. $0.9$\n",
    "4. $-\\$5$\n",
    "5. $\\$45$\n",
    "6. $-\\$5$  \n",
    "\n",
    "Exercise 2b:  \n",
    "1. $\\$4500$\n",
    "2. $-\\$500$\n",
    "3. $100E(X)=-\\$360$\n",
    "\n",
    "Exercise 2c:  \n",
    "Let's consider the probability to _not_ play at least 13 games, i.e. to go bankrupt after 12 or fewer games. If you win the jackpot once then this can't happen, since losing all the other games isn't enough to go bankrupt after winning the jackpot. So, we can ignore the jackpot entirely. Then, to calculate this, we need to add up the probabilities of the different cases, which are: bankrupt after 10 games, 11 games, or 12 games. The probability of going bankrupt after 10 games is $(0.9)^{10}$. The probability of going bankrupt after 11 games is zero, because if we win once then we need to lose 11 times to go bankrupt. The probability of going bankrupt after 12 games is $10(0.9)^{11}(0.09)$. This is tricky: the binomial coefficient would normally be 12, not 10, but you can't win at the last or second-last round since, in those cases, you would have already gone bankrupt. Thus, the final answer is $1-\\left((0.9)^{10}+10(0.9)^{11}(0.09)\\right)\\approx0.37$.\n",
    "\n",
    "Exercise 3:  \n",
    "1. $C\\left(1+\\frac14+\\frac19+\\frac{1}{16}\\right)\\approx 1.42C$\n",
    "2. $C(1.25)^2=1.5625C$\n",
    "3. $1$\n",
    "4. $P(X<4)=C\\left(1+\\frac14+\\frac19\\right)\\approx 1.36C$\n",
    "5. $P(X>2)=1-P(X\\leq 2)=1-C\\left(1+1/4\\right)$\n",
    "6. $1-\\left(P(X=2)+P(X=3)+P(X=4)\\right)=1-C\\left(1/4+1/9+1/16\\right)$\n",
    "7. $P(X=3)=C/9$\n",
    "8. $P(X<2)=P(X=1)=C$\n",
    "9. $P(X>4)=1-\\left(P(X=1)+P(X=2)+P(X=3)+P(X=4)\\right)=1-C\\left(1+1/4+1/9+1/16\\right)$\n",
    "10. $0$\n",
    "11. $\\sum_{i=1}^\\infty C/i=\\infty$\n",
    "\n",
    "Exercise 4:\n",
    "1. 10/34\n",
    "2. 10/24\n",
    "3. 24/10\n",
    "4. 3/7\n",
    "5. 10*(5/3)\n",
    "6. 1/1\n",
    "7. Inf\n",
    "8. log(10/24)\n",
    "9. log(24/10)\n",
    "10. For natural logarithm: $p(X)=\\frac{1}{1+e^{-(\\beta_0+\\beta_1X)}}$, for logarithm to any base *b* : $p(X)=\\frac{1}{1+b^{-(\\beta_0+\\beta_1X)}}$\n",
    "\n",
    "Exercise 5:  \n",
    "- Highest entropy: uniform (yes, unique)\n",
    "- Lowest entropy: all mass on a single digit (doesn't matter which one so no, not unique)\n",
    "\n",
    "### END SOLUTION"
   ]
  }
 ],
 "metadata": {
  "Rmd_header": {
   "output": "pdf_document",
   "title": "DSCI 551 Lab 1",
   "urlcolor": "blue"
  },
  "celltoolbar": "Create Assignment",
  "kernelspec": {
   "display_name": "R",
   "language": "R",
   "name": "ir"
  },
  "language_info": {
   "codemirror_mode": "r",
   "file_extension": ".r",
   "mimetype": "text/x-r-source",
   "name": "R",
   "pygments_lexer": "r",
   "version": "3.5.1"
  }
 },
 "nbformat": 4,
 "nbformat_minor": 4
}
